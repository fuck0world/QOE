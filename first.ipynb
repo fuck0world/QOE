{
 "cells": [
  {
   "cell_type": "code",
   "execution_count": 6,
   "metadata": {},
   "outputs": [
    {
     "name": "stderr",
     "output_type": "stream",
     "text": [
      "C:\\Users\\ppxx\\Anaconda3\\envs\\tensorflow\\lib\\site-packages\\pandas\\core\\indexing.py:179: SettingWithCopyWarning: \n",
      "A value is trying to be set on a copy of a slice from a DataFrame\n",
      "\n",
      "See the caveats in the documentation: http://pandas.pydata.org/pandas-docs/stable/indexing.html#indexing-view-versus-copy\n",
      "  self._setitem_with_indexer(indexer, value)\n"
     ]
    }
   ],
   "source": [
    "# -*- coding: utf-8 -*-\n",
    "import xlrd\n",
    "import pandas as pd\n",
    "import numpy as np\n",
    "import matplotlib.pyplot as plt\n",
    "import os\n",
    "\n",
    "# 将根目录下的所有表格读入\n",
    "def load_data(root_path):\n",
    "    file_list = os.listdir(root_path)\n",
    "    file_num = len(file_list)\n",
    "    df = pd.DataFrame()\n",
    "    for i in range(file_num):\n",
    "        temp = pd.DataFrame(pd.read_excel(root_path + file_list[i]))\n",
    "        df = pd.concat([df,temp], ignore_index = True)\n",
    "    return df\n",
    "\n",
    "rootdir_1 = 'E:\\\\备份\\\\训练数据汇总(8W)\\\\四川\\\\'\n",
    "rootdir_2 = 'E:\\\\备份\\\\训练数据汇总(8W)\\\\南京\\\\'\n",
    "df_1 = load_data(rootdir_1)\n",
    "df_2 = load_data(rootdir_2)\n",
    "\n",
    "head_1 = df_1.columns.values.tolist()\n",
    "head_2 = df_2.columns.values.tolist()\n",
    "interSection = [val for val in head_1 if val in head_2]\n",
    "different_21 = list(set(head_2).difference(set(head_1)))\n",
    "different_12 = list(set(head_1).difference(set(head_2)))\n",
    "\n",
    "data_1 = df_1[['SCREEN_RESOLUTION_LONG', 'SCREEN_RESOLUTION_WIDTH', 'VIDEO_CLARITY', 'VIDEO_BITRATE',\n",
    "            'BUFFERING_DELAY', 'VIDEO_BUFFERING_PEAK_RATE', 'VIDEO_REBUFF_NUM', 'VIDEO_REBUFF_TOTAL_TIME',\n",
    "            'VIDEO_TOTAL_TIME', 'VIDEO_PLAY_TOTAL_TIME', 'VIDEO_ALL_PEAK_RATE', 'VIDEO_AVERAGE_RATE', \n",
    "            'PHONE_PLACE_STATE', 'ENVIRONMENTAL_NOISE', 'NETWORK_TYPE', 'MCC', 'USERBUFFERTIME',\n",
    "            'GPS_LONGITUDE_FIVE', 'INSTAN_DOWNLOAD_SPEED', 'USER_SCORE', 'USER_NAME']]\n",
    "data_2 = df_2[['SCREEN_RESOLUTION_LONG', 'SCREEN_RESOLUTION_WIDTH', 'VIDEO_CLARITY', 'VIDEO_BITRATE',\n",
    "            'BUFFERING_DELAY', 'VIDEO_PEAK_RATE', 'VIDEO_KA_NUM', 'VIDEO_KA_TOTAL_TIME', \n",
    "            'VIDEO_TOTAL_TIME', 'VIDEO_PLAY_TOTAL_TIME', 'VIDEO_ALL_PEAK_RATE', 'VIDEO_AVERAGE_PEAK_RATE',\n",
    "            'PHONE_ELECTRIC_START', 'PHONE_ELECTRIC_END', 'PHONE_VERSION', 'PING_AVG_RTT', 'SIGNAL_STRENGTH',\n",
    "            'USER_SCORE', 'ELOADING', 'ESTALLING', 'EVMOS']]\n",
    "\n",
    "column_name = ['SCREEN_RESOLUTION_LONG', 'SCREEN_RESOLUTION_WIDTH', 'VIDEO_CLARITY', 'VIDEO_BITRATE',\n",
    "            'INITIAL_DELAY', 'INITIAL_DELAY_PEAK_RATE', 'VIDEO_STALLING_NUM', 'VIDEO_STALLING_TOTAL_TIME', \n",
    "            'VIDEO_TOTAL_TIME', 'VIDEO_PLAY_TOTAL_TIME', 'VIDEO_ALL_PEAK_RATE', 'VIDEO_AVERAGE_RATE',\n",
    "            'PHONE_ELECTRIC_START', 'PHONE_ELECTRIC_END', 'PHONE_VERSION', 'PING_AVG_RTT', 'SIGNAL_STRENGTH',\n",
    "            'USER_SCORE', 'ELOADING', 'ESTALLING', 'EVMOS']\n",
    "data_1.columns = column_name\n",
    "data_2.columns = column_name\n",
    "\n",
    "raw_data = pd.concat([data_1,data_2], axis = 0)\n",
    "raw_data = raw_data.reset_index(drop = True)\n",
    "\n",
    "raw_data['VIDEO_CLARITY'].loc[raw_data['VIDEO_CLARITY'] == 240] = 1\n",
    "raw_data['VIDEO_CLARITY'].loc[raw_data['VIDEO_CLARITY'] == 360] = 2\n",
    "raw_data['VIDEO_CLARITY'].loc[raw_data['VIDEO_CLARITY'] == 720] = 3\n",
    "raw_data['VIDEO_CLARITY'].loc[raw_data['VIDEO_CLARITY'] == 1080] = 4\n",
    "raw_data['VIDEO_CLARITY'].loc[raw_data['VIDEO_CLARITY'] == 800] = 0\n",
    "raw_data['VIDEO_CLARITY'].loc[raw_data['VIDEO_CLARITY'] == 808] = 0\n",
    "raw_data_1 = raw_data[-raw_data.VIDEO_CLARITY.isin([0])]\n",
    "raw_data_1 = raw_data.reset_index(drop = True)\n",
    "\n",
    "raw_data_1['PIXEL_NUMBER'] = raw_data_1['SCREEN_RESOLUTION_LONG'] * raw_data_1['SCREEN_RESOLUTION_WIDTH']\n",
    "raw_data_1['BATTERY_LOSS'] = raw_data_1['PHONE_ELECTRIC_START'] - raw_data_1['PHONE_ELECTRIC_END']\n",
    "\n",
    "stalling_num = raw_data_1['VIDEO_STALLING_NUM']\n",
    "stalling_total_time = raw_data_1['VIDEO_STALLING_TOTAL_TIME']\n",
    "mean = []\n",
    "for i in range(len(stalling_num)):\n",
    "    if stalling_num[i] != 0:\n",
    "        mean.append(stalling_total_time[i] / stalling_num[i])\n",
    "    else:\n",
    "        mean.append(0)\n",
    "raw_data_1['MEAN_STALLING_DURATION'] = mean\n",
    "                                       \n",
    "raw_data_1['ALL_DOWCLOAD_BIT'] = raw_data_1['VIDEO_PLAY_TOTAL_TIME'] * raw_data_1['VIDEO_AVERAGE_RATE']\n",
    "raw_data_1['VIDEO_SIZE'] = raw_data_1['VIDEO_TOTAL_TIME'] * raw_data_1['VIDEO_BITRATE']"
   ]
  },
  {
   "cell_type": "code",
   "execution_count": 11,
   "metadata": {},
   "outputs": [],
   "source": [
    "raw_data_1 = raw_data_1.drop('SIGNAL_STRENGTH', 1)"
   ]
  },
  {
   "cell_type": "code",
   "execution_count": null,
   "metadata": {},
   "outputs": [],
   "source": [
    "raw_data_1.info()"
   ]
  },
  {
   "cell_type": "code",
   "execution_count": 14,
   "metadata": {},
   "outputs": [
    {
     "name": "stderr",
     "output_type": "stream",
     "text": [
      "C:\\Users\\ppxx\\Anaconda3\\envs\\tensorflow\\lib\\site-packages\\pandas\\core\\indexing.py:179: SettingWithCopyWarning: \n",
      "A value is trying to be set on a copy of a slice from a DataFrame\n",
      "\n",
      "See the caveats in the documentation: http://pandas.pydata.org/pandas-docs/stable/indexing.html#indexing-view-versus-copy\n",
      "  self._setitem_with_indexer(indexer, value)\n"
     ]
    },
    {
     "data": {
      "text/plain": [
       "1    56857\n",
       "0    24317\n",
       "Name: error, dtype: int64"
      ]
     },
     "execution_count": 14,
     "metadata": {},
     "output_type": "execute_result"
    }
   ],
   "source": [
    "raw_data_1['error'] = raw_data_1['VIDEO_SIZE'] - raw_data_1['ALL_DOWCLOAD_BIT']\n",
    "raw_data_1['error'].loc[raw_data_1['error'] > 0] = 1\n",
    "raw_data_1['error'].loc[raw_data_1['error'] < 0] = 0\n",
    "raw_data_1['error'].value_counts()"
   ]
  },
  {
   "cell_type": "code",
   "execution_count": 15,
   "metadata": {
    "collapsed": true
   },
   "outputs": [],
   "source": [
    "import re"
   ]
  },
  {
   "cell_type": "code",
   "execution_count": 16,
   "metadata": {},
   "outputs": [],
   "source": [
    "a = raw_data_1.loc[:,'PING_AVG_RTT']"
   ]
  },
  {
   "cell_type": "code",
   "execution_count": 17,
   "metadata": {},
   "outputs": [
    {
     "name": "stderr",
     "output_type": "stream",
     "text": [
      "C:\\Users\\ppxx\\Anaconda3\\envs\\tensorflow\\lib\\site-packages\\ipykernel_launcher.py:6: SettingWithCopyWarning: \n",
      "A value is trying to be set on a copy of a slice from a DataFrame\n",
      "\n",
      "See the caveats in the documentation: http://pandas.pydata.org/pandas-docs/stable/indexing.html#indexing-view-versus-copy\n",
      "  \n",
      "C:\\Users\\ppxx\\Anaconda3\\envs\\tensorflow\\lib\\site-packages\\ipykernel_launcher.py:4: SettingWithCopyWarning: \n",
      "A value is trying to be set on a copy of a slice from a DataFrame\n",
      "\n",
      "See the caveats in the documentation: http://pandas.pydata.org/pandas-docs/stable/indexing.html#indexing-view-versus-copy\n",
      "  after removing the cwd from sys.path.\n"
     ]
    }
   ],
   "source": [
    "for i in range(len(a)):\n",
    "    if type(a[i]) == str:\n",
    "        if 'ms' in a[i]:\n",
    "            a[i] = a[i].strip('ms')\n",
    "        if '.' in a[i]:\n",
    "            a[i] = float(a[i])"
   ]
  },
  {
   "cell_type": "code",
   "execution_count": 18,
   "metadata": {},
   "outputs": [],
   "source": [
    "raw_data_1.loc[:,'PING_AVG_RTT'] = a"
   ]
  },
  {
   "cell_type": "code",
   "execution_count": null,
   "metadata": {},
   "outputs": [],
   "source": [
    "raw_data_1.shape"
   ]
  },
  {
   "cell_type": "code",
   "execution_count": 19,
   "metadata": {},
   "outputs": [],
   "source": [
    "raw_data_1 = raw_data_1.dropna()\n",
    "raw_data_1 = raw_data_1.reset_index(drop = True)"
   ]
  },
  {
   "cell_type": "code",
   "execution_count": 23,
   "metadata": {},
   "outputs": [
    {
     "name": "stdout",
     "output_type": "stream",
     "text": [
      "<class 'pandas.core.frame.DataFrame'>\n",
      "RangeIndex: 70153 entries, 0 to 70152\n",
      "Data columns (total 26 columns):\n",
      "SCREEN_RESOLUTION_LONG       70153 non-null float64\n",
      "SCREEN_RESOLUTION_WIDTH      70153 non-null float64\n",
      "VIDEO_CLARITY                70153 non-null object\n",
      "VIDEO_BITRATE                70153 non-null object\n",
      "INITIAL_DELAY                70153 non-null object\n",
      "INITIAL_DELAY_PEAK_RATE      70153 non-null float64\n",
      "VIDEO_STALLING_NUM           70153 non-null object\n",
      "VIDEO_STALLING_TOTAL_TIME    70153 non-null object\n",
      "VIDEO_TOTAL_TIME             70153 non-null float64\n",
      "VIDEO_PLAY_TOTAL_TIME        70153 non-null object\n",
      "VIDEO_ALL_PEAK_RATE          70153 non-null object\n",
      "VIDEO_AVERAGE_RATE           70153 non-null object\n",
      "PHONE_ELECTRIC_START         70153 non-null object\n",
      "PHONE_ELECTRIC_END           70153 non-null object\n",
      "PHONE_VERSION                70153 non-null object\n",
      "PING_AVG_RTT                 70153 non-null object\n",
      "USER_SCORE                   70153 non-null float64\n",
      "ELOADING                     70153 non-null float64\n",
      "ESTALLING                    70153 non-null float64\n",
      "EVMOS                        70153 non-null float64\n",
      "PIXEL_NUMBER                 70153 non-null float64\n",
      "BATTERY_LOSS                 70153 non-null object\n",
      "MEAN_STALLING_DURATION       70153 non-null float64\n",
      "ALL_DOWCLOAD_BIT             70153 non-null object\n",
      "VIDEO_SIZE                   70153 non-null object\n",
      "error                        70153 non-null object\n",
      "dtypes: float64(10), object(16)\n",
      "memory usage: 13.9+ MB\n"
     ]
    }
   ],
   "source": [
    "raw_data_1.info()"
   ]
  },
  {
   "cell_type": "code",
   "execution_count": 201,
   "metadata": {},
   "outputs": [],
   "source": [
    "phone = raw_data_1['PHONE_VERSION'].tolist()"
   ]
  },
  {
   "cell_type": "code",
   "execution_count": 216,
   "metadata": {},
   "outputs": [],
   "source": [
    "phone_name = ['IPHONE', 'XIAOMI', 'HUAWEI', 'HONOR', 'VIVO', 'OPPO', \n",
    "              'LENOVO', 'COOLPAD','SAMSUNG', 'MEIZU', 'LE','GIONEE' ,'ONEPLUS' ,'360',\n",
    "              'K-TOUCH', 'KOPO', 'NOKIA', 'SONY','NUBIA', 'SMARTISAN', 'MOTOROLA', 'ZTE']"
   ]
  },
  {
   "cell_type": "code",
   "execution_count": 217,
   "metadata": {},
   "outputs": [],
   "source": [
    "for index, name in enumerate(phone):\n",
    "    for i in range(len(phone_name)):\n",
    "        if phone_name[i] in name.upper():\n",
    "            phone[index] = phone_name[i]"
   ]
  },
  {
   "cell_type": "code",
   "execution_count": 218,
   "metadata": {},
   "outputs": [],
   "source": [
    "raw_data_1['PHONE_VERSION'] = phone"
   ]
  },
  {
   "cell_type": "code",
   "execution_count": 220,
   "metadata": {
    "collapsed": true
   },
   "outputs": [],
   "source": [
    "raw_data_1.to_csv('E:\\\\备份\\\\训练数据汇总(8W)\\\\409.csv')"
   ]
  },
  {
   "cell_type": "code",
   "execution_count": 64,
   "metadata": {
    "collapsed": true
   },
   "outputs": [],
   "source": [
    "from sklearn.feature_extraction.text import CountVectorizer\n",
    "vec = CountVectorizer()"
   ]
  },
  {
   "cell_type": "code",
   "execution_count": null,
   "metadata": {
    "collapsed": true
   },
   "outputs": [],
   "source": []
  },
  {
   "cell_type": "code",
   "execution_count": null,
   "metadata": {
    "collapsed": true
   },
   "outputs": [],
   "source": []
  },
  {
   "cell_type": "code",
   "execution_count": 71,
   "metadata": {},
   "outputs": [],
   "source": [
    "X_train = vec.fit_transform(phone_num).toarray()"
   ]
  },
  {
   "cell_type": "code",
   "execution_count": 74,
   "metadata": {},
   "outputs": [
    {
     "data": {
      "text/plain": [
       "(70153, 312)"
      ]
     },
     "execution_count": 74,
     "metadata": {},
     "output_type": "execute_result"
    }
   ],
   "source": [
    "X_train.shape"
   ]
  },
  {
   "cell_type": "code",
   "execution_count": 41,
   "metadata": {},
   "outputs": [
    {
     "ename": "ValueError",
     "evalue": "could not convert string to float: 'HUAWEITRT-AL00'",
     "output_type": "error",
     "traceback": [
      "\u001b[1;31m---------------------------------------------------------------------------\u001b[0m",
      "\u001b[1;31mValueError\u001b[0m                                Traceback (most recent call last)",
      "\u001b[1;32m<ipython-input-41-f8c01f343574>\u001b[0m in \u001b[0;36m<module>\u001b[1;34m()\u001b[0m\n\u001b[1;32m----> 1\u001b[1;33m \u001b[0marray\u001b[0m \u001b[1;33m=\u001b[0m \u001b[0mnp\u001b[0m\u001b[1;33m.\u001b[0m\u001b[0marray\u001b[0m\u001b[1;33m(\u001b[0m\u001b[0mraw_data_1\u001b[0m\u001b[1;33m,\u001b[0m \u001b[0mdtype\u001b[0m \u001b[1;33m=\u001b[0m \u001b[0mnp\u001b[0m\u001b[1;33m.\u001b[0m\u001b[0mfloat\u001b[0m\u001b[1;33m)\u001b[0m\u001b[1;33m\u001b[0m\u001b[0m\n\u001b[0m\u001b[0;32m      2\u001b[0m \u001b[0mdataset\u001b[0m \u001b[1;33m=\u001b[0m \u001b[0mpd\u001b[0m\u001b[1;33m.\u001b[0m\u001b[0mDataFrame\u001b[0m\u001b[1;33m(\u001b[0m\u001b[0marray\u001b[0m\u001b[1;33m,\u001b[0m \u001b[0mcolumns\u001b[0m \u001b[1;33m=\u001b[0m \u001b[0mcolumn_name\u001b[0m\u001b[1;33m)\u001b[0m\u001b[1;33m\u001b[0m\u001b[0m\n",
      "\u001b[1;31mValueError\u001b[0m: could not convert string to float: 'HUAWEITRT-AL00'"
     ]
    }
   ],
   "source": [
    "array = np.array(raw_data_1, dtype = np.float)\n",
    "dataset = pd.DataFrame(array, columns = column_name)"
   ]
  },
  {
   "cell_type": "code",
   "execution_count": null,
   "metadata": {
    "collapsed": true
   },
   "outputs": [],
   "source": []
  },
  {
   "cell_type": "code",
   "execution_count": null,
   "metadata": {},
   "outputs": [],
   "source": [
    "import seaborn as sns"
   ]
  },
  {
   "cell_type": "code",
   "execution_count": null,
   "metadata": {},
   "outputs": [],
   "source": [
    "colormap = plt.cm.RdBu\n",
    "plt.figure(figsize=(20, 20))\n",
    "sns.heatmap(raw_data_1.corr(), linewidth=0.1, vmax=1.0, square=True, cmap=colormap, linecolor='white', \n",
    "            annot=True)\n",
    "plt.show()"
   ]
  },
  {
   "cell_type": "code",
   "execution_count": null,
   "metadata": {
    "collapsed": true
   },
   "outputs": [],
   "source": []
  }
 ],
 "metadata": {
  "kernelspec": {
   "display_name": "Python 3",
   "language": "python",
   "name": "python3"
  },
  "language_info": {
   "codemirror_mode": {
    "name": "ipython",
    "version": 3
   },
   "file_extension": ".py",
   "mimetype": "text/x-python",
   "name": "python",
   "nbconvert_exporter": "python",
   "pygments_lexer": "ipython3",
   "version": "3.5.2"
  }
 },
 "nbformat": 4,
 "nbformat_minor": 2
}
