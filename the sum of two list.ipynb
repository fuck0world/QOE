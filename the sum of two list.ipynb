{
 "cells": [
  {
   "cell_type": "code",
   "execution_count": 1,
   "metadata": {
    "collapsed": true
   },
   "outputs": [],
   "source": [
    "class ListNode:\n",
    "    def __init__(self, x):\n",
    "        self.val = x\n",
    "        self.next = None\n",
    "\n",
    "class Solution:\n",
    "    def get_number(self, l):\n",
    "        \n",
    "        # 将各位数字相加\n",
    "        head = l\n",
    "        ret = n = 0\n",
    "        while head:\n",
    "            ret += head.val * 10 ** n\n",
    "            head = head.next\n",
    "            n += 1\n",
    "        return ret\n",
    "\n",
    "    def addTwoNumbers(self, l1, l2):\n",
    "        \n",
    "        \"\"\"\n",
    "        :type l1: ListNode\n",
    "        :type l2: ListNode\n",
    "        :rtype: ListNode\n",
    "        \"\"\"\n",
    "        # 求和\n",
    "        num = self.get_number(l1) + self.get_number(l2)\n",
    "        # 结果生成链表\n",
    "        ret = ListNode(None)\n",
    "        head = ret\n",
    "        while 1:\n",
    "            num, k = divmod(num, 10)\n",
    "            head.next = ListNode(k)\n",
    "            head = head.next\n",
    "            if num == 0:\n",
    "                break\n",
    "        return ret.next"
   ]
  },
  {
   "cell_type": "code",
   "execution_count": 2,
   "metadata": {},
   "outputs": [
    {
     "name": "stdout",
     "output_type": "stream",
     "text": [
      "7\n",
      "0\n",
      "0\n",
      "1\n"
     ]
    }
   ],
   "source": [
    "# 创建对象Solution \n",
    "sol = Solution() \n",
    "\n",
    "# 定义l1链表 \n",
    "l1 = ListNode(2) \n",
    "l1.next = l11 = ListNode(4)\n",
    "l11.next = l12 = ListNode(5)\n",
    "\n",
    "#定义l2链表 \n",
    "l2 = ListNode(5) \n",
    "l2.next = l21 = ListNode(6) \n",
    "l21.next = l22 = ListNode(4)\n",
    "\n",
    "# 获取返回值的链表 \n",
    "res = sol.addTwoNumbers(l1, l2) \n",
    "\n",
    "# 循环遍历出来 \n",
    "while res: \n",
    "    print(res.val) \n",
    "    res = res.next"
   ]
  },
  {
   "cell_type": "code",
   "execution_count": null,
   "metadata": {
    "collapsed": true
   },
   "outputs": [],
   "source": []
  }
 ],
 "metadata": {
  "kernelspec": {
   "display_name": "Python 3",
   "language": "python",
   "name": "python3"
  },
  "language_info": {
   "codemirror_mode": {
    "name": "ipython",
    "version": 3
   },
   "file_extension": ".py",
   "mimetype": "text/x-python",
   "name": "python",
   "nbconvert_exporter": "python",
   "pygments_lexer": "ipython3",
   "version": "3.5.2"
  }
 },
 "nbformat": 4,
 "nbformat_minor": 2
}
