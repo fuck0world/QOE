{
 "cells": [
  {
   "cell_type": "code",
   "execution_count": null,
   "metadata": {},
   "outputs": [],
   "source": [
    "import tensorflow as tf\n",
    "import math\n",
    "import numpy as np"
   ]
  },
  {
   "cell_type": "code",
   "execution_count": null,
   "metadata": {},
   "outputs": [],
   "source": [
    "BN_DECAY = 0.999\n",
    "BN_EPSILON = 1e-3\n",
    "WEIGHT_DECAY = 1e-4 \n",
    "NET_VARIABLES = 'network_variables'\n",
    "\n",
    "setting = [6,10,5,3]\n",
    "batchsize = 128\n",
    "activatefun = tf.nn.sigmoid\n",
    "learning_rate = 0.01\n",
    "\n",
    "network_setting = setting\n",
    "network_activatefun = activatefun\n",
    "network_train_batchsize = batchsize\n",
    "network_learning_rate = learning_rate \n",
    "input_placeholder = tf.placeholder(tf.float32, shape=( network_train_batchsize, network_setting[0] ))\n",
    "output_placeholder = tf.placeholder(tf.float32, shape=( network_train_batchsize, network_setting[-1] ))\n",
    "\n",
    "input = input_placeholder\n",
    "output = output_placeholder\n",
    "activation = network_activatefun\n",
    "x = input\n",
    "i = 0"
   ]
  },
  {
   "cell_type": "code",
   "execution_count": null,
   "metadata": {},
   "outputs": [],
   "source": [
    "for i in range(len(network_setting) - 1):\n",
    "            with tf.variable_scope('Layer%d' % (i + 1)):\n",
    "                initializer = tf.truncated_normal_initializer( stddev = math.sqrt(1.0/float(network_setting[0])) )\n",
    "                regularizer = tf.contrib.layers.l2_regularizer(WEIGHT_DECAY)\n",
    "                collections = [tf.GraphKeys.GLOBAL_VARIABLES, NET_VARIABLES]\n",
    "                weights = tf.get_variable('weights',\n",
    "                              shape = [network_setting[i], network_setting[i+1]],\n",
    "                              dtype = 'float',\n",
    "                              initializer = initializer)\n",
    "                biases = tf.get_variable('biases', \n",
    "                             weights.get_shape()[-1:],\n",
    "                             initializer = tf.zeros_initializer)\n",
    "            x = activation(tf.matmul(x, weights) + biases)\n",
    "network_output = x"
   ]
  },
  {
   "cell_type": "code",
   "execution_count": null,
   "metadata": {},
   "outputs": [],
   "source": [
    "with tf.Session() as sess:\n",
    "    sess.run(tf.global_variables_initializer())\n",
    "    print(sess.run(weights))"
   ]
  },
  {
   "cell_type": "code",
   "execution_count": null,
   "metadata": {},
   "outputs": [],
   "source": [
    "weights.name"
   ]
  },
  {
   "cell_type": "code",
   "execution_count": null,
   "metadata": {},
   "outputs": [],
   "source": [
    "global_step"
   ]
  },
  {
   "cell_type": "code",
   "execution_count": null,
   "metadata": {},
   "outputs": [],
   "source": [
    "import numpy as np\n",
    " \n",
    "x = tf.constant([[1,1,1],[2,2,2]])\n",
    "\n",
    "with tf.Session() as sess:\n",
    "    print(sess.run(x))\n",
    "    \n",
    "with tf.Session() as sess:\n",
    "    print(sess.run(tf.reduce_sum(x,reduction_indices=[1])))"
   ]
  },
  {
   "cell_type": "code",
   "execution_count": null,
   "metadata": {},
   "outputs": [],
   "source": [
    "x = tf.Variable(3, name='x')\n",
    "y = x * 5\n",
    "print(y)"
   ]
  },
  {
   "cell_type": "code",
   "execution_count": null,
   "metadata": {},
   "outputs": [],
   "source": [
    "import tensorflow as tf \n",
    "x = tf.Variable(3, name='x') \n",
    "y = x * 5 \n",
    "sess = tf.InteractiveSession() \n",
    "sess.run(tf.global_variables_initializer()) \n",
    "sess.run(y)\n"
   ]
  },
  {
   "cell_type": "code",
   "execution_count": null,
   "metadata": {},
   "outputs": [],
   "source": [
    "init = tf.constant_initializer([5]) \n",
    "x = tf.get_variable('x', shape=[1], initializer=init) \n",
    "sess = tf.InteractiveSession() \n",
    "sess.run(x.initializer) \n",
    "sess.run(x) \n",
    "\n"
   ]
  },
  {
   "cell_type": "code",
   "execution_count": null,
   "metadata": {},
   "outputs": [],
   "source": [
    "for i in range(4): \n",
    "    with tf.variable_scope('scope-{}'.format(i)): \n",
    "        for j in range(25): \n",
    "            v = tf.Variable(1, name=str(j))\n"
   ]
  },
  {
   "cell_type": "code",
   "execution_count": null,
   "metadata": {},
   "outputs": [],
   "source": [
    "with tf.variable_scope('scope'):\n",
    "    v1 = tf.Variable(1, name='var') \n",
    "    v2 = tf.Variable(2, name='var')\n",
    "v1.name, v2.name"
   ]
  },
  {
   "cell_type": "code",
   "execution_count": null,
   "metadata": {},
   "outputs": [],
   "source": [
    "with tf.variable_scope('scope1'): \n",
    "    v1 = tf.get_variable('var', shape=[1])\n",
    "with tf.variable_scope('scope2'): \n",
    "    v2 = tf.get_variable('var', shape=[1])\n",
    "v1.name, v2.name"
   ]
  },
  {
   "cell_type": "code",
   "execution_count": null,
   "metadata": {},
   "outputs": [],
   "source": [
    "with tf.variable_scope('v_scope'):\n",
    "    with tf.name_scope('n_scope'):\n",
    "        x = tf.Variable([1], name='x')\n",
    "        y = tf.get_variable('x', shape=[1], dtype=tf.int32)\n",
    "        z = x + y\n",
    "x.name, y.name, z.name"
   ]
  },
  {
   "cell_type": "code",
   "execution_count": 2,
   "metadata": {},
   "outputs": [
    {
     "data": {
      "text/plain": [
       "('scope/var:0', 'scope/var:0')"
      ]
     },
     "execution_count": 2,
     "metadata": {},
     "output_type": "execute_result"
    }
   ],
   "source": [
    "with tf.variable_scope('scope'):\n",
    "    v1 = tf.get_variable('var', [1])\n",
    "    tf.get_variable_scope().reuse_variables()\n",
    "    v2 = tf.get_variable('var', [1])\n",
    "v1.name, v2.name"
   ]
  },
  {
   "cell_type": "code",
   "execution_count": 3,
   "metadata": {},
   "outputs": [
    {
     "data": {
      "text/plain": [
       "('scope/x:0', 'scope/x:0')"
      ]
     },
     "execution_count": 3,
     "metadata": {},
     "output_type": "execute_result"
    }
   ],
   "source": [
    "with tf.variable_scope('scope'): \n",
    "    v1 = tf.get_variable('x', [1]) \n",
    "with tf.variable_scope('scope', reuse=True): \n",
    "    v2 = tf.get_variable('x', [1])\n",
    "v1.name, v2.name"
   ]
  },
  {
   "cell_type": "code",
   "execution_count": 5,
   "metadata": {},
   "outputs": [
    {
     "name": "stdout",
     "output_type": "stream",
     "text": [
      "None\n"
     ]
    }
   ],
   "source": [
    "init = tf.global_variables_initializer()\n",
    "sess = tf.InteractiveSession()\n",
    "print(sess.run(init))"
   ]
  },
  {
   "cell_type": "code",
   "execution_count": null,
   "metadata": {},
   "outputs": [],
   "source": []
  }
 ],
 "metadata": {
  "kernelspec": {
   "display_name": "Python 3",
   "language": "python",
   "name": "python3"
  },
  "language_info": {
   "codemirror_mode": {
    "name": "ipython",
    "version": 3
   },
   "file_extension": ".py",
   "mimetype": "text/x-python",
   "name": "python",
   "nbconvert_exporter": "python",
   "pygments_lexer": "ipython3",
   "version": "3.6.5"
  }
 },
 "nbformat": 4,
 "nbformat_minor": 2
}
