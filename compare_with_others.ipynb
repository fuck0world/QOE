{
 "cells": [
  {
   "cell_type": "code",
   "execution_count": 1,
   "metadata": {
    "scrolled": false
   },
   "outputs": [
    {
     "name": "stderr",
     "output_type": "stream",
     "text": [
      "C:\\Users\\ppxx\\Anaconda3\\envs\\tensorflow\\lib\\site-packages\\sklearn\\utils\\fixes.py:313: FutureWarning: numpy not_equal will not check object identity in the future. The comparison did not return the same result as suggested by the identity (`is`)) and will change.\n",
      "  _nan_object_mask = _nan_object_array != _nan_object_array\n",
      "C:\\Users\\ppxx\\Anaconda3\\envs\\tensorflow\\lib\\site-packages\\sklearn\\preprocessing\\data.py:323: DataConversionWarning: Data with input dtype int64, float64 were all converted to float64 by MinMaxScaler.\n",
      "  return self.partial_fit(X, y)\n",
      "C:\\Users\\ppxx\\Anaconda3\\envs\\tensorflow\\lib\\site-packages\\sklearn\\preprocessing\\_encoders.py:363: FutureWarning: The handling of integer data will change in version 0.22. Currently, the categories are determined based on the range [0, max(values)], while in the future they will be determined based on the unique values.\n",
      "If you want the future behaviour and silence this warning, you can specify \"categories='auto'\".\n",
      "In case you used a LabelEncoder before this OneHotEncoder to convert the categories to integers, then you can now use the OneHotEncoder directly.\n",
      "  warnings.warn(msg, FutureWarning)\n",
      "C:\\Users\\ppxx\\Anaconda3\\envs\\tensorflow\\lib\\site-packages\\sklearn\\preprocessing\\_encoders.py:363: FutureWarning: The handling of integer data will change in version 0.22. Currently, the categories are determined based on the range [0, max(values)], while in the future they will be determined based on the unique values.\n",
      "If you want the future behaviour and silence this warning, you can specify \"categories='auto'\".\n",
      "In case you used a LabelEncoder before this OneHotEncoder to convert the categories to integers, then you can now use the OneHotEncoder directly.\n",
      "  warnings.warn(msg, FutureWarning)\n"
     ]
    }
   ],
   "source": [
    "import sys \n",
    "import tensorflow as tf\n",
    "import numpy as np\n",
    "import pandas as pd\n",
    "from sklearn.metrics import  accuracy_score\n",
    "from sklearn.metrics import mean_squared_error\n",
    "from sklearn.preprocessing import MinMaxScaler\n",
    "from sklearn.preprocessing import OneHotEncoder\n",
    "from sklearn.model_selection import train_test_split\n",
    "from sklearn.preprocessing import StandardScaler\n",
    "from sklearn.metrics import classification_report\n",
    "\n",
    "data = pd.read_csv('E:\\\\备份\\\\训练数据汇总(8W)\\\\2019_4_15.csv')\n",
    "data = data.loc[:, ~data.columns.str.contains('^Unnamed')]\n",
    "\n",
    "name = ['PHONE_VERSION', 'VIDEO_CLARITY']\n",
    "columns = data.columns.values.tolist()\n",
    "name_1 = [name for index, name in enumerate(columns) if name != name[0] \n",
    "          and name != name[1]]\n",
    "\n",
    "scaler = MinMaxScaler()\n",
    "X1 = data[name_1[0:16]]\n",
    "X1_data = scaler.fit_transform(X1)\n",
    "Y = data[name_1[16:21]]\n",
    "X2 = data[name[0]]\n",
    "X3 = data[name[1]]\n",
    "\n",
    "X2_data = OneHotEncoder().fit_transform(X2.values.reshape(-1, 1)).todense().getA()\n",
    "X3_data = OneHotEncoder().fit_transform(X3.values.reshape(-1, 1)).todense().getA()\n",
    "\n",
    "X_data = np.hstack((X1_data, X2_data, X3_data))\n",
    "\n",
    "Y1 = data[[name_1[16]]]\n",
    "Y2 = data[[name_1[17]]]\n",
    "Y3 = data[[name_1[18]]]\n",
    "Y4 = data[[name_1[19]]]\n",
    "\n",
    "X1_train, X1_test, y1_train, y1_test = train_test_split(X_data, Y1, test_size=0.25, \n",
    "                                                        random_state = 33)\n",
    "X2_train, X2_test, y2_train, y2_test = train_test_split(X_data, Y2, test_size=0.25, \n",
    "                                                        random_state = 33)\n",
    "X3_train, X3_test, y3_train, y3_test = train_test_split(X_data, Y3, test_size=0.25, \n",
    "                                                        random_state = 33)\n",
    "X4_train, X4_test, y4_train, y4_test = train_test_split(X_data, Y4, test_size=0.25, \n",
    "                                                        random_state = 33)"
   ]
  },
  {
   "cell_type": "code",
   "execution_count": 2,
   "metadata": {},
   "outputs": [
    {
     "name": "stderr",
     "output_type": "stream",
     "text": [
      "C:\\Users\\ppxx\\Anaconda3\\envs\\tensorflow\\lib\\site-packages\\sklearn\\linear_model\\logistic.py:432: FutureWarning: Default solver will be changed to 'lbfgs' in 0.22. Specify a solver to silence this warning.\n",
      "  FutureWarning)\n",
      "C:\\Users\\ppxx\\Anaconda3\\envs\\tensorflow\\lib\\site-packages\\sklearn\\utils\\validation.py:752: DataConversionWarning: A column-vector y was passed when a 1d array was expected. Please change the shape of y to (n_samples, ), for example using ravel().\n",
      "  y = column_or_1d(y, warn=True)\n",
      "C:\\Users\\ppxx\\Anaconda3\\envs\\tensorflow\\lib\\site-packages\\sklearn\\linear_model\\logistic.py:459: FutureWarning: Default multi_class will be changed to 'auto' in 0.22. Specify the multi_class option to silence this warning.\n",
      "  \"this warning.\", FutureWarning)\n"
     ]
    },
    {
     "name": "stdout",
     "output_type": "stream",
     "text": [
      "Accuracy of USER_SCORE by LR Classifier is : 0.762876579203\n",
      "              precision    recall  f1-score   support\n",
      "\n",
      "         1.0       0.00      0.00      0.00        16\n",
      "         2.0       0.00      0.00      0.00        93\n",
      "         3.0       0.00      0.00      0.00      1037\n",
      "         4.0       0.58      0.01      0.01      1787\n",
      "         5.0       0.76      1.00      0.87      9415\n",
      "\n",
      "   micro avg       0.76      0.76      0.76     12348\n",
      "   macro avg       0.27      0.20      0.18     12348\n",
      "weighted avg       0.67      0.76      0.66     12348\n",
      "\n"
     ]
    },
    {
     "name": "stderr",
     "output_type": "stream",
     "text": [
      "C:\\Users\\ppxx\\Anaconda3\\envs\\tensorflow\\lib\\site-packages\\sklearn\\metrics\\classification.py:1143: UndefinedMetricWarning: Precision and F-score are ill-defined and being set to 0.0 in labels with no predicted samples.\n",
      "  'precision', 'predicted', average, warn_for)\n",
      "C:\\Users\\ppxx\\Anaconda3\\envs\\tensorflow\\lib\\site-packages\\sklearn\\linear_model\\logistic.py:432: FutureWarning: Default solver will be changed to 'lbfgs' in 0.22. Specify a solver to silence this warning.\n",
      "  FutureWarning)\n",
      "C:\\Users\\ppxx\\Anaconda3\\envs\\tensorflow\\lib\\site-packages\\sklearn\\utils\\validation.py:752: DataConversionWarning: A column-vector y was passed when a 1d array was expected. Please change the shape of y to (n_samples, ), for example using ravel().\n",
      "  y = column_or_1d(y, warn=True)\n",
      "C:\\Users\\ppxx\\Anaconda3\\envs\\tensorflow\\lib\\site-packages\\sklearn\\linear_model\\logistic.py:459: FutureWarning: Default multi_class will be changed to 'auto' in 0.22. Specify the multi_class option to silence this warning.\n",
      "  \"this warning.\", FutureWarning)\n"
     ]
    },
    {
     "name": "stdout",
     "output_type": "stream",
     "text": [
      "Accuracy of ELOADING by LR Classifier is : 0.760366051182\n",
      "              precision    recall  f1-score   support\n",
      "\n",
      "         1.0       0.00      0.00      0.00        21\n",
      "         2.0       0.00      0.00      0.00        81\n",
      "         3.0       0.00      0.00      0.00       953\n",
      "         4.0       0.00      0.00      0.00      1901\n",
      "         5.0       0.76      1.00      0.86      9392\n",
      "\n",
      "   micro avg       0.76      0.76      0.76     12348\n",
      "   macro avg       0.15      0.20      0.17     12348\n",
      "weighted avg       0.58      0.76      0.66     12348\n",
      "\n"
     ]
    },
    {
     "name": "stderr",
     "output_type": "stream",
     "text": [
      "C:\\Users\\ppxx\\Anaconda3\\envs\\tensorflow\\lib\\site-packages\\sklearn\\metrics\\classification.py:1143: UndefinedMetricWarning: Precision and F-score are ill-defined and being set to 0.0 in labels with no predicted samples.\n",
      "  'precision', 'predicted', average, warn_for)\n",
      "C:\\Users\\ppxx\\Anaconda3\\envs\\tensorflow\\lib\\site-packages\\sklearn\\linear_model\\logistic.py:432: FutureWarning: Default solver will be changed to 'lbfgs' in 0.22. Specify a solver to silence this warning.\n",
      "  FutureWarning)\n",
      "C:\\Users\\ppxx\\Anaconda3\\envs\\tensorflow\\lib\\site-packages\\sklearn\\utils\\validation.py:752: DataConversionWarning: A column-vector y was passed when a 1d array was expected. Please change the shape of y to (n_samples, ), for example using ravel().\n",
      "  y = column_or_1d(y, warn=True)\n",
      "C:\\Users\\ppxx\\Anaconda3\\envs\\tensorflow\\lib\\site-packages\\sklearn\\linear_model\\logistic.py:459: FutureWarning: Default multi_class will be changed to 'auto' in 0.22. Specify the multi_class option to silence this warning.\n",
      "  \"this warning.\", FutureWarning)\n"
     ]
    },
    {
     "name": "stdout",
     "output_type": "stream",
     "text": [
      "Accuracy of ESTALLING by LR Classifier is : 0.836572724328\n",
      "              precision    recall  f1-score   support\n",
      "\n",
      "         1.0       0.00      0.00      0.00         6\n",
      "         2.0       0.00      0.00      0.00        42\n",
      "         3.0       0.00      0.00      0.00       607\n",
      "         4.0       0.00      0.00      0.00      1363\n",
      "         5.0       0.84      1.00      0.91     10330\n",
      "\n",
      "   micro avg       0.84      0.84      0.84     12348\n",
      "   macro avg       0.17      0.20      0.18     12348\n",
      "weighted avg       0.70      0.84      0.76     12348\n",
      "\n"
     ]
    },
    {
     "name": "stderr",
     "output_type": "stream",
     "text": [
      "C:\\Users\\ppxx\\Anaconda3\\envs\\tensorflow\\lib\\site-packages\\sklearn\\metrics\\classification.py:1143: UndefinedMetricWarning: Precision and F-score are ill-defined and being set to 0.0 in labels with no predicted samples.\n",
      "  'precision', 'predicted', average, warn_for)\n",
      "C:\\Users\\ppxx\\Anaconda3\\envs\\tensorflow\\lib\\site-packages\\sklearn\\linear_model\\logistic.py:432: FutureWarning: Default solver will be changed to 'lbfgs' in 0.22. Specify a solver to silence this warning.\n",
      "  FutureWarning)\n",
      "C:\\Users\\ppxx\\Anaconda3\\envs\\tensorflow\\lib\\site-packages\\sklearn\\utils\\validation.py:752: DataConversionWarning: A column-vector y was passed when a 1d array was expected. Please change the shape of y to (n_samples, ), for example using ravel().\n",
      "  y = column_or_1d(y, warn=True)\n",
      "C:\\Users\\ppxx\\Anaconda3\\envs\\tensorflow\\lib\\site-packages\\sklearn\\linear_model\\logistic.py:459: FutureWarning: Default multi_class will be changed to 'auto' in 0.22. Specify the multi_class option to silence this warning.\n",
      "  \"this warning.\", FutureWarning)\n"
     ]
    },
    {
     "name": "stdout",
     "output_type": "stream",
     "text": [
      "Accuracy of EVMOS by LR Classifier is : 0.751295756398\n",
      "              precision    recall  f1-score   support\n",
      "\n",
      "         1.0       0.00      0.00      0.00         3\n",
      "         2.0       0.00      0.00      0.00        14\n",
      "         3.0       0.00      0.00      0.00       990\n",
      "         4.0       0.72      0.01      0.02      2083\n",
      "         5.0       0.75      1.00      0.86      9258\n",
      "\n",
      "   micro avg       0.75      0.75      0.75     12348\n",
      "   macro avg       0.29      0.20      0.18     12348\n",
      "weighted avg       0.69      0.75      0.65     12348\n",
      "\n"
     ]
    },
    {
     "name": "stderr",
     "output_type": "stream",
     "text": [
      "C:\\Users\\ppxx\\Anaconda3\\envs\\tensorflow\\lib\\site-packages\\sklearn\\metrics\\classification.py:1143: UndefinedMetricWarning: Precision and F-score are ill-defined and being set to 0.0 in labels with no predicted samples.\n",
      "  'precision', 'predicted', average, warn_for)\n"
     ]
    }
   ],
   "source": [
    "from sklearn.linear_model import LogisticRegression\n",
    "# 对 USER_SCORE 进行训练和预测\n",
    "lr = LogisticRegression()\n",
    "lr.fit(X1_train, np.array(y1_train))\n",
    "lr_y_predict = lr.predict(X1_test)\n",
    "print('Accuracy of USER_SCORE by LR Classifier is :',lr.score(X1_test, y1_test))\n",
    "print(classification_report(y1_test, lr_y_predict))\n",
    "# 对 ELOADING 进行训练和预测\n",
    "lr = LogisticRegression()\n",
    "lr.fit(X2_train, np.array(y2_train))\n",
    "lr_y_predict = lr.predict(X2_test)\n",
    "print('Accuracy of ELOADING by LR Classifier is :',lr.score(X2_test, y2_test))\n",
    "print(classification_report(y2_test, lr_y_predict))\n",
    "\n",
    "# 对 ESTALLING 进行训练和预测\n",
    "lr = LogisticRegression()\n",
    "lr.fit(X3_train, np.array(y3_train))\n",
    "lr_y_predict = lr.predict(X3_test)\n",
    "print('Accuracy of ESTALLING by LR Classifier is :',lr.score(X3_test, y3_test))\n",
    "print(classification_report(y3_test, lr_y_predict))\n",
    "\n",
    "# 对 EVMOS 进行训练和预测\n",
    "lr = LogisticRegression()\n",
    "lr.fit(X4_train, np.array(y4_train))\n",
    "lr_y_predict = lr.predict(X4_test)\n",
    "print('Accuracy of EVMOS by LR Classifier is :',lr.score(X4_test, y4_test))\n",
    "print(classification_report(y4_test, lr_y_predict))"
   ]
  },
  {
   "cell_type": "code",
   "execution_count": 3,
   "metadata": {},
   "outputs": [
    {
     "name": "stderr",
     "output_type": "stream",
     "text": [
      "C:\\Users\\ppxx\\Anaconda3\\envs\\tensorflow\\lib\\site-packages\\sklearn\\linear_model\\stochastic_gradient.py:144: FutureWarning: max_iter and tol parameters have been added in SGDClassifier in 0.19. If both are left unset, they default to max_iter=5 and tol=None. If tol is not None, max_iter defaults to max_iter=1000. From 0.21, default max_iter will be 1000, and default tol will be 1e-3.\n",
      "  FutureWarning)\n",
      "C:\\Users\\ppxx\\Anaconda3\\envs\\tensorflow\\lib\\site-packages\\sklearn\\utils\\validation.py:752: DataConversionWarning: A column-vector y was passed when a 1d array was expected. Please change the shape of y to (n_samples, ), for example using ravel().\n",
      "  y = column_or_1d(y, warn=True)\n"
     ]
    },
    {
     "name": "stdout",
     "output_type": "stream",
     "text": [
      "Accuarcy of USER_SCORE by SGD Classifier: 0.762471655329\n",
      "              precision    recall  f1-score   support\n",
      "\n",
      "         1.0       0.00      0.00      0.00        16\n",
      "         2.0       0.00      0.00      0.00        93\n",
      "         3.0       0.00      0.00      0.00      1037\n",
      "         4.0       0.00      0.00      0.00      1787\n",
      "         5.0       0.76      1.00      0.87      9415\n",
      "\n",
      "   micro avg       0.76      0.76      0.76     12348\n",
      "   macro avg       0.15      0.20      0.17     12348\n",
      "weighted avg       0.58      0.76      0.66     12348\n",
      "\n"
     ]
    },
    {
     "name": "stderr",
     "output_type": "stream",
     "text": [
      "C:\\Users\\ppxx\\Anaconda3\\envs\\tensorflow\\lib\\site-packages\\sklearn\\metrics\\classification.py:1143: UndefinedMetricWarning: Precision and F-score are ill-defined and being set to 0.0 in labels with no predicted samples.\n",
      "  'precision', 'predicted', average, warn_for)\n",
      "C:\\Users\\ppxx\\Anaconda3\\envs\\tensorflow\\lib\\site-packages\\sklearn\\linear_model\\stochastic_gradient.py:144: FutureWarning: max_iter and tol parameters have been added in SGDClassifier in 0.19. If both are left unset, they default to max_iter=5 and tol=None. If tol is not None, max_iter defaults to max_iter=1000. From 0.21, default max_iter will be 1000, and default tol will be 1e-3.\n",
      "  FutureWarning)\n",
      "C:\\Users\\ppxx\\Anaconda3\\envs\\tensorflow\\lib\\site-packages\\sklearn\\utils\\validation.py:752: DataConversionWarning: A column-vector y was passed when a 1d array was expected. Please change the shape of y to (n_samples, ), for example using ravel().\n",
      "  y = column_or_1d(y, warn=True)\n"
     ]
    },
    {
     "name": "stdout",
     "output_type": "stream",
     "text": [
      "Accuarcy of ELOADING by SGD Classifier: 0.760609005507\n",
      "              precision    recall  f1-score   support\n",
      "\n",
      "         1.0       0.00      0.00      0.00        21\n",
      "         2.0       0.00      0.00      0.00        81\n",
      "         3.0       0.00      0.00      0.00       953\n",
      "         4.0       0.00      0.00      0.00      1901\n",
      "         5.0       0.76      1.00      0.86      9392\n",
      "\n",
      "   micro avg       0.76      0.76      0.76     12348\n",
      "   macro avg       0.15      0.20      0.17     12348\n",
      "weighted avg       0.58      0.76      0.66     12348\n",
      "\n"
     ]
    },
    {
     "name": "stderr",
     "output_type": "stream",
     "text": [
      "C:\\Users\\ppxx\\Anaconda3\\envs\\tensorflow\\lib\\site-packages\\sklearn\\metrics\\classification.py:1143: UndefinedMetricWarning: Precision and F-score are ill-defined and being set to 0.0 in labels with no predicted samples.\n",
      "  'precision', 'predicted', average, warn_for)\n",
      "C:\\Users\\ppxx\\Anaconda3\\envs\\tensorflow\\lib\\site-packages\\sklearn\\linear_model\\stochastic_gradient.py:144: FutureWarning: max_iter and tol parameters have been added in SGDClassifier in 0.19. If both are left unset, they default to max_iter=5 and tol=None. If tol is not None, max_iter defaults to max_iter=1000. From 0.21, default max_iter will be 1000, and default tol will be 1e-3.\n",
      "  FutureWarning)\n",
      "C:\\Users\\ppxx\\Anaconda3\\envs\\tensorflow\\lib\\site-packages\\sklearn\\utils\\validation.py:752: DataConversionWarning: A column-vector y was passed when a 1d array was expected. Please change the shape of y to (n_samples, ), for example using ravel().\n",
      "  y = column_or_1d(y, warn=True)\n"
     ]
    },
    {
     "name": "stdout",
     "output_type": "stream",
     "text": [
      "Accuarcy of ESTALLING by SGD Classifier: 0.836572724328\n",
      "              precision    recall  f1-score   support\n",
      "\n",
      "         1.0       0.00      0.00      0.00         6\n",
      "         2.0       0.00      0.00      0.00        42\n",
      "         3.0       0.00      0.00      0.00       607\n",
      "         4.0       0.00      0.00      0.00      1363\n",
      "         5.0       0.84      1.00      0.91     10330\n",
      "\n",
      "   micro avg       0.84      0.84      0.84     12348\n",
      "   macro avg       0.17      0.20      0.18     12348\n",
      "weighted avg       0.70      0.84      0.76     12348\n",
      "\n"
     ]
    },
    {
     "name": "stderr",
     "output_type": "stream",
     "text": [
      "C:\\Users\\ppxx\\Anaconda3\\envs\\tensorflow\\lib\\site-packages\\sklearn\\metrics\\classification.py:1143: UndefinedMetricWarning: Precision and F-score are ill-defined and being set to 0.0 in labels with no predicted samples.\n",
      "  'precision', 'predicted', average, warn_for)\n",
      "C:\\Users\\ppxx\\Anaconda3\\envs\\tensorflow\\lib\\site-packages\\sklearn\\linear_model\\stochastic_gradient.py:144: FutureWarning: max_iter and tol parameters have been added in SGDClassifier in 0.19. If both are left unset, they default to max_iter=5 and tol=None. If tol is not None, max_iter defaults to max_iter=1000. From 0.21, default max_iter will be 1000, and default tol will be 1e-3.\n",
      "  FutureWarning)\n",
      "C:\\Users\\ppxx\\Anaconda3\\envs\\tensorflow\\lib\\site-packages\\sklearn\\utils\\validation.py:752: DataConversionWarning: A column-vector y was passed when a 1d array was expected. Please change the shape of y to (n_samples, ), for example using ravel().\n",
      "  y = column_or_1d(y, warn=True)\n"
     ]
    },
    {
     "name": "stdout",
     "output_type": "stream",
     "text": [
      "Accuarcy of EVMOS by SGD Classifier: 0.749757045675\n",
      "              precision    recall  f1-score   support\n",
      "\n",
      "         1.0       0.00      0.00      0.00         3\n",
      "         2.0       0.00      0.00      0.00        14\n",
      "         3.0       0.00      0.00      0.00       990\n",
      "         4.0       0.00      0.00      0.00      2083\n",
      "         5.0       0.75      1.00      0.86      9258\n",
      "\n",
      "   micro avg       0.75      0.75      0.75     12348\n",
      "   macro avg       0.15      0.20      0.17     12348\n",
      "weighted avg       0.56      0.75      0.64     12348\n",
      "\n"
     ]
    },
    {
     "name": "stderr",
     "output_type": "stream",
     "text": [
      "C:\\Users\\ppxx\\Anaconda3\\envs\\tensorflow\\lib\\site-packages\\sklearn\\metrics\\classification.py:1143: UndefinedMetricWarning: Precision and F-score are ill-defined and being set to 0.0 in labels with no predicted samples.\n",
      "  'precision', 'predicted', average, warn_for)\n"
     ]
    }
   ],
   "source": [
    "from sklearn.linear_model import stochastic_gradient\n",
    "# 对 USER_SCORE 进行训练和预测\n",
    "sgdc = stochastic_gradient.SGDClassifier()\n",
    "sgdc.fit(X1_train, y1_train)\n",
    "sgdc_y_predict = sgdc.predict(X1_test)\n",
    "print('Accuarcy of USER_SCORE by SGD Classifier:', sgdc.score(X1_test, y1_test))\n",
    "print(classification_report(y1_test, sgdc_y_predict))\n",
    "# 对 ELOADING 进行训练和预测\n",
    "sgdc = stochastic_gradient.SGDClassifier()\n",
    "sgdc.fit(X2_train, y2_train)\n",
    "sgdc_y_predict = sgdc.predict(X2_test)\n",
    "print('Accuarcy of ELOADING by SGD Classifier:', sgdc.score(X2_test, y2_test))\n",
    "print(classification_report(y2_test, sgdc_y_predict))\n",
    "# 对 ESTALLING 进行训练和预测\n",
    "sgdc = stochastic_gradient.SGDClassifier()\n",
    "sgdc.fit(X3_train, y3_train)\n",
    "sgdc_y_predict = sgdc.predict(X3_test)\n",
    "print('Accuarcy of ESTALLING by SGD Classifier:', sgdc.score(X3_test, y3_test))\n",
    "print(classification_report(y3_test, sgdc_y_predict))\n",
    "# 对 EVMOS 进行训练和预测\n",
    "sgdc = stochastic_gradient.SGDClassifier()\n",
    "sgdc.fit(X4_train, y4_train)\n",
    "sgdc_y_predict = sgdc.predict(X4_test)\n",
    "print('Accuarcy of EVMOS by SGD Classifier:', sgdc.score(X4_test, y4_test))\n",
    "print(classification_report(y4_test, sgdc_y_predict))"
   ]
  },
  {
   "cell_type": "code",
   "execution_count": 4,
   "metadata": {},
   "outputs": [
    {
     "name": "stderr",
     "output_type": "stream",
     "text": [
      "C:\\Users\\ppxx\\Anaconda3\\envs\\tensorflow\\lib\\site-packages\\sklearn\\utils\\validation.py:752: DataConversionWarning: A column-vector y was passed when a 1d array was expected. Please change the shape of y to (n_samples, ), for example using ravel().\n",
      "  y = column_or_1d(y, warn=True)\n"
     ]
    },
    {
     "name": "stdout",
     "output_type": "stream",
     "text": [
      "The Accuracy of USER_SCORE by Linear SVC is 0.762714609653\n",
      "              precision    recall  f1-score   support\n",
      "\n",
      "         1.0       0.00      0.00      0.00        16\n",
      "         2.0       0.00      0.00      0.00        93\n",
      "         3.0       0.00      0.00      0.00      1037\n",
      "         4.0       0.52      0.01      0.01      1787\n",
      "         5.0       0.76      1.00      0.87      9415\n",
      "\n",
      "   micro avg       0.76      0.76      0.76     12348\n",
      "   macro avg       0.26      0.20      0.18     12348\n",
      "weighted avg       0.66      0.76      0.66     12348\n",
      "\n"
     ]
    },
    {
     "name": "stderr",
     "output_type": "stream",
     "text": [
      "C:\\Users\\ppxx\\Anaconda3\\envs\\tensorflow\\lib\\site-packages\\sklearn\\metrics\\classification.py:1143: UndefinedMetricWarning: Precision and F-score are ill-defined and being set to 0.0 in labels with no predicted samples.\n",
      "  'precision', 'predicted', average, warn_for)\n",
      "C:\\Users\\ppxx\\Anaconda3\\envs\\tensorflow\\lib\\site-packages\\sklearn\\utils\\validation.py:752: DataConversionWarning: A column-vector y was passed when a 1d array was expected. Please change the shape of y to (n_samples, ), for example using ravel().\n",
      "  y = column_or_1d(y, warn=True)\n"
     ]
    },
    {
     "name": "stdout",
     "output_type": "stream",
     "text": [
      "The Accuracy of ELOADING by Linear SVC is 0.760528020732\n",
      "              precision    recall  f1-score   support\n",
      "\n",
      "         1.0       0.00      0.00      0.00        21\n",
      "         2.0       0.00      0.00      0.00        81\n",
      "         3.0       0.00      0.00      0.00       953\n",
      "         4.0       0.44      0.00      0.01      1901\n",
      "         5.0       0.76      1.00      0.86      9392\n",
      "\n",
      "   micro avg       0.76      0.76      0.76     12348\n",
      "   macro avg       0.24      0.20      0.17     12348\n",
      "weighted avg       0.65      0.76      0.66     12348\n",
      "\n"
     ]
    },
    {
     "name": "stderr",
     "output_type": "stream",
     "text": [
      "C:\\Users\\ppxx\\Anaconda3\\envs\\tensorflow\\lib\\site-packages\\sklearn\\metrics\\classification.py:1143: UndefinedMetricWarning: Precision and F-score are ill-defined and being set to 0.0 in labels with no predicted samples.\n",
      "  'precision', 'predicted', average, warn_for)\n",
      "C:\\Users\\ppxx\\Anaconda3\\envs\\tensorflow\\lib\\site-packages\\sklearn\\utils\\validation.py:752: DataConversionWarning: A column-vector y was passed when a 1d array was expected. Please change the shape of y to (n_samples, ), for example using ravel().\n",
      "  y = column_or_1d(y, warn=True)\n"
     ]
    },
    {
     "name": "stdout",
     "output_type": "stream",
     "text": [
      "The Accuracy of ESTALLING by Linear SVC is 0.836491739553\n",
      "              precision    recall  f1-score   support\n",
      "\n",
      "         1.0       0.00      0.00      0.00         6\n",
      "         2.0       0.00      0.00      0.00        42\n",
      "         3.0       0.00      0.00      0.00       607\n",
      "         4.0       0.00      0.00      0.00      1363\n",
      "         5.0       0.84      1.00      0.91     10330\n",
      "\n",
      "   micro avg       0.84      0.84      0.84     12348\n",
      "   macro avg       0.17      0.20      0.18     12348\n",
      "weighted avg       0.70      0.84      0.76     12348\n",
      "\n"
     ]
    },
    {
     "name": "stderr",
     "output_type": "stream",
     "text": [
      "C:\\Users\\ppxx\\Anaconda3\\envs\\tensorflow\\lib\\site-packages\\sklearn\\metrics\\classification.py:1143: UndefinedMetricWarning: Precision and F-score are ill-defined and being set to 0.0 in labels with no predicted samples.\n",
      "  'precision', 'predicted', average, warn_for)\n",
      "C:\\Users\\ppxx\\Anaconda3\\envs\\tensorflow\\lib\\site-packages\\sklearn\\utils\\validation.py:752: DataConversionWarning: A column-vector y was passed when a 1d array was expected. Please change the shape of y to (n_samples, ), for example using ravel().\n",
      "  y = column_or_1d(y, warn=True)\n"
     ]
    },
    {
     "name": "stdout",
     "output_type": "stream",
     "text": [
      "The Accuracy of ELOADING by Linear SVC is 0.751457725948\n",
      "              precision    recall  f1-score   support\n",
      "\n",
      "         1.0       0.00      0.00      0.00         3\n",
      "         2.0       0.00      0.00      0.00        14\n",
      "         3.0       0.00      0.00      0.00       990\n",
      "         4.0       0.64      0.02      0.04      2083\n",
      "         5.0       0.75      1.00      0.86      9258\n",
      "\n",
      "   micro avg       0.75      0.75      0.75     12348\n",
      "   macro avg       0.28      0.20      0.18     12348\n",
      "weighted avg       0.67      0.75      0.65     12348\n",
      "\n"
     ]
    },
    {
     "name": "stderr",
     "output_type": "stream",
     "text": [
      "C:\\Users\\ppxx\\Anaconda3\\envs\\tensorflow\\lib\\site-packages\\sklearn\\metrics\\classification.py:1143: UndefinedMetricWarning: Precision and F-score are ill-defined and being set to 0.0 in labels with no predicted samples.\n",
      "  'precision', 'predicted', average, warn_for)\n"
     ]
    }
   ],
   "source": [
    "from sklearn.svm import LinearSVC\n",
    "# 对 USER_SCORE 进行训练和预测\n",
    "lsvc = LinearSVC()\n",
    "lsvc.fit(X1_train, y1_train)\n",
    "y_predict = lsvc.predict(X1_test)\n",
    "print('The Accuracy of USER_SCORE by Linear SVC is', lsvc.score(X1_test, y1_test))\n",
    "print(classification_report(y1_test, y_predict))\n",
    "# 对 ELOADING 进行训练和预测\n",
    "lsvc = LinearSVC()\n",
    "lsvc.fit(X2_train, y2_train)\n",
    "y_predict = lsvc.predict(X2_test)\n",
    "print('The Accuracy of ELOADING by Linear SVC is', lsvc.score(X2_test, y2_test))\n",
    "print(classification_report(y2_test, y_predict))\n",
    "# 对 ESTALLING 进行训练和预测\n",
    "lsvc = LinearSVC()\n",
    "lsvc.fit(X3_train, y3_train)\n",
    "y_predict = lsvc.predict(X3_test)\n",
    "print('The Accuracy of ESTALLING by Linear SVC is', lsvc.score(X3_test, y3_test))\n",
    "print(classification_report(y3_test, y_predict))\n",
    "# 对 EVMOS 进行训练和预测\n",
    "lsvc = LinearSVC()\n",
    "lsvc.fit(X4_train, y4_train)\n",
    "y_predict = lsvc.predict(X4_test)\n",
    "print('The Accuracy of ELOADING by Linear SVC is', lsvc.score(X4_test, y4_test))\n",
    "print(classification_report(y4_test, y_predict))"
   ]
  },
  {
   "cell_type": "code",
   "execution_count": 5,
   "metadata": {},
   "outputs": [
    {
     "name": "stderr",
     "output_type": "stream",
     "text": [
      "C:\\Users\\ppxx\\Anaconda3\\envs\\tensorflow\\lib\\site-packages\\ipykernel_launcher.py:4: DataConversionWarning: A column-vector y was passed when a 1d array was expected. Please change the shape of y to (n_samples, ), for example using ravel().\n",
      "  after removing the cwd from sys.path.\n"
     ]
    },
    {
     "name": "stdout",
     "output_type": "stream",
     "text": [
      "The accuracy of USER_SCORE by K-Nearest Neighbor Classifier is 0.724651765468\n",
      "              precision    recall  f1-score   support\n",
      "\n",
      "         1.0       0.00      0.00      0.00        16\n",
      "         2.0       0.23      0.05      0.09        93\n",
      "         3.0       0.28      0.20      0.23      1037\n",
      "         4.0       0.30      0.22      0.25      1787\n",
      "         5.0       0.81      0.89      0.85      9415\n",
      "\n",
      "   micro avg       0.72      0.72      0.72     12348\n",
      "   macro avg       0.32      0.27      0.28     12348\n",
      "weighted avg       0.69      0.72      0.70     12348\n",
      "\n"
     ]
    },
    {
     "name": "stderr",
     "output_type": "stream",
     "text": [
      "C:\\Users\\ppxx\\Anaconda3\\envs\\tensorflow\\lib\\site-packages\\ipykernel_launcher.py:11: DataConversionWarning: A column-vector y was passed when a 1d array was expected. Please change the shape of y to (n_samples, ), for example using ravel().\n",
      "  # This is added back by InteractiveShellApp.init_path()\n"
     ]
    },
    {
     "name": "stdout",
     "output_type": "stream",
     "text": [
      "The accuracy of ELOADING by K-Nearest Neighbor Classifier is 0.72335600907\n",
      "              precision    recall  f1-score   support\n",
      "\n",
      "         1.0       0.25      0.19      0.22        21\n",
      "         2.0       0.12      0.04      0.06        81\n",
      "         3.0       0.23      0.16      0.19       953\n",
      "         4.0       0.34      0.23      0.27      1901\n",
      "         5.0       0.80      0.89      0.84      9392\n",
      "\n",
      "   micro avg       0.72      0.72      0.72     12348\n",
      "   macro avg       0.35      0.30      0.32     12348\n",
      "weighted avg       0.68      0.72      0.70     12348\n",
      "\n"
     ]
    },
    {
     "name": "stderr",
     "output_type": "stream",
     "text": [
      "C:\\Users\\ppxx\\Anaconda3\\envs\\tensorflow\\lib\\site-packages\\ipykernel_launcher.py:18: DataConversionWarning: A column-vector y was passed when a 1d array was expected. Please change the shape of y to (n_samples, ), for example using ravel().\n"
     ]
    },
    {
     "name": "stdout",
     "output_type": "stream",
     "text": [
      "The accuracy of ESTALLING by K-Nearest Neighbor Classifier is 0.812358276644\n",
      "              precision    recall  f1-score   support\n",
      "\n",
      "         1.0       0.00      0.00      0.00         6\n",
      "         2.0       0.00      0.00      0.00        42\n",
      "         3.0       0.26      0.13      0.17       607\n",
      "         4.0       0.31      0.16      0.21      1363\n",
      "         5.0       0.86      0.94      0.90     10330\n",
      "\n",
      "   micro avg       0.81      0.81      0.81     12348\n",
      "   macro avg       0.29      0.25      0.26     12348\n",
      "weighted avg       0.77      0.81      0.78     12348\n",
      "\n"
     ]
    },
    {
     "name": "stderr",
     "output_type": "stream",
     "text": [
      "C:\\Users\\ppxx\\Anaconda3\\envs\\tensorflow\\lib\\site-packages\\sklearn\\metrics\\classification.py:1143: UndefinedMetricWarning: Precision and F-score are ill-defined and being set to 0.0 in labels with no predicted samples.\n",
      "  'precision', 'predicted', average, warn_for)\n",
      "C:\\Users\\ppxx\\Anaconda3\\envs\\tensorflow\\lib\\site-packages\\ipykernel_launcher.py:25: DataConversionWarning: A column-vector y was passed when a 1d array was expected. Please change the shape of y to (n_samples, ), for example using ravel().\n"
     ]
    },
    {
     "name": "stdout",
     "output_type": "stream",
     "text": [
      "The accuracy of EVMOS by K-Nearest Neighbor Classifier is 0.712666018788\n",
      "              precision    recall  f1-score   support\n",
      "\n",
      "         1.0       0.00      0.00      0.00         3\n",
      "         2.0       0.00      0.00      0.00        14\n",
      "         3.0       0.26      0.19      0.22       990\n",
      "         4.0       0.34      0.25      0.29      2083\n",
      "         5.0       0.80      0.87      0.84      9258\n",
      "\n",
      "   micro avg       0.71      0.71      0.71     12348\n",
      "   macro avg       0.28      0.26      0.27     12348\n",
      "weighted avg       0.68      0.71      0.69     12348\n",
      "\n"
     ]
    },
    {
     "name": "stderr",
     "output_type": "stream",
     "text": [
      "C:\\Users\\ppxx\\Anaconda3\\envs\\tensorflow\\lib\\site-packages\\sklearn\\metrics\\classification.py:1143: UndefinedMetricWarning: Precision and F-score are ill-defined and being set to 0.0 in labels with no predicted samples.\n",
      "  'precision', 'predicted', average, warn_for)\n"
     ]
    }
   ],
   "source": [
    "from sklearn.neighbors import KNeighborsClassifier\n",
    "# 对 USER_SCORE 进行训练和预测\n",
    "knc = KNeighborsClassifier()\n",
    "knc.fit(X1_train, y1_train)\n",
    "y_predict = knc.predict(X1_test)\n",
    "print('The accuracy of USER_SCORE by K-Nearest Neighbor Classifier is', \n",
    "      knc.score(X1_test, y1_test) )\n",
    "print(classification_report(y1_test, y_predict))\n",
    "# 对 ELOADING 进行训练和预测\n",
    "knc = KNeighborsClassifier()\n",
    "knc.fit(X2_train, y2_train)\n",
    "y_predict = knc.predict(X2_test)\n",
    "print('The accuracy of ELOADING by K-Nearest Neighbor Classifier is', \n",
    "      knc.score(X2_test, y2_test) )\n",
    "print(classification_report(y2_test, y_predict))\n",
    "# 对 ESTALLING 进行训练和预测\n",
    "knc = KNeighborsClassifier()\n",
    "knc.fit(X3_train, y3_train)\n",
    "y_predict = knc.predict(X3_test)\n",
    "print('The accuracy of ESTALLING by K-Nearest Neighbor Classifier is', \n",
    "      knc.score(X3_test, y3_test) )\n",
    "print(classification_report(y3_test, y_predict))\n",
    "# 对 EVMOS 进行训练和预测\n",
    "knc = KNeighborsClassifier()\n",
    "knc.fit(X4_train, y4_train)\n",
    "y_predict = knc.predict(X4_test)\n",
    "print('The accuracy of EVMOS by K-Nearest Neighbor Classifier is', \n",
    "      knc.score(X4_test, y4_test) )\n",
    "print(classification_report(y4_test, y_predict))"
   ]
  },
  {
   "cell_type": "code",
   "execution_count": 6,
   "metadata": {},
   "outputs": [
    {
     "name": "stdout",
     "output_type": "stream",
     "text": [
      "The accuracy of USER_SCORE by Decision Tree is 0.681324910917\n",
      "              precision    recall  f1-score   support\n",
      "\n",
      "         1.0       0.00      0.00      0.00        15\n",
      "         2.0       0.12      0.11      0.12        98\n",
      "         3.0       0.24      0.22      0.23      1104\n",
      "         4.0       0.29      0.28      0.28      1879\n",
      "         5.0       0.81      0.83      0.82      9252\n",
      "\n",
      "   micro avg       0.68      0.68      0.68     12348\n",
      "   macro avg       0.29      0.29      0.29     12348\n",
      "weighted avg       0.67      0.68      0.68     12348\n",
      "\n",
      "The accuracy of ELOADING by Decision Tree is 0.686264982183\n",
      "              precision    recall  f1-score   support\n",
      "\n",
      "         1.0       0.14      0.11      0.12        28\n",
      "         2.0       0.02      0.02      0.02       107\n",
      "         3.0       0.23      0.22      0.23      1010\n",
      "         4.0       0.34      0.31      0.32      2051\n",
      "         5.0       0.81      0.83      0.82      9152\n",
      "\n",
      "   micro avg       0.69      0.69      0.69     12348\n",
      "   macro avg       0.31      0.30      0.30     12348\n",
      "weighted avg       0.68      0.69      0.68     12348\n",
      "\n",
      "The accuracy of ESTALLING by Decision Tree is 0.76498218335\n",
      "              precision    recall  f1-score   support\n",
      "\n",
      "         1.0       0.00      0.00      0.00         8\n",
      "         2.0       0.05      0.02      0.03        92\n",
      "         3.0       0.21      0.20      0.21       639\n",
      "         4.0       0.30      0.27      0.29      1508\n",
      "         5.0       0.86      0.88      0.87     10101\n",
      "\n",
      "   micro avg       0.76      0.76      0.76     12348\n",
      "   macro avg       0.29      0.28      0.28     12348\n",
      "weighted avg       0.75      0.76      0.76     12348\n",
      "\n",
      "The accuracy of EVMOS by Decision Tree is 0.68521218011\n",
      "              precision    recall  f1-score   support\n",
      "\n",
      "         1.0       0.24      0.15      0.18        34\n",
      "         2.0       0.07      0.05      0.06       115\n",
      "         3.0       0.24      0.22      0.23      1018\n",
      "         4.0       0.34      0.31      0.33      2072\n",
      "         5.0       0.81      0.83      0.82      9109\n",
      "\n",
      "   micro avg       0.69      0.69      0.69     12348\n",
      "   macro avg       0.34      0.31      0.32     12348\n",
      "weighted avg       0.67      0.69      0.68     12348\n",
      "\n"
     ]
    }
   ],
   "source": [
    "from sklearn.tree import DecisionTreeClassifier\n",
    "# 对 USER_SCORE 进行训练和预测\n",
    "dtc = DecisionTreeClassifier()\n",
    "dtc.fit(X1_train, y1_train)\n",
    "y_predict = dtc.predict(X1_test)\n",
    "print('The accuracy of USER_SCORE by Decision Tree is', dtc.score(X1_test, y1_test))\n",
    "print(classification_report(y_predict, y1_test))\n",
    "# 对 ELOADING 进行训练和预测\n",
    "dtc = DecisionTreeClassifier()\n",
    "dtc.fit(X2_train, y2_train)\n",
    "y_predict = dtc.predict(X2_test)\n",
    "print('The accuracy of ELOADING by Decision Tree is', dtc.score(X2_test, y2_test))\n",
    "print(classification_report(y_predict, y2_test))\n",
    "# 对 ESTALLING 进行训练和预测\n",
    "dtc = DecisionTreeClassifier()\n",
    "dtc.fit(X3_train, y3_train)\n",
    "y_predict = dtc.predict(X3_test)\n",
    "print('The accuracy of ESTALLING by Decision Tree is', dtc.score(X3_test, y3_test))\n",
    "print(classification_report(y_predict, y3_test))\n",
    "# 对 EVMOS 进行训练和预测\n",
    "dtc = DecisionTreeClassifier()\n",
    "dtc.fit(X2_train, y2_train)\n",
    "y_predict = dtc.predict(X2_test)\n",
    "print('The accuracy of EVMOS by Decision Tree is', dtc.score(X2_test, y2_test))\n",
    "print(classification_report(y_predict, y2_test))"
   ]
  },
  {
   "cell_type": "code",
   "execution_count": 7,
   "metadata": {},
   "outputs": [
    {
     "name": "stderr",
     "output_type": "stream",
     "text": [
      "C:\\Users\\ppxx\\Anaconda3\\envs\\tensorflow\\lib\\site-packages\\sklearn\\ensemble\\forest.py:248: FutureWarning: The default value of n_estimators will change from 10 in version 0.20 to 100 in 0.22.\n",
      "  \"10 in version 0.20 to 100 in 0.22.\", FutureWarning)\n",
      "C:\\Users\\ppxx\\Anaconda3\\envs\\tensorflow\\lib\\site-packages\\ipykernel_launcher.py:4: DataConversionWarning: A column-vector y was passed when a 1d array was expected. Please change the shape of y to (n_samples,), for example using ravel().\n",
      "  after removing the cwd from sys.path.\n"
     ]
    },
    {
     "name": "stdout",
     "output_type": "stream",
     "text": [
      "The accuracy of USER_SCORE by random forest classifier is  0.7648202138\n",
      "              precision    recall  f1-score   support\n",
      "\n",
      "         1.0       0.06      0.50      0.11         2\n",
      "         2.0       0.05      0.38      0.09        13\n",
      "         3.0       0.18      0.42      0.26       449\n",
      "         4.0       0.22      0.42      0.29       945\n",
      "         5.0       0.94      0.81      0.87     10939\n",
      "\n",
      "   micro avg       0.76      0.76      0.76     12348\n",
      "   macro avg       0.29      0.51      0.32     12348\n",
      "weighted avg       0.86      0.76      0.80     12348\n",
      "\n"
     ]
    },
    {
     "name": "stderr",
     "output_type": "stream",
     "text": [
      "C:\\Users\\ppxx\\Anaconda3\\envs\\tensorflow\\lib\\site-packages\\sklearn\\ensemble\\forest.py:248: FutureWarning: The default value of n_estimators will change from 10 in version 0.20 to 100 in 0.22.\n",
      "  \"10 in version 0.20 to 100 in 0.22.\", FutureWarning)\n",
      "C:\\Users\\ppxx\\Anaconda3\\envs\\tensorflow\\lib\\site-packages\\ipykernel_launcher.py:11: DataConversionWarning: A column-vector y was passed when a 1d array was expected. Please change the shape of y to (n_samples,), for example using ravel().\n",
      "  # This is added back by InteractiveShellApp.init_path()\n"
     ]
    },
    {
     "name": "stdout",
     "output_type": "stream",
     "text": [
      "The accuracy of ELOADING by random forest classifier is  0.762633624879\n",
      "              precision    recall  f1-score   support\n",
      "\n",
      "         1.0       0.24      0.83      0.37         6\n",
      "         2.0       0.00      0.00      0.00        11\n",
      "         3.0       0.16      0.38      0.23       408\n",
      "         4.0       0.24      0.42      0.31      1098\n",
      "         5.0       0.94      0.81      0.87     10825\n",
      "\n",
      "   micro avg       0.76      0.76      0.76     12348\n",
      "   macro avg       0.32      0.49      0.36     12348\n",
      "weighted avg       0.85      0.76      0.80     12348\n",
      "\n"
     ]
    },
    {
     "name": "stderr",
     "output_type": "stream",
     "text": [
      "C:\\Users\\ppxx\\Anaconda3\\envs\\tensorflow\\lib\\site-packages\\sklearn\\ensemble\\forest.py:248: FutureWarning: The default value of n_estimators will change from 10 in version 0.20 to 100 in 0.22.\n",
      "  \"10 in version 0.20 to 100 in 0.22.\", FutureWarning)\n",
      "C:\\Users\\ppxx\\Anaconda3\\envs\\tensorflow\\lib\\site-packages\\ipykernel_launcher.py:18: DataConversionWarning: A column-vector y was passed when a 1d array was expected. Please change the shape of y to (n_samples,), for example using ravel().\n"
     ]
    },
    {
     "name": "stdout",
     "output_type": "stream",
     "text": [
      "The accuracy of ESTALLING by random forest classifier is  0.844995140914\n",
      "              precision    recall  f1-score   support\n",
      "\n",
      "         1.0       0.00      0.00      0.00         0\n",
      "         2.0       0.00      0.00      0.00         1\n",
      "         3.0       0.15      0.50      0.23       179\n",
      "         4.0       0.19      0.50      0.28       525\n",
      "         5.0       0.98      0.87      0.92     11643\n",
      "\n",
      "   micro avg       0.84      0.84      0.84     12348\n",
      "   macro avg       0.26      0.37      0.28     12348\n",
      "weighted avg       0.93      0.84      0.88     12348\n",
      "\n"
     ]
    },
    {
     "name": "stderr",
     "output_type": "stream",
     "text": [
      "C:\\Users\\ppxx\\Anaconda3\\envs\\tensorflow\\lib\\site-packages\\sklearn\\metrics\\classification.py:1145: UndefinedMetricWarning: Recall and F-score are ill-defined and being set to 0.0 in labels with no true samples.\n",
      "  'recall', 'true', average, warn_for)\n",
      "C:\\Users\\ppxx\\Anaconda3\\envs\\tensorflow\\lib\\site-packages\\sklearn\\ensemble\\forest.py:248: FutureWarning: The default value of n_estimators will change from 10 in version 0.20 to 100 in 0.22.\n",
      "  \"10 in version 0.20 to 100 in 0.22.\", FutureWarning)\n",
      "C:\\Users\\ppxx\\Anaconda3\\envs\\tensorflow\\lib\\site-packages\\ipykernel_launcher.py:25: DataConversionWarning: A column-vector y was passed when a 1d array was expected. Please change the shape of y to (n_samples,), for example using ravel().\n"
     ]
    },
    {
     "name": "stdout",
     "output_type": "stream",
     "text": [
      "The accuracy of EVMOS by random forest classifier is 0.753077421445\n",
      "              precision    recall  f1-score   support\n",
      "\n",
      "         1.0       0.00      0.00      0.00         0\n",
      "         2.0       0.00      0.00      0.00         1\n",
      "         3.0       0.17      0.39      0.24       434\n",
      "         4.0       0.27      0.43      0.33      1289\n",
      "         5.0       0.93      0.81      0.86     10624\n",
      "\n",
      "   micro avg       0.75      0.75      0.75     12348\n",
      "   macro avg       0.27      0.33      0.29     12348\n",
      "weighted avg       0.83      0.75      0.78     12348\n",
      "\n"
     ]
    },
    {
     "name": "stderr",
     "output_type": "stream",
     "text": [
      "C:\\Users\\ppxx\\Anaconda3\\envs\\tensorflow\\lib\\site-packages\\sklearn\\metrics\\classification.py:1145: UndefinedMetricWarning: Recall and F-score are ill-defined and being set to 0.0 in labels with no true samples.\n",
      "  'recall', 'true', average, warn_for)\n"
     ]
    }
   ],
   "source": [
    "from sklearn.ensemble import RandomForestClassifier\n",
    "# 对 USER_SCORE 进行训练和预测\n",
    "rfc = RandomForestClassifier()\n",
    "rfc.fit(X1_train, y1_train)\n",
    "rfc_y_pred = rfc.predict(X1_test)\n",
    "print('The accuracy of USER_SCORE by random forest classifier is ', \n",
    "      rfc.score(X1_test, y1_test))\n",
    "print(classification_report(rfc_y_pred, y1_test))\n",
    "# 对 ELOADING 进行训练和预测\n",
    "rfc = RandomForestClassifier()\n",
    "rfc.fit(X2_train, y2_train)\n",
    "rfc_y_pred = rfc.predict(X2_test)\n",
    "print('The accuracy of ELOADING by random forest classifier is ', \n",
    "      rfc.score(X2_test, y2_test))\n",
    "print(classification_report(rfc_y_pred, y2_test))\n",
    "# 对 ESTALLING 进行训练和预测\n",
    "rfc = RandomForestClassifier()\n",
    "rfc.fit(X3_train, y3_train)\n",
    "rfc_y_pred = rfc.predict(X3_test)\n",
    "print('The accuracy of ESTALLING by random forest classifier is ', \n",
    "      rfc.score(X3_test, y3_test))\n",
    "print(classification_report(rfc_y_pred, y3_test))\n",
    "# 对 EVMOS 进行训练和预测\n",
    "rfc = RandomForestClassifier()\n",
    "rfc.fit(X4_train, y4_train)\n",
    "rfc_y_pred = rfc.predict(X4_test)\n",
    "print('The accuracy of EVMOS by random forest classifier is', \n",
    "      rfc.score(X4_test, y4_test))\n",
    "print(classification_report(rfc_y_pred, y4_test))"
   ]
  },
  {
   "cell_type": "code",
   "execution_count": 8,
   "metadata": {},
   "outputs": [
    {
     "name": "stderr",
     "output_type": "stream",
     "text": [
      "C:\\Users\\ppxx\\Anaconda3\\envs\\tensorflow\\lib\\site-packages\\sklearn\\utils\\validation.py:752: DataConversionWarning: A column-vector y was passed when a 1d array was expected. Please change the shape of y to (n_samples, ), for example using ravel().\n",
      "  y = column_or_1d(y, warn=True)\n"
     ]
    },
    {
     "name": "stdout",
     "output_type": "stream",
     "text": [
      "The accuracy of USER_SCORE by gradient tree boosting is 0.765387107224\n",
      "              precision    recall  f1-score   support\n",
      "\n",
      "         1.0       0.00      0.00      0.00         3\n",
      "         2.0       0.00      0.00      0.00         0\n",
      "         3.0       0.00      0.56      0.01         9\n",
      "         4.0       0.03      0.62      0.06        91\n",
      "         5.0       1.00      0.77      0.87     12245\n",
      "\n",
      "   micro avg       0.77      0.77      0.77     12348\n",
      "   macro avg       0.21      0.39      0.19     12348\n",
      "weighted avg       0.99      0.77      0.86     12348\n",
      "\n"
     ]
    },
    {
     "name": "stderr",
     "output_type": "stream",
     "text": [
      "C:\\Users\\ppxx\\Anaconda3\\envs\\tensorflow\\lib\\site-packages\\sklearn\\metrics\\classification.py:1145: UndefinedMetricWarning: Recall and F-score are ill-defined and being set to 0.0 in labels with no true samples.\n",
      "  'recall', 'true', average, warn_for)\n",
      "C:\\Users\\ppxx\\Anaconda3\\envs\\tensorflow\\lib\\site-packages\\sklearn\\utils\\validation.py:752: DataConversionWarning: A column-vector y was passed when a 1d array was expected. Please change the shape of y to (n_samples, ), for example using ravel().\n",
      "  y = column_or_1d(y, warn=True)\n"
     ]
    },
    {
     "name": "stdout",
     "output_type": "stream",
     "text": [
      "The accuracy of ELOADING by gradient tree boosting is 0.765792031098\n",
      "              precision    recall  f1-score   support\n",
      "\n",
      "         1.0       0.14      0.43      0.21         7\n",
      "         2.0       0.00      0.00      0.00         6\n",
      "         3.0       0.01      0.46      0.02        26\n",
      "         4.0       0.05      0.71      0.09       129\n",
      "         5.0       1.00      0.77      0.87     12180\n",
      "\n",
      "   micro avg       0.77      0.77      0.77     12348\n",
      "   macro avg       0.24      0.47      0.24     12348\n",
      "weighted avg       0.98      0.77      0.86     12348\n",
      "\n"
     ]
    },
    {
     "name": "stderr",
     "output_type": "stream",
     "text": [
      "C:\\Users\\ppxx\\Anaconda3\\envs\\tensorflow\\lib\\site-packages\\sklearn\\utils\\validation.py:752: DataConversionWarning: A column-vector y was passed when a 1d array was expected. Please change the shape of y to (n_samples, ), for example using ravel().\n",
      "  y = column_or_1d(y, warn=True)\n"
     ]
    },
    {
     "name": "stdout",
     "output_type": "stream",
     "text": [
      "The accuracy of ESTALLING by gradient tree boosting is 0.83811143505\n",
      "              precision    recall  f1-score   support\n",
      "\n",
      "         1.0       0.00      0.00      0.00         4\n",
      "         2.0       0.00      0.00      0.00         6\n",
      "         3.0       0.02      0.67      0.03        15\n",
      "         4.0       0.02      0.63      0.04        49\n",
      "         5.0       1.00      0.84      0.91     12274\n",
      "\n",
      "   micro avg       0.84      0.84      0.84     12348\n",
      "   macro avg       0.21      0.43      0.20     12348\n",
      "weighted avg       0.99      0.84      0.91     12348\n",
      "\n"
     ]
    },
    {
     "name": "stderr",
     "output_type": "stream",
     "text": [
      "C:\\Users\\ppxx\\Anaconda3\\envs\\tensorflow\\lib\\site-packages\\sklearn\\utils\\validation.py:752: DataConversionWarning: A column-vector y was passed when a 1d array was expected. Please change the shape of y to (n_samples, ), for example using ravel().\n",
      "  y = column_or_1d(y, warn=True)\n"
     ]
    },
    {
     "name": "stdout",
     "output_type": "stream",
     "text": [
      "The accuracy of EVMOS by gradient tree boosting is 0.754373177843\n",
      "              precision    recall  f1-score   support\n",
      "\n",
      "         1.0       0.00      0.00      0.00         5\n",
      "         2.0       0.00      0.00      0.00        15\n",
      "         3.0       0.01      0.71      0.02        17\n",
      "         4.0       0.04      0.66      0.08       137\n",
      "         5.0       1.00      0.76      0.86     12174\n",
      "\n",
      "   micro avg       0.75      0.75      0.75     12348\n",
      "   macro avg       0.21      0.43      0.19     12348\n",
      "weighted avg       0.98      0.75      0.85     12348\n",
      "\n"
     ]
    }
   ],
   "source": [
    "from sklearn.ensemble import GradientBoostingClassifier\n",
    "# 对 USER_SCORE 进行训练和预测\n",
    "gbc = GradientBoostingClassifier()\n",
    "gbc.fit(X1_train, y1_train)\n",
    "gbc_y_pred = gbc.predict(X1_test)\n",
    "print('The accuracy of USER_SCORE by gradient tree boosting is', \n",
    "      gbc.score(X1_test, y1_test))\n",
    "print(classification_report(gbc_y_pred, y1_test))\n",
    "# 对 ELOADING 进行训练和预测\n",
    "gbc = GradientBoostingClassifier()\n",
    "gbc.fit(X2_train, y2_train)\n",
    "gbc_y_pred = gbc.predict(X2_test)\n",
    "print('The accuracy of ELOADING by gradient tree boosting is', \n",
    "      gbc.score(X2_test, y2_test))\n",
    "print(classification_report(gbc_y_pred, y2_test))\n",
    "# 对 ESTALLING 进行训练和预测\n",
    "gbc = GradientBoostingClassifier()\n",
    "gbc.fit(X3_train, y3_train)\n",
    "gbc_y_pred = gbc.predict(X3_test)\n",
    "print('The accuracy of ESTALLING by gradient tree boosting is', \n",
    "      gbc.score(X3_test, y3_test))\n",
    "print(classification_report(gbc_y_pred, y3_test))\n",
    "# 对 EVMOS 进行训练和预测\n",
    "gbc = GradientBoostingClassifier()\n",
    "gbc.fit(X4_train, y4_train)\n",
    "gbc_y_pred = gbc.predict(X4_test)\n",
    "print('The accuracy of EVMOS by gradient tree boosting is', \n",
    "      gbc.score(X4_test, y4_test))\n",
    "print(classification_report(gbc_y_pred, y4_test))"
   ]
  },
  {
   "cell_type": "code",
   "execution_count": null,
   "metadata": {
    "collapsed": true
   },
   "outputs": [],
   "source": [
    "# 对 USER_SCORE 进行训练和预测\n",
    "\n",
    "# 对 ELOADING 进行训练和预测\n",
    "\n",
    "# 对 ESTALLING 进行训练和预测\n",
    "\n",
    "# 对 EVMOS 进行训练和预测\n"
   ]
  }
 ],
 "metadata": {
  "kernelspec": {
   "display_name": "Python 3",
   "language": "python",
   "name": "python3"
  },
  "language_info": {
   "codemirror_mode": {
    "name": "ipython",
    "version": 3
   },
   "file_extension": ".py",
   "mimetype": "text/x-python",
   "name": "python",
   "nbconvert_exporter": "python",
   "pygments_lexer": "ipython3",
   "version": "3.5.2"
  }
 },
 "nbformat": 4,
 "nbformat_minor": 2
}
