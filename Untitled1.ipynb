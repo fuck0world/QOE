{
 "cells": [
  {
   "cell_type": "code",
   "execution_count": 22,
   "metadata": {
    "collapsed": true
   },
   "outputs": [],
   "source": [
    "import pandas as pd\n",
    "src = 'E:\\\\code\\\\python\\\\qoe_model\\\\raw_data'"
   ]
  },
  {
   "cell_type": "code",
   "execution_count": 23,
   "metadata": {
    "collapsed": true
   },
   "outputs": [],
   "source": [
    "data = pd.read_csv(src + '\\\\' + 'final_data.csv')"
   ]
  },
  {
   "cell_type": "code",
   "execution_count": 16,
   "metadata": {},
   "outputs": [
    {
     "data": {
      "text/plain": [
       "array(['InitialBufferTime', 'VideoPlayDuration', 'StallingRatio',\n",
       "       'VIDEO_BITRATE', 'VIDEO_ALL_PEAK_RATE', 'VIDEO_AVERAGE_RATE',\n",
       "       'USERBUFFERTIME', 'VIDEOSIZE', 'SCREEN_RESOLUTION_LONG',\n",
       "       'VIDEO_BUFFERING_PEAK_RATE', 'VIDEO_CLARITY', 'VideoCode',\n",
       "       'CodeProfile', 'EVMOS', 'ELOADING', 'ESTALLING', 'USER_SCORE'], dtype=object)"
      ]
     },
     "execution_count": 16,
     "metadata": {},
     "output_type": "execute_result"
    }
   ],
   "source": [
    "data.columns.values"
   ]
  },
  {
   "cell_type": "code",
   "execution_count": 21,
   "metadata": {},
   "outputs": [
    {
     "data": {
      "text/html": [
       "<div>\n",
       "<style>\n",
       "    .dataframe thead tr:only-child th {\n",
       "        text-align: right;\n",
       "    }\n",
       "\n",
       "    .dataframe thead th {\n",
       "        text-align: left;\n",
       "    }\n",
       "\n",
       "    .dataframe tbody tr th {\n",
       "        vertical-align: top;\n",
       "    }\n",
       "</style>\n",
       "<table border=\"1\" class=\"dataframe\">\n",
       "  <thead>\n",
       "    <tr style=\"text-align: right;\">\n",
       "      <th></th>\n",
       "      <th>InitialBufferTime</th>\n",
       "      <th>VideoPlayDuration</th>\n",
       "      <th>StallingRatio</th>\n",
       "      <th>VIDEO_BITRATE</th>\n",
       "      <th>VIDEO_ALL_PEAK_RATE</th>\n",
       "      <th>VIDEO_AVERAGE_RATE</th>\n",
       "      <th>USERBUFFERTIME</th>\n",
       "      <th>VIDEOSIZE</th>\n",
       "      <th>SCREEN_RESOLUTION_LONG</th>\n",
       "      <th>VIDEO_BUFFERING_PEAK_RATE</th>\n",
       "      <th>VIDEO_CLARITY</th>\n",
       "      <th>VideoCode</th>\n",
       "      <th>CodeProfile</th>\n",
       "      <th>EVMOS</th>\n",
       "      <th>ELOADING</th>\n",
       "      <th>ESTALLING</th>\n",
       "      <th>USER_SCORE</th>\n",
       "    </tr>\n",
       "  </thead>\n",
       "  <tbody>\n",
       "    <tr>\n",
       "      <th>count</th>\n",
       "      <td>31139.000000</td>\n",
       "      <td>31139.000000</td>\n",
       "      <td>31139.000000</td>\n",
       "      <td>31139.000000</td>\n",
       "      <td>3.113900e+04</td>\n",
       "      <td>31139.000000</td>\n",
       "      <td>31139.000000</td>\n",
       "      <td>3.113900e+04</td>\n",
       "      <td>31139.000000</td>\n",
       "      <td>3.113900e+04</td>\n",
       "      <td>31139.000000</td>\n",
       "      <td>31139.0</td>\n",
       "      <td>31139.0</td>\n",
       "      <td>31139.000000</td>\n",
       "      <td>31139.000000</td>\n",
       "      <td>31139.000000</td>\n",
       "      <td>31139.000000</td>\n",
       "    </tr>\n",
       "    <tr>\n",
       "      <th>mean</th>\n",
       "      <td>1430.146215</td>\n",
       "      <td>36372.520987</td>\n",
       "      <td>0.116424</td>\n",
       "      <td>1849.118469</td>\n",
       "      <td>1.497782e+06</td>\n",
       "      <td>1657.630849</td>\n",
       "      <td>2870.739041</td>\n",
       "      <td>7.398636e+06</td>\n",
       "      <td>1747.843476</td>\n",
       "      <td>1.202968e+04</td>\n",
       "      <td>1.432512</td>\n",
       "      <td>1.0</td>\n",
       "      <td>1.0</td>\n",
       "      <td>4.301840</td>\n",
       "      <td>4.356691</td>\n",
       "      <td>4.486881</td>\n",
       "      <td>4.267285</td>\n",
       "    </tr>\n",
       "    <tr>\n",
       "      <th>std</th>\n",
       "      <td>1660.649817</td>\n",
       "      <td>27314.069783</td>\n",
       "      <td>1.336802</td>\n",
       "      <td>1598.240934</td>\n",
       "      <td>2.891052e+07</td>\n",
       "      <td>1602.295666</td>\n",
       "      <td>2486.985350</td>\n",
       "      <td>6.681800e+06</td>\n",
       "      <td>385.810502</td>\n",
       "      <td>3.044126e+04</td>\n",
       "      <td>1.060640</td>\n",
       "      <td>0.0</td>\n",
       "      <td>0.0</td>\n",
       "      <td>0.938367</td>\n",
       "      <td>0.971150</td>\n",
       "      <td>0.891172</td>\n",
       "      <td>0.995500</td>\n",
       "    </tr>\n",
       "    <tr>\n",
       "      <th>min</th>\n",
       "      <td>-79849.000000</td>\n",
       "      <td>1216.000000</td>\n",
       "      <td>0.000000</td>\n",
       "      <td>0.000000</td>\n",
       "      <td>0.000000e+00</td>\n",
       "      <td>84.000000</td>\n",
       "      <td>-39055.000000</td>\n",
       "      <td>1.110760e+06</td>\n",
       "      <td>0.000000</td>\n",
       "      <td>0.000000e+00</td>\n",
       "      <td>0.000000</td>\n",
       "      <td>1.0</td>\n",
       "      <td>1.0</td>\n",
       "      <td>1.000000</td>\n",
       "      <td>1.000000</td>\n",
       "      <td>1.000000</td>\n",
       "      <td>1.000000</td>\n",
       "    </tr>\n",
       "    <tr>\n",
       "      <th>25%</th>\n",
       "      <td>914.000000</td>\n",
       "      <td>32491.000000</td>\n",
       "      <td>0.000000</td>\n",
       "      <td>565.000000</td>\n",
       "      <td>2.450000e+04</td>\n",
       "      <td>521.000000</td>\n",
       "      <td>1409.000000</td>\n",
       "      <td>2.202067e+06</td>\n",
       "      <td>1334.000000</td>\n",
       "      <td>1.312000e+03</td>\n",
       "      <td>1.000000</td>\n",
       "      <td>1.0</td>\n",
       "      <td>1.0</td>\n",
       "      <td>4.000000</td>\n",
       "      <td>4.000000</td>\n",
       "      <td>4.000000</td>\n",
       "      <td>4.000000</td>\n",
       "    </tr>\n",
       "    <tr>\n",
       "      <th>50%</th>\n",
       "      <td>1319.000000</td>\n",
       "      <td>33543.000000</td>\n",
       "      <td>0.000000</td>\n",
       "      <td>1083.000000</td>\n",
       "      <td>6.890600e+04</td>\n",
       "      <td>969.000000</td>\n",
       "      <td>2365.000000</td>\n",
       "      <td>4.219266e+06</td>\n",
       "      <td>1920.000000</td>\n",
       "      <td>5.724000e+03</td>\n",
       "      <td>1.000000</td>\n",
       "      <td>1.0</td>\n",
       "      <td>1.0</td>\n",
       "      <td>5.000000</td>\n",
       "      <td>5.000000</td>\n",
       "      <td>5.000000</td>\n",
       "      <td>5.000000</td>\n",
       "    </tr>\n",
       "    <tr>\n",
       "      <th>75%</th>\n",
       "      <td>1760.000000</td>\n",
       "      <td>34991.000000</td>\n",
       "      <td>0.000000</td>\n",
       "      <td>3089.000000</td>\n",
       "      <td>3.010560e+05</td>\n",
       "      <td>2751.000000</td>\n",
       "      <td>4031.000000</td>\n",
       "      <td>1.195284e+07</td>\n",
       "      <td>1920.000000</td>\n",
       "      <td>1.564000e+04</td>\n",
       "      <td>2.000000</td>\n",
       "      <td>1.0</td>\n",
       "      <td>1.0</td>\n",
       "      <td>5.000000</td>\n",
       "      <td>5.000000</td>\n",
       "      <td>5.000000</td>\n",
       "      <td>5.000000</td>\n",
       "    </tr>\n",
       "    <tr>\n",
       "      <th>max</th>\n",
       "      <td>129868.000000</td>\n",
       "      <td>861791.000000</td>\n",
       "      <td>106.844064</td>\n",
       "      <td>29320.000000</td>\n",
       "      <td>1.779527e+09</td>\n",
       "      <td>134576.000000</td>\n",
       "      <td>129135.000000</td>\n",
       "      <td>1.096460e+08</td>\n",
       "      <td>2880.000000</td>\n",
       "      <td>2.329728e+06</td>\n",
       "      <td>3.000000</td>\n",
       "      <td>1.0</td>\n",
       "      <td>1.0</td>\n",
       "      <td>5.000000</td>\n",
       "      <td>5.000000</td>\n",
       "      <td>5.000000</td>\n",
       "      <td>5.000000</td>\n",
       "    </tr>\n",
       "  </tbody>\n",
       "</table>\n",
       "</div>"
      ],
      "text/plain": [
       "       InitialBufferTime  VideoPlayDuration  StallingRatio  VIDEO_BITRATE  \\\n",
       "count       31139.000000       31139.000000   31139.000000   31139.000000   \n",
       "mean         1430.146215       36372.520987       0.116424    1849.118469   \n",
       "std          1660.649817       27314.069783       1.336802    1598.240934   \n",
       "min        -79849.000000        1216.000000       0.000000       0.000000   \n",
       "25%           914.000000       32491.000000       0.000000     565.000000   \n",
       "50%          1319.000000       33543.000000       0.000000    1083.000000   \n",
       "75%          1760.000000       34991.000000       0.000000    3089.000000   \n",
       "max        129868.000000      861791.000000     106.844064   29320.000000   \n",
       "\n",
       "       VIDEO_ALL_PEAK_RATE  VIDEO_AVERAGE_RATE  USERBUFFERTIME     VIDEOSIZE  \\\n",
       "count         3.113900e+04        31139.000000    31139.000000  3.113900e+04   \n",
       "mean          1.497782e+06         1657.630849     2870.739041  7.398636e+06   \n",
       "std           2.891052e+07         1602.295666     2486.985350  6.681800e+06   \n",
       "min           0.000000e+00           84.000000   -39055.000000  1.110760e+06   \n",
       "25%           2.450000e+04          521.000000     1409.000000  2.202067e+06   \n",
       "50%           6.890600e+04          969.000000     2365.000000  4.219266e+06   \n",
       "75%           3.010560e+05         2751.000000     4031.000000  1.195284e+07   \n",
       "max           1.779527e+09       134576.000000   129135.000000  1.096460e+08   \n",
       "\n",
       "       SCREEN_RESOLUTION_LONG  VIDEO_BUFFERING_PEAK_RATE  VIDEO_CLARITY  \\\n",
       "count            31139.000000               3.113900e+04   31139.000000   \n",
       "mean              1747.843476               1.202968e+04       1.432512   \n",
       "std                385.810502               3.044126e+04       1.060640   \n",
       "min                  0.000000               0.000000e+00       0.000000   \n",
       "25%               1334.000000               1.312000e+03       1.000000   \n",
       "50%               1920.000000               5.724000e+03       1.000000   \n",
       "75%               1920.000000               1.564000e+04       2.000000   \n",
       "max               2880.000000               2.329728e+06       3.000000   \n",
       "\n",
       "       VideoCode  CodeProfile         EVMOS      ELOADING     ESTALLING  \\\n",
       "count    31139.0      31139.0  31139.000000  31139.000000  31139.000000   \n",
       "mean         1.0          1.0      4.301840      4.356691      4.486881   \n",
       "std          0.0          0.0      0.938367      0.971150      0.891172   \n",
       "min          1.0          1.0      1.000000      1.000000      1.000000   \n",
       "25%          1.0          1.0      4.000000      4.000000      4.000000   \n",
       "50%          1.0          1.0      5.000000      5.000000      5.000000   \n",
       "75%          1.0          1.0      5.000000      5.000000      5.000000   \n",
       "max          1.0          1.0      5.000000      5.000000      5.000000   \n",
       "\n",
       "         USER_SCORE  \n",
       "count  31139.000000  \n",
       "mean       4.267285  \n",
       "std        0.995500  \n",
       "min        1.000000  \n",
       "25%        4.000000  \n",
       "50%        5.000000  \n",
       "75%        5.000000  \n",
       "max        5.000000  "
      ]
     },
     "execution_count": 21,
     "metadata": {},
     "output_type": "execute_result"
    }
   ],
   "source": [
    "data.describe()"
   ]
  },
  {
   "cell_type": "code",
   "execution_count": 19,
   "metadata": {},
   "outputs": [
    {
     "data": {
      "text/plain": [
       "1    31139\n",
       "Name: VideoCode, dtype: int64"
      ]
     },
     "execution_count": 19,
     "metadata": {},
     "output_type": "execute_result"
    }
   ],
   "source": [
    "data['VideoCode'].value_counts()"
   ]
  },
  {
   "cell_type": "code",
   "execution_count": 20,
   "metadata": {},
   "outputs": [
    {
     "data": {
      "text/plain": [
       "1    31139\n",
       "Name: CodeProfile, dtype: int64"
      ]
     },
     "execution_count": 20,
     "metadata": {},
     "output_type": "execute_result"
    }
   ],
   "source": [
    "data['CodeProfile'].value_counts()"
   ]
  },
  {
   "cell_type": "code",
   "execution_count": null,
   "metadata": {
    "collapsed": true
   },
   "outputs": [],
   "source": []
  }
 ],
 "metadata": {
  "kernelspec": {
   "display_name": "Python 3",
   "language": "python",
   "name": "python3"
  },
  "language_info": {
   "codemirror_mode": {
    "name": "ipython",
    "version": 3
   },
   "file_extension": ".py",
   "mimetype": "text/x-python",
   "name": "python",
   "nbconvert_exporter": "python",
   "pygments_lexer": "ipython3",
   "version": "3.5.2"
  }
 },
 "nbformat": 4,
 "nbformat_minor": 2
}
