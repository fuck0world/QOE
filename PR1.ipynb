{
 "cells": [
  {
   "cell_type": "code",
   "execution_count": 41,
   "metadata": {
    "collapsed": true
   },
   "outputs": [],
   "source": [
    "path_1 = 'C:\\\\Users\\\\ppxx\\\\Desktop\\\\data\\\\PR\\\\HW1\\\\test\\\\1.bmp'"
   ]
  },
  {
   "cell_type": "code",
   "execution_count": 42,
   "metadata": {
    "collapsed": true
   },
   "outputs": [],
   "source": [
    "from skimage import io\n",
    "import matplotlib.pyplot as plt # plt 用于显示图片\n",
    "import matplotlib.image as mpimg # mpimg 用于读取图片\n",
    "import numpy as np\n",
    "from skimage import io"
   ]
  },
  {
   "cell_type": "code",
   "execution_count": 43,
   "metadata": {},
   "outputs": [
    {
     "data": {
      "text/plain": [
       "(73, 274, 3)"
      ]
     },
     "execution_count": 43,
     "metadata": {},
     "output_type": "execute_result"
    }
   ],
   "source": [
    "test_1 = mpimg.imread(path_1)\n",
    "test_1.shape"
   ]
  },
  {
   "cell_type": "code",
   "execution_count": 47,
   "metadata": {},
   "outputs": [
    {
     "data": {
      "text/plain": [
       "array([[209, 206, 204, ..., 122, 124, 125],\n",
       "       [205, 202, 199, ..., 108, 114, 115],\n",
       "       [208, 205, 201, ..., 107, 106, 104],\n",
       "       ..., \n",
       "       [193, 192, 193, ..., 125, 124, 123],\n",
       "       [190, 186, 190, ..., 124, 126, 128],\n",
       "       [184, 183, 183, ..., 124, 127, 125]], dtype=uint8)"
      ]
     },
     "execution_count": 47,
     "metadata": {},
     "output_type": "execute_result"
    }
   ],
   "source": [
    "test_1[:,:,0]"
   ]
  },
  {
   "cell_type": "code",
   "execution_count": 54,
   "metadata": {},
   "outputs": [
    {
     "data": {
      "image/png": "[encoded data removed]",
      "text/plain": [
       "<matplotlib.figure.Figure at 0x1a8c75a0ba8>"
      ]
     },
     "metadata": {},
     "output_type": "display_data"
    }
   ],
   "source": [
    "plt.imshow(test_1) \n",
    "plt.axis('off') \n",
    "plt.show()"
   ]
  },
  {
   "cell_type": "code",
   "execution_count": null,
   "metadata": {
    "collapsed": true
   },
   "outputs": [],
   "source": [
    "w, h, b = test_1.shape"
   ]
  },
  {
   "cell_type": "code",
   "execution_count": null,
   "metadata": {
    "collapsed": true
   },
   "outputs": [],
   "source": [
    "row_num = 2\n",
    "col_num = 8"
   ]
  },
  {
   "cell_type": "code",
   "execution_count": null,
   "metadata": {
    "collapsed": true
   },
   "outputs": [],
   "source": [
    "num = 0\n",
    "row_height = h // row_num\n",
    "col_width = w // col_num"
   ]
  },
  {
   "cell_type": "code",
   "execution_count": null,
   "metadata": {},
   "outputs": [],
   "source": [
    "box_list = []\n",
    "for r in range(row_num):\n",
    "    for c in range(col_num):\n",
    "        box = (c * col_width, r * row_height, (c + 1) * col_width, (r + 1) * row_height)\n",
    "        box_list.append(box)\n",
    "image_list = [test_1.crop(box) for box in box_list]"
   ]
  },
  {
   "cell_type": "code",
   "execution_count": 1,
   "metadata": {
    "collapsed": true
   },
   "outputs": [],
   "source": [
    "import cv2\n",
    "import numpy as np\n",
    "from matplotlib import pyplot as plt"
   ]
  },
  {
   "cell_type": "code",
   "execution_count": 2,
   "metadata": {
    "collapsed": true
   },
   "outputs": [],
   "source": [
    "img_1 = 'C:\\\\Users\\\\ppxx\\\\Desktop\\\\data\\\\PR\\\\HW1\\\\test\\\\1.bmp'\n",
    "num_0 = 'C:\\\\Users\\\\ppxx\\\\Desktop\\\\data\\\\PR\\\\HW1\\\\train\\\\0.bmp'\n",
    "# 1.读入原图和模板\n",
    "img_rgb = cv2.imread(img_1)\n",
    "img_gray = cv2.cvtColor(img_rgb, cv2.COLOR_BGR2GRAY)\n",
    "template = cv2.imread(num_0, 0)\n",
    "h, w = template.shape[:2]"
   ]
  },
  {
   "cell_type": "code",
   "execution_count": 6,
   "metadata": {},
   "outputs": [],
   "source": [
    "# 1.模板匹配\n",
    "img = cv2.imread(img_1, 0)\n",
    "template = cv2.imread(num_0, 0)\n",
    "h, w = template.shape[:2]  # rows->h, cols->w\n",
    "\n",
    "# 6种匹配方法\n",
    "methods = ['cv2.TM_CCOEFF', 'cv2.TM_CCOEFF_NORMED', 'cv2.TM_CCORR',\n",
    "           'cv2.TM_CCORR_NORMED', 'cv2.TM_SQDIFF', 'cv2.TM_SQDIFF_NORMED']"
   ]
  },
  {
   "cell_type": "code",
   "execution_count": 7,
   "metadata": {},
   "outputs": [
    {
     "data": {
      "image/png": "[encoded data removed]",
      "text/plain": [
       "<matplotlib.figure.Figure at 0x1a8c4fda6a0>"
      ]
     },
     "metadata": {},
     "output_type": "display_data"
    }
   ],
   "source": [
    "for meth in methods:\n",
    "    img2 = img.copy()\n",
    "\n",
    "    # 匹配方法的真值\n",
    "    method = eval(meth)\n",
    "    res = cv2.matchTemplate(img, template, method)\n",
    "    min_val, max_val, min_loc, max_loc = cv2.minMaxLoc(res)\n",
    "\n",
    "    # 如果是平方差匹配TM_SQDIFF或归一化平方差匹配TM_SQDIFF_NORMED，取最小值\n",
    "    if method in [cv2.TM_SQDIFF, cv2.TM_SQDIFF_NORMED]:\n",
    "        top_left = min_loc\n",
    "    else:\n",
    "        top_left = max_loc\n",
    "    bottom_right = (top_left[0] + w, top_left[1] + h)\n",
    "\n",
    "    # 画矩形\n",
    "    cv2.rectangle(img2, top_left, bottom_right, 255, 2)\n",
    "\n",
    "    plt.subplot(121), plt.imshow(res, cmap='gray')\n",
    "    plt.xticks([]), plt.yticks([])  # 隐藏坐标轴\n",
    "    plt.subplot(122), plt.imshow(img2, cmap='gray')\n",
    "    plt.xticks([]), plt.yticks([])\n",
    "    plt.suptitle(meth)\n",
    "plt.show()"
   ]
  },
  {
   "cell_type": "code",
   "execution_count": 16,
   "metadata": {},
   "outputs": [
    {
     "data": {
      "text/plain": [
       "-1"
      ]
     },
     "execution_count": 16,
     "metadata": {},
     "output_type": "execute_result"
    }
   ],
   "source": [
    "num_1 = 'C:\\\\Users\\\\ppxx\\\\Desktop\\\\data\\\\PR\\\\HW1\\\\train\\\\1.bmp'\n",
    "# 2.匹配多个物体\n",
    "img_rgb = cv2.imread(img_1)\n",
    "img_gray = cv2.cvtColor(img_rgb, cv2.COLOR_BGR2GRAY)\n",
    "template = cv2.imread(num_1, 0)\n",
    "h, w = template.shape[:2]\n",
    "\n",
    "res = cv2.matchTemplate(img_gray, template, cv2.TM_CCOEFF_NORMED)\n",
    "threshold = 0.8\n",
    "# 取匹配程度大于%80的坐标\n",
    "loc = np.where(res >= threshold)\n",
    "for pt in zip(*loc[::-1]):  # *号表示可选参数\n",
    "    bottom_right = (pt[0] + w, pt[1] + h)\n",
    "    cv2.rectangle(img_rgb, pt, bottom_right, (0, 0, 255), 2)\n",
    "\n",
    "cv2.imshow('img_rgb', img_rgb)\n",
    "cv2.waitKey(0)"
   ]
  },
  {
   "cell_type": "code",
   "execution_count": 18,
   "metadata": {},
   "outputs": [
    {
     "data": {
      "text/plain": [
       "19"
      ]
     },
     "execution_count": 18,
     "metadata": {},
     "output_type": "execute_result"
    }
   ],
   "source": [
    "w"
   ]
  },
  {
   "cell_type": "code",
   "execution_count": 19,
   "metadata": {
    "collapsed": true
   },
   "outputs": [],
   "source": [
    "import cv2\n",
    "import numpy as np\n",
    "from matplotlib import pyplot as plt"
   ]
  },
  {
   "cell_type": "code",
   "execution_count": 21,
   "metadata": {
    "collapsed": true
   },
   "outputs": [],
   "source": [
    "num_0 = 'C:\\\\Users\\\\ppxx\\\\Desktop\\\\data\\\\PR\\\\HW1\\\\train\\\\0.bmp'\n",
    "num_1 = 'C:\\\\Users\\\\ppxx\\\\Desktop\\\\data\\\\PR\\\\HW1\\\\train\\\\1.bmp'\n",
    "num_2 = 'C:\\\\Users\\\\ppxx\\\\Desktop\\\\data\\\\PR\\\\HW1\\\\train\\\\2.bmp'\n",
    "num_3 = 'C:\\\\Users\\\\ppxx\\\\Desktop\\\\data\\\\PR\\\\HW1\\\\train\\\\3.bmp'\n",
    "num_4 = 'C:\\\\Users\\\\ppxx\\\\Desktop\\\\data\\\\PR\\\\HW1\\\\train\\\\4.bmp'\n",
    "num_6 = 'C:\\\\Users\\\\ppxx\\\\Desktop\\\\data\\\\PR\\\\HW1\\\\train\\\\6.bmp'\n",
    "num_7 = 'C:\\\\Users\\\\ppxx\\\\Desktop\\\\data\\\\PR\\\\HW1\\\\train\\\\7.bmp'\n",
    "num_8 = 'C:\\\\Users\\\\ppxx\\\\Desktop\\\\data\\\\PR\\\\HW1\\\\train\\\\8.bmp'\n",
    "num_9 = 'C:\\\\Users\\\\ppxx\\\\Desktop\\\\data\\\\PR\\\\HW1\\\\train\\\\9.bmp'\n",
    "num = [num_0, num_1, num_2, num_3, num_4, num_6, num_7, num_8, num_9]\n",
    "\n",
    "img_1 = 'C:\\\\Users\\\\ppxx\\\\Desktop\\\\data\\\\PR\\\\HW1\\\\test\\\\1.bmp'\n",
    "img_2 = 'C:\\\\Users\\\\ppxx\\\\Desktop\\\\data\\\\PR\\\\HW1\\\\test\\\\1.bmp'\n",
    "img_3 = 'C:\\\\Users\\\\ppxx\\\\Desktop\\\\data\\\\PR\\\\HW1\\\\test\\\\1.bmp'\n",
    "img_4 = 'C:\\\\Users\\\\ppxx\\\\Desktop\\\\data\\\\PR\\\\HW1\\\\test\\\\1.bmp'\n",
    "img_5 = 'C:\\\\Users\\\\ppxx\\\\Desktop\\\\data\\\\PR\\\\HW1\\\\test\\\\1.bmp'\n",
    "img_6 = 'C:\\\\Users\\\\ppxx\\\\Desktop\\\\data\\\\PR\\\\HW1\\\\test\\\\1.bmp'\n",
    "img = [img_1, img_2, img_3, img_4, img_5, img_6]"
   ]
  },
  {
   "cell_type": "code",
   "execution_count": 26,
   "metadata": {
    "collapsed": true
   },
   "outputs": [],
   "source": [
    "img_rgb = cv2.imread(img_1)\n",
    "img_gray = cv2.cvtColor(img_rgb, cv2.COLOR_BGR2GRAY)\n",
    "template = cv2.imread(num_1, 0)\n",
    "h, w = template.shape[:2]\n",
    "width, lenth = img_gray.shape[:2]"
   ]
  },
  {
   "cell_type": "code",
   "execution_count": 40,
   "metadata": {},
   "outputs": [
    {
     "ename": "ValueError",
     "evalue": "point operation not supported for this mode",
     "output_type": "error",
     "traceback": [
      "\u001b[1;31m---------------------------------------------------------------------------\u001b[0m",
      "\u001b[1;31mValueError\u001b[0m                                Traceback (most recent call last)",
      "\u001b[1;32m<ipython-input-40-d60fc31d2dd8>\u001b[0m in \u001b[0;36m<module>\u001b[1;34m()\u001b[0m\n\u001b[0;32m     12\u001b[0m         \u001b[0mtable\u001b[0m\u001b[1;33m.\u001b[0m\u001b[0mappend\u001b[0m\u001b[1;33m(\u001b[0m\u001b[1;36m1\u001b[0m\u001b[1;33m)\u001b[0m\u001b[1;33m\u001b[0m\u001b[0m\n\u001b[0;32m     13\u001b[0m \u001b[1;31m# 图片二值化\u001b[0m\u001b[1;33m\u001b[0m\u001b[1;33m\u001b[0m\u001b[0m\n\u001b[1;32m---> 14\u001b[1;33m \u001b[0mphoto\u001b[0m \u001b[1;33m=\u001b[0m \u001b[0mimg\u001b[0m\u001b[1;33m.\u001b[0m\u001b[0mpoint\u001b[0m\u001b[1;33m(\u001b[0m\u001b[0mtable\u001b[0m\u001b[1;33m,\u001b[0m \u001b[1;34m'1'\u001b[0m\u001b[1;33m)\u001b[0m\u001b[1;33m\u001b[0m\u001b[0m\n\u001b[0m\u001b[0;32m     15\u001b[0m \u001b[0mphoto\u001b[0m\u001b[1;33m.\u001b[0m\u001b[0msave\u001b[0m\u001b[1;33m(\u001b[0m\u001b[1;34m\"C:\\\\Users\\\\ppxx\\\\Desktop\\\\data\\\\PR\\HW1\\\\test\\\\1.jpg\"\u001b[0m\u001b[1;33m)\u001b[0m\u001b[1;33m\u001b[0m\u001b[0m\n",
      "\u001b[1;32m~\\Anaconda3\\envs\\tensorflow\\lib\\site-packages\\PIL\\Image.py\u001b[0m in \u001b[0;36mpoint\u001b[1;34m(self, lut, mode)\u001b[0m\n\u001b[0;32m   1462\u001b[0m             \u001b[1;32mraise\u001b[0m \u001b[0mValueError\u001b[0m\u001b[1;33m(\u001b[0m\u001b[1;34m\"point operation not supported for this mode\"\u001b[0m\u001b[1;33m)\u001b[0m\u001b[1;33m\u001b[0m\u001b[0m\n\u001b[0;32m   1463\u001b[0m \u001b[1;33m\u001b[0m\u001b[0m\n\u001b[1;32m-> 1464\u001b[1;33m         \u001b[1;32mreturn\u001b[0m \u001b[0mself\u001b[0m\u001b[1;33m.\u001b[0m\u001b[0m_new\u001b[0m\u001b[1;33m(\u001b[0m\u001b[0mself\u001b[0m\u001b[1;33m.\u001b[0m\u001b[0mim\u001b[0m\u001b[1;33m.\u001b[0m\u001b[0mpoint\u001b[0m\u001b[1;33m(\u001b[0m\u001b[0mlut\u001b[0m\u001b[1;33m,\u001b[0m \u001b[0mmode\u001b[0m\u001b[1;33m)\u001b[0m\u001b[1;33m)\u001b[0m\u001b[1;33m\u001b[0m\u001b[0m\n\u001b[0m\u001b[0;32m   1465\u001b[0m \u001b[1;33m\u001b[0m\u001b[0m\n\u001b[0;32m   1466\u001b[0m     \u001b[1;32mdef\u001b[0m \u001b[0mputalpha\u001b[0m\u001b[1;33m(\u001b[0m\u001b[0mself\u001b[0m\u001b[1;33m,\u001b[0m \u001b[0malpha\u001b[0m\u001b[1;33m)\u001b[0m\u001b[1;33m:\u001b[0m\u001b[1;33m\u001b[0m\u001b[0m\n",
      "\u001b[1;31mValueError\u001b[0m: point operation not supported for this mode"
     ]
    }
   ],
   "source": []
  },
  {
   "cell_type": "code",
   "execution_count": null,
   "metadata": {
    "collapsed": true
   },
   "outputs": [],
   "source": []
  }
 ],
 "metadata": {
  "kernelspec": {
   "display_name": "Python 3",
   "language": "python",
   "name": "python3"
  },
  "language_info": {
   "codemirror_mode": {
    "name": "ipython",
    "version": 3
   },
   "file_extension": ".py",
   "mimetype": "text/x-python",
   "name": "python",
   "nbconvert_exporter": "python",
   "pygments_lexer": "ipython3",
   "version": "3.5.2"
  }
 },
 "nbformat": 4,
 "nbformat_minor": 2
}
