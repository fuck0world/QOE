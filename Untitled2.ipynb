{
 "cells": [
  {
   "cell_type": "code",
   "execution_count": null,
   "metadata": {
    "collapsed": true
   },
   "outputs": [],
   "source": [
    "import pandas as pd"
   ]
  },
  {
   "cell_type": "code",
   "execution_count": null,
   "metadata": {
    "collapsed": true
   },
   "outputs": [],
   "source": [
    "data = pd.read_csv('E:\\\\备份\\\\训练数据汇总(8W)\\\\409.csv')"
   ]
  },
  {
   "cell_type": "code",
   "execution_count": null,
   "metadata": {},
   "outputs": [],
   "source": [
    "data.info()"
   ]
  },
  {
   "cell_type": "code",
   "execution_count": null,
   "metadata": {},
   "outputs": [],
   "source": [
    "data['PHONE_VERSION'].loc[data['PHONE_VERSION'] == 'HONOR'] = 'HUAWEI'"
   ]
  },
  {
   "cell_type": "code",
   "execution_count": null,
   "metadata": {},
   "outputs": [],
   "source": [
    "a = data['PHONE_VERSION']\n",
    "len(a)"
   ]
  },
  {
   "cell_type": "code",
   "execution_count": null,
   "metadata": {
    "collapsed": true
   },
   "outputs": [],
   "source": [
    "phone_brand = ['HUAWEI', 'IPHONE', 'XIAOMI', 'OPPO', 'SAMSUNG', 'VIVO', 'MEIZU', 'SMARTISAN']"
   ]
  },
  {
   "cell_type": "code",
   "execution_count": null,
   "metadata": {
    "collapsed": true
   },
   "outputs": [],
   "source": [
    "for index, name in enumerate(a):\n",
    "    if not name in phone_brand:\n",
    "        name = 'Nan'"
   ]
  },
  {
   "cell_type": "code",
   "execution_count": null,
   "metadata": {},
   "outputs": [],
   "source": [
    "data['PHONE_VERSION'] = a"
   ]
  },
  {
   "cell_type": "code",
   "execution_count": null,
   "metadata": {},
   "outputs": [],
   "source": [
    "name = ['SCREEN_RESOLUTION_LONG','SCREEN_RESOLUTION_WIDTH','VIDEO_CLARITY','VIDEO_BITRATE',\n",
    "              'INITIAL_DELAY','INITIAL_DELAY_PEAK_RATE','VIDEO_STALLING_NUM','VIDEO_STALLING_TOTAL_TIME',\n",
    "              'VIDEO_TOTAL_TIME','VIDEO_PLAY_TOTAL_TIME','VIDEO_ALL_PEAK_RATE','VIDEO_AVERAGE_RATE',\n",
    "              'PHONE_ELECTRIC_START','PHONE_ELECTRIC_END','PHONE_VERSION','PING_AVG_RTT','PIXEL_NUMBER',\n",
    "              'BATTERY_LOSS','MEAN_STALLING_DURATION','ALL_DOWCLOAD_BIT','VIDEO_SIZE','error',\n",
    "              'USER_SCORE','ELOADING','ESTALLING','EVMOS']"
   ]
  },
  {
   "cell_type": "code",
   "execution_count": null,
   "metadata": {},
   "outputs": [],
   "source": [
    "data_1 = data[name]"
   ]
  },
  {
   "cell_type": "code",
   "execution_count": null,
   "metadata": {},
   "outputs": [],
   "source": [
    "data[name].to_csv('E:\\\\备份\\\\训练数据汇总(8W)\\\\2019_4_09.csv')"
   ]
  },
  {
   "cell_type": "code",
   "execution_count": 2,
   "metadata": {},
   "outputs": [],
   "source": [
    "import pandas as pd\n",
    "data = pd.read_csv('E:\\\\备份\\\\训练数据汇总(8W)\\\\2019_4_09.csv')"
   ]
  },
  {
   "cell_type": "code",
   "execution_count": 4,
   "metadata": {},
   "outputs": [],
   "source": [
    "data = data.loc[:, ~data.columns.str.contains('^Unnamed')]"
   ]
  },
  {
   "cell_type": "code",
   "execution_count": 5,
   "metadata": {},
   "outputs": [
    {
     "data": {
      "text/plain": [
       "(70153, 26)"
      ]
     },
     "execution_count": 5,
     "metadata": {},
     "output_type": "execute_result"
    }
   ],
   "source": [
    "data.shape"
   ]
  },
  {
   "cell_type": "code",
   "execution_count": 6,
   "metadata": {},
   "outputs": [],
   "source": [
    "data = data.dropna()"
   ]
  },
  {
   "cell_type": "code",
   "execution_count": 8,
   "metadata": {},
   "outputs": [
    {
     "data": {
      "text/plain": [
       "(69978, 26)"
      ]
     },
     "execution_count": 8,
     "metadata": {},
     "output_type": "execute_result"
    }
   ],
   "source": [
    "data.shape"
   ]
  },
  {
   "cell_type": "code",
   "execution_count": 11,
   "metadata": {},
   "outputs": [
    {
     "name": "stderr",
     "output_type": "stream",
     "text": [
      "C:\\Users\\ppxx\\Anaconda3\\envs\\tensorflow\\lib\\site-packages\\pandas\\core\\indexing.py:179: SettingWithCopyWarning: \n",
      "A value is trying to be set on a copy of a slice from a DataFrame\n",
      "\n",
      "See the caveats in the documentation: http://pandas.pydata.org/pandas-docs/stable/indexing.html#indexing-view-versus-copy\n",
      "  self._setitem_with_indexer(indexer, value)\n"
     ]
    }
   ],
   "source": [
    "data['PHONE_VERSION'].loc[data['PHONE_VERSION'] == 'HUAWEI'] = 1\n",
    "data['PHONE_VERSION'].loc[data['PHONE_VERSION'] == 'IPHONE'] = 2\n",
    "data['PHONE_VERSION'].loc[data['PHONE_VERSION'] == 'XIAOMI'] = 3\n",
    "data['PHONE_VERSION'].loc[data['PHONE_VERSION'] == 'OPPO'] = 4\n",
    "data['PHONE_VERSION'].loc[data['PHONE_VERSION'] == 'SAMSUNG'] = 5\n",
    "data['PHONE_VERSION'].loc[data['PHONE_VERSION'] == 'VIVO'] = 6\n",
    "data['PHONE_VERSION'].loc[data['PHONE_VERSION'] == 'MEIZU'] = 7\n",
    "data['PHONE_VERSION'].loc[data['PHONE_VERSION'] == 'SMARTISAN'] = 8"
   ]
  },
  {
   "cell_type": "code",
   "execution_count": 12,
   "metadata": {
    "collapsed": true
   },
   "outputs": [],
   "source": [
    "data.to_csv('E:\\\\备份\\\\训练数据汇总(8W)\\\\2019_4_9手机型号离散化.csv')"
   ]
  },
  {
   "cell_type": "code",
   "execution_count": null,
   "metadata": {
    "collapsed": true
   },
   "outputs": [],
   "source": []
  }
 ],
 "metadata": {
  "kernelspec": {
   "display_name": "Python 3",
   "language": "python",
   "name": "python3"
  },
  "language_info": {
   "codemirror_mode": {
    "name": "ipython",
    "version": 3
   },
   "file_extension": ".py",
   "mimetype": "text/x-python",
   "name": "python",
   "nbconvert_exporter": "python",
   "pygments_lexer": "ipython3",
   "version": "3.5.2"
  }
 },
 "nbformat": 4,
 "nbformat_minor": 2
}
