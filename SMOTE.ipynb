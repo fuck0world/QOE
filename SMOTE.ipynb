{
 "cells": [
  {
   "cell_type": "code",
   "execution_count": null,
   "metadata": {},
   "outputs": [],
   "source": [
    "# 使用sklearn的make_classification生成不平衡数据样本\n",
    "from sklearn.datasets import make_classification\n",
    "# 生成一组0和1比例为9比1的样本，X为特征，y为对应的标签\n",
    "X, y = make_classification(n_classes=2, class_sep=2,\n",
    "                           weights=[0.9, 0.1], n_informative=3, \n",
    "                           n_redundant=1, flip_y=0,\n",
    "                           n_features=20, n_clusters_per_class=1, \n",
    "                           n_samples=1000, random_state=10)"
   ]
  },
  {
   "cell_type": "code",
   "execution_count": null,
   "metadata": {},
   "outputs": [],
   "source": [
    "from collections import Counter\n",
    "# 查看所生成的样本类别分布，0和1样本比例9比1，属于类别不平衡数据\n",
    "print(Counter(y))\n",
    "# Counter({0: 900, 1: 100})"
   ]
  },
  {
   "cell_type": "code",
   "execution_count": null,
   "metadata": {},
   "outputs": [],
   "source": [
    "# 使用imlbearn库中上采样方法中的SMOTE接口\n",
    "from imblearn.over_sampling import SMOTE"
   ]
  },
  {
   "cell_type": "code",
   "execution_count": null,
   "metadata": {},
   "outputs": [],
   "source": [
    "# 定义SMOTE模型，random_state相当于随机数种子的作用\n",
    "smo = SMOTE(random_state=42)\n",
    "X_smo, y_smo = smo.fit_sample(X, y)"
   ]
  },
  {
   "cell_type": "code",
   "execution_count": null,
   "metadata": {},
   "outputs": [],
   "source": [
    "print(Counter(y_smo))"
   ]
  },
  {
   "cell_type": "code",
   "execution_count": null,
   "metadata": {},
   "outputs": [],
   "source": [
    "# 可通过radio参数指定对应类别要生成的数据的数量\n",
    "smo = SMOTE(ratio={1: 300 },random_state=42)\n",
    "# 生成0和1比例为3比1的数据样本\n",
    "X_smo, y_smo = smo.fit_sample(X, y)\n",
    "print(Counter(y_smo))\n",
    "# Counter({0: 900, 1: 300})"
   ]
  },
  {
   "cell_type": "code",
   "execution_count": null,
   "metadata": {},
   "outputs": [],
   "source": [
    "from imblearn.under_sampling import RandomUnderSampler\n",
    "# 同理，也可使用ratio来指定下采样的比例\n",
    "rus = RandomUnderSampler(ratio={0: 500 }, random_state=0)\n",
    "X_rus, y_rus = rus.fit_sample(X, y)\n",
    "print(Counter(y_smo))\n",
    "# Counter({0: 500, 1: 300})"
   ]
  },
  {
   "cell_type": "code",
   "execution_count": 2,
   "metadata": {},
   "outputs": [],
   "source": [
    "from collections import Counter\n",
    "from imblearn.over_sampling import SMOTE\n",
    "smo = SMOTE(random_state=42)"
   ]
  },
  {
   "cell_type": "code",
   "execution_count": 3,
   "metadata": {
    "collapsed": true
   },
   "outputs": [],
   "source": [
    "import sys \n",
    "import tensorflow as tf\n",
    "import numpy as np\n",
    "import pandas as pd\n",
    "from sklearn.metrics import  accuracy_score\n",
    "from sklearn.metrics import mean_squared_error\n",
    "from sklearn.preprocessing import MinMaxScaler\n",
    "from sklearn.preprocessing import OneHotEncoder\n",
    "from sklearn.model_selection import train_test_split\n",
    "from sklearn.preprocessing import StandardScaler\n",
    "\n",
    "data = pd.read_csv('E:\\\\备份\\\\训练数据汇总(8W)\\\\2019_4_15.csv')\n",
    "data = data.loc[:, ~data.columns.str.contains('^Unnamed')]\n",
    "\n",
    "name = ['PHONE_VERSION', 'VIDEO_CLARITY']\n",
    "columns = data.columns.values.tolist()\n",
    "name_1 = [name for index, name in enumerate(columns) if name != name[0] and name != name[1]]\n",
    "\n",
    "scaler = MinMaxScaler()\n",
    "X1 = data[name_1[0:16]]\n",
    "X1_data = scaler.fit_transform(X1)\n",
    "Y = data[name_1[16:21]]\n",
    "X2 = data[name[0]]\n",
    "X3 = data[name[1]]\n",
    "\n",
    "X2_data = OneHotEncoder().fit_transform(X2.values.reshape(-1, 1)).todense().getA()\n",
    "X3_data = OneHotEncoder().fit_transform(X3.values.reshape(-1, 1)).todense().getA()\n",
    "\n",
    "X_data = np.hstack((X1_data, X2_data, X3_data))\n",
    "\n",
    "Y1 = data[[name_1[16]]]\n",
    "Y2 = data[[name_1[17]]]\n",
    "Y3 = data[[name_1[18]]]\n",
    "Y4 = data[[name_1[19]]]"
   ]
  },
  {
   "cell_type": "code",
   "execution_count": 5,
   "metadata": {},
   "outputs": [
    {
     "name": "stderr",
     "output_type": "stream",
     "text": [
      "C:\\Users\\ppxx\\Anaconda3\\envs\\tensorflow\\lib\\site-packages\\sklearn\\utils\\validation.py:578: DataConversionWarning: A column-vector y was passed when a 1d array was expected. Please change the shape of y to (n_samples, ), for example using ravel().\n",
      "  y = column_or_1d(y, warn=True)\n"
     ]
    }
   ],
   "source": [
    "X_smo, y_smo = smo.fit_sample(X_data, Y1)"
   ]
  },
  {
   "cell_type": "code",
   "execution_count": 6,
   "metadata": {},
   "outputs": [
    {
     "data": {
      "text/plain": [
       "Counter({1.0: 37701, 2.0: 37701, 3.0: 37701, 4.0: 37701, 5.0: 37701})"
      ]
     },
     "execution_count": 6,
     "metadata": {},
     "output_type": "execute_result"
    }
   ],
   "source": [
    "Counter(y_smo)"
   ]
  },
  {
   "cell_type": "code",
   "execution_count": null,
   "metadata": {
    "collapsed": true
   },
   "outputs": [],
   "source": []
  }
 ],
 "metadata": {
  "kernelspec": {
   "display_name": "Python 3",
   "language": "python",
   "name": "python3"
  },
  "language_info": {
   "codemirror_mode": {
    "name": "ipython",
    "version": 3
   },
   "file_extension": ".py",
   "mimetype": "text/x-python",
   "name": "python",
   "nbconvert_exporter": "python",
   "pygments_lexer": "ipython3",
   "version": "3.5.2"
  }
 },
 "nbformat": 4,
 "nbformat_minor": 2
}
