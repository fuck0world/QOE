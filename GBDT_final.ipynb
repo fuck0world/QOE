{
 "cells": [
  {
   "cell_type": "code",
   "execution_count": 1,
   "metadata": {},
   "outputs": [
    {
     "name": "stdout",
     "output_type": "stream",
     "text": [
      "{'max_depth': 1, 'learning_rate': 0.5, 'n_estimators': 50} 1.0\n",
      "Accuracy : 1\n",
      "{'max_depth': 1, 'learning_rate': 0.5, 'n_estimators': 50} 1.0\n",
      "Accuracy : 1\n",
      "{'max_depth': 1, 'learning_rate': 0.5, 'n_estimators': 50} 1.0\n",
      "Accuracy : 1\n",
      "{'max_depth': 1, 'learning_rate': 0.5, 'n_estimators': 50} 1.0\n",
      "Accuracy : 0.8195\n"
     ]
    }
   ],
   "source": [
    "#coding=utf-8\n",
    "from sklearn.ensemble import GradientBoostingClassifier\n",
    "from sklearn.model_selection  import GridSearchCV\n",
    "#from sklearn import cross_validation, metrics\n",
    "import sys \n",
    "import tensorflow as tf\n",
    "from sklearn.datasets import load_digits\n",
    "import numpy as np\n",
    "import pandas as pd\n",
    "from sklearn.metrics import  accuracy_score\n",
    "from sklearn.metrics import mean_squared_error\n",
    "from sklearn.externals import joblib\n",
    "from sklearn import metrics\n",
    "from sklearn.model_selection import train_test_split\n",
    "\n",
    "raw_datapath = 'E:\\\\code\\\\python\\\\qoe_model\\\\raw_data\\\\3w_data.csv'\n",
    "data = pd.read_csv(raw_datapath)\n",
    "\n",
    "column_names = ['InitialBufferTime', 'VideoPlayDuration','StallingRatio', 'VIDEO_BITRATE', 'VIDEO_CLARITY', 'VIDEO_ALL_PEAK_RATE', \n",
    "                'VIDEO_AVERAGE_RATE', 'USERBUFFERTIME', 'VIDEOSIZE', 'SCREEN_RESOLUTION_LONG', 'VIDEO_BUFFERING_PEAK_RATE', \n",
    "                'EVMOS', 'ELOADING', 'ESTALLING', 'USER_SCORE']\n",
    "############ 将 name 列的离散数据进行编号 ###############\n",
    "def class_normalization(name, X):\n",
    "    \n",
    "    # name不是list,是str\n",
    "    a = X[name]\n",
    "    b = a.value_counts()\n",
    "    c = b.index\n",
    "\n",
    "    list1 = []\n",
    "    list2 = []\n",
    "    for i in range(len(c)):\n",
    "        list1.append(i)\n",
    "        list2.append(c[i])\n",
    "        \n",
    "    b = a.replace(list2, list1)\n",
    "    \n",
    "    data1 = X.drop([name], axis=1)\n",
    "    data1.insert(2, name, b)\n",
    "    \n",
    "    return data1\n",
    "#################### 移除 name 列 ########################\n",
    "def remove_col(name, all_name):\n",
    "    \n",
    "    list = []\n",
    "    for i in range(len(column_names)):\n",
    "        if column_names[i] != name:\n",
    "            list.append(column_names[i])\n",
    "    return list\n",
    "\n",
    "# 生成每一个batch\n",
    "def generatebatch(X,Y,n_examples, batch_size): \n",
    "    for batch_i in range(n_examples // batch_size): \n",
    "        start = batch_i * batch_size \n",
    "        end = start + batch_size \n",
    "        batch_xs = X[start:end] \n",
    "        batch_ys = Y[start:end] \n",
    "        yield batch_xs, batch_ys \n",
    "\n",
    "from sklearn.utils import shuffle\n",
    "from sklearn.preprocessing import MinMaxScaler\n",
    "from sklearn.preprocessing import OneHotEncoder\n",
    "from sklearn.model_selection import train_test_split\n",
    "\n",
    "name = 'VIDEO_CLARITY'\n",
    "data1 = class_normalization(name, data)\n",
    "data1 = shuffle(data1)\n",
    "data1 = data1.reset_index(drop = True)\n",
    "\n",
    "X1 = data1[remove_col(name, column_names)]\n",
    "X2 = data1[[name]]\n",
    "\n",
    "# 选取第i个分数\n",
    "Y1 = data1[column_names[11]]\n",
    "Y2 = data1[column_names[12]]\n",
    "Y3 = data1[column_names[13]]\n",
    "Y4 = data1[column_names[14]]\n",
    "\n",
    "scaler = MinMaxScaler()\n",
    "X1_data = scaler.fit_transform(X1)\n",
    "X2_data = OneHotEncoder().fit_transform(X2.values.reshape(-1, 1)).todense()\n",
    "X_data = np.hstack((X1_data, X2_data)).getA()\n",
    "\n",
    "# 随机采样25%的数据用于测试，剩下的75%用于构建训练集合。\n",
    "X1_train, X1_test, y1_train, y1_test = train_test_split(X_data, Y1, test_size=0.25, random_state = 33)\n",
    "X2_train, X2_test, y2_train, y2_test = train_test_split(X_data, Y2, test_size=0.25, random_state = 33)\n",
    "X3_train, X3_test, y3_train, y3_test = train_test_split(X_data, Y3, test_size=0.25, random_state = 33)\n",
    "X4_train, X4_test, y4_train, y4_test = train_test_split(X_data, Y4, test_size=0.25, random_state = 33)\n",
    "\n",
    "y1_train.as_matrix()\n",
    "y2_train.as_matrix()\n",
    "y3_train.as_matrix()\n",
    "y4_train.as_matrix()\n",
    "\n",
    "################## SCORE 1 #######################\n",
    "parameters = {'n_estimators':[50, 100, 150], 'learning_rate':[0.5, 1, 1.5], 'max_depth':[1, 2, 3]}\n",
    "#构建模型，调优,确定十折交叉验证 \n",
    "estimator = GradientBoostingClassifier(random_state=42)\n",
    "gbdt = GridSearchCV(estimator=estimator, param_grid=parameters, cv=10).fit(X1_train, y1_train)\n",
    "print(gbdt.best_params_, gbdt.best_score_)\n",
    "\n",
    "joblib.dump(gbdt, \"E:\\\\code\\\\python\\\\qoe_model\\\\MODEL\\\\SCORE_1.m\")\n",
    "GBDT = joblib.load(\"E:\\\\code\\\\python\\\\qoe_model\\\\MODEL\\\\SCORE_1.m\")\n",
    "y_pred_1 = GBDT.predict(X1_test)\n",
    "print(\"Accuracy : %.4g\" % metrics.accuracy_score(y1_test, y_pred_1))\n",
    "\n",
    "################## SCORE 2 #######################\n",
    "parameters = {'n_estimators':[50, 100, 150], 'learning_rate':[0.5, 1, 1.5], 'max_depth':[1, 2, 3]}\n",
    "estimator = GradientBoostingClassifier(random_state=42)\n",
    "gbdt = GridSearchCV(estimator=estimator, param_grid=parameters, cv=10).fit(X2_train, y2_train)\n",
    "print(gbdt.best_params_, gbdt.best_score_)\n",
    "\n",
    "joblib.dump(gbdt, \"E:\\\\code\\\\python\\\\qoe_model\\\\MODEL\\\\SCORE_2.m\")\n",
    "GBDT = joblib.load(\"E:\\\\code\\\\python\\\\qoe_model\\\\MODEL\\\\SCORE_2.m\")\n",
    "y_pred_2 = GBDT.predict(X2_test)\n",
    "print(\"Accuracy : %.4g\" % metrics.accuracy_score(y2_test, y_pred_2))\n",
    "\n",
    "################## SCORE 3 #######################\n",
    "parameters = {'n_estimators':[50, 100, 150], 'learning_rate':[0.5, 1, 1.5], 'max_depth':[1, 2, 3]}\n",
    "estimator = GradientBoostingClassifier(random_state=42)\n",
    "gbdt = GridSearchCV(estimator=estimator, param_grid=parameters, cv=10).fit(X3_train, y3_train)\n",
    "print(gbdt.best_params_, gbdt.best_score_)\n",
    "\n",
    "joblib.dump(gbdt, \"E:\\\\code\\\\python\\\\qoe_model\\\\MODEL\\\\SCORE_3.m\")\n",
    "GBDT = joblib.load(\"E:\\\\code\\\\python\\\\qoe_model\\\\MODEL\\\\SCORE_3.m\")\n",
    "y_pred_3 = GBDT.predict(X3_test)\n",
    "print(\"Accuracy : %.4g\" % metrics.accuracy_score(y3_test, y_pred_3))\n",
    "\n",
    "################### SCORE 4 #######################\n",
    "parameters = {'n_estimators':[50, 100, 150], 'learning_rate':[0.5, 1, 1.5], 'max_depth':[1, 2, 3]}\n",
    "estimator = GradientBoostingClassifier(random_state=42)\n",
    "gbdt = GridSearchCV(estimator=estimator, param_grid=parameters, cv=10).fit(X4_train, y4_train)\n",
    "print(gbdt.best_params_, gbdt.best_score_)\n",
    "\n",
    "joblib.dump(gbdt, \"E:\\\\code\\\\python\\\\qoe_model\\\\MODEL\\\\SCORE_4.m\")\n",
    "GBDT = joblib.load(\"E:\\\\code\\\\python\\\\qoe_model\\\\MODEL\\\\SCORE_4.m\")\n",
    "y_pred_4 = GBDT.predict(X4_test)\n",
    "print(\"Accuracy : %.4g\" % metrics.accuracy_score(y1_test, y_pred_4))"
   ]
  },
  {
   "cell_type": "code",
   "execution_count": 2,
   "metadata": {
    "collapsed": true
   },
   "outputs": [],
   "source": [
    "import numpy as np\n",
    "np.set_printoptions(threshold=np.inf)"
   ]
  },
  {
   "cell_type": "code",
   "execution_count": 3,
   "metadata": {},
   "outputs": [
    {
     "data": {
      "text/plain": [
       "5    4346\n",
       "4    1943\n",
       "3    1137\n",
       "2     266\n",
       "1      93\n",
       "Name: one, dtype: int64"
      ]
     },
     "execution_count": 3,
     "metadata": {},
     "output_type": "execute_result"
    }
   ],
   "source": [
    "from pandas import Series, DataFrame\n",
    "pd = DataFrame(y_pred_1, columns = ['one'])\n",
    "pd['one'].value_counts()"
   ]
  },
  {
   "cell_type": "code",
   "execution_count": 4,
   "metadata": {},
   "outputs": [
    {
     "data": {
      "text/plain": [
       "pandas.core.series.Series"
      ]
     },
     "execution_count": 4,
     "metadata": {},
     "output_type": "execute_result"
    }
   ],
   "source": [
    "type(pd['one'])"
   ]
  },
  {
   "cell_type": "code",
   "execution_count": 5,
   "metadata": {},
   "outputs": [
    {
     "data": {
      "text/plain": [
       "5    4798\n",
       "4    1592\n",
       "3     953\n",
       "2     326\n",
       "1     116\n",
       "Name: one, dtype: int64"
      ]
     },
     "execution_count": 5,
     "metadata": {},
     "output_type": "execute_result"
    }
   ],
   "source": [
    "pd2 = DataFrame(y_pred_2, columns = ['one'])\n",
    "pd2['one'].value_counts()"
   ]
  },
  {
   "cell_type": "code",
   "execution_count": 6,
   "metadata": {},
   "outputs": [
    {
     "data": {
      "text/plain": [
       "5    5300\n",
       "4    1413\n",
       "3     743\n",
       "2     229\n",
       "1     100\n",
       "Name: one, dtype: int64"
      ]
     },
     "execution_count": 6,
     "metadata": {},
     "output_type": "execute_result"
    }
   ],
   "source": [
    "pd3 = DataFrame(y_pred_3, columns = ['one'])\n",
    "pd3['one'].value_counts()"
   ]
  },
  {
   "cell_type": "code",
   "execution_count": 7,
   "metadata": {},
   "outputs": [
    {
     "data": {
      "text/plain": [
       "5    4421\n",
       "4    1723\n",
       "3    1158\n",
       "2     363\n",
       "1     120\n",
       "Name: one, dtype: int64"
      ]
     },
     "execution_count": 7,
     "metadata": {},
     "output_type": "execute_result"
    }
   ],
   "source": [
    "pd4 = DataFrame(y_pred_4, columns = ['one'])\n",
    "pd4['one'].value_counts()"
   ]
  },
  {
   "cell_type": "code",
   "execution_count": null,
   "metadata": {
    "collapsed": true
   },
   "outputs": [],
   "source": []
  }
 ],
 "metadata": {
  "kernelspec": {
   "display_name": "Python 3",
   "language": "python",
   "name": "python3"
  },
  "language_info": {
   "codemirror_mode": {
    "name": "ipython",
    "version": 3
   },
   "file_extension": ".py",
   "mimetype": "text/x-python",
   "name": "python",
   "nbconvert_exporter": "python",
   "pygments_lexer": "ipython3",
   "version": "3.5.2"
  }
 },
 "nbformat": 4,
 "nbformat_minor": 2
}
