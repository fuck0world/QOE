{
 "cells": [
  {
   "cell_type": "code",
   "execution_count": 1,
   "metadata": {
    "collapsed": true
   },
   "outputs": [],
   "source": [
    "import sys \n",
    "import tensorflow as tf\n",
    "import numpy as np\n",
    "import pandas as pd\n",
    "from sklearn.metrics import  accuracy_score\n",
    "from sklearn.metrics import mean_squared_error\n",
    "from sklearn.preprocessing import MinMaxScaler\n",
    "from sklearn.preprocessing import OneHotEncoder\n",
    "from sklearn.model_selection import train_test_split\n",
    "from sklearn.preprocessing import StandardScaler\n",
    "\n",
    "data = pd.read_csv('E:\\\\备份\\\\训练数据汇总(8W)\\\\2019_4_15.csv')\n",
    "data = data.loc[:, ~data.columns.str.contains('^Unnamed')]\n",
    "\n",
    "name = ['PHONE_VERSION', 'VIDEO_CLARITY']\n",
    "columns = data.columns.values.tolist()\n",
    "name_1 = [name for index, name in enumerate(columns) if name != name[0] and name != name[1]]\n",
    "\n",
    "scaler = MinMaxScaler()\n",
    "X1 = data[name_1[0:16]]\n",
    "X1_data = scaler.fit_transform(X1)\n",
    "Y = data[name_1[16:21]]\n",
    "X2 = data[name[0]]\n",
    "X3 = data[name[1]]\n",
    "\n",
    "X2_data = OneHotEncoder().fit_transform(X2.values.reshape(-1, 1)).todense().getA()\n",
    "X3_data = OneHotEncoder().fit_transform(X3.values.reshape(-1, 1)).todense().getA()\n",
    "\n",
    "X_data = np.hstack((X1_data, X2_data, X3_data))\n",
    "\n",
    "Y1 = data[[name_1[16]]]\n",
    "Y2 = data[[name_1[17]]]\n",
    "Y3 = data[[name_1[18]]]\n",
    "Y4 = data[[name_1[19]]]\n",
    "\n",
    "X1_train, X1_test, y1_train, y1_test = train_test_split(X_data, Y1, test_size=0.25, random_state = 33)\n",
    "X2_train, X2_test, y2_train, y2_test = train_test_split(X_data, Y2, test_size=0.25, random_state = 33)\n",
    "X3_train, X3_test, y3_train, y3_test = train_test_split(X_data, Y3, test_size=0.25, random_state = 33)\n",
    "X4_train, X4_test, y4_train, y4_test = train_test_split(X_data, Y4, test_size=0.25, random_state = 33)\n",
    "\n",
    "y1_train = OneHotEncoder().fit_transform(y1_train.values.reshape(-1, 1)).todense().getA()\n",
    "y1_test_code = OneHotEncoder().fit_transform(y1_test.values.reshape(-1, 1)).todense().getA()\n"
   ]
  },
  {
   "cell_type": "code",
   "execution_count": 2,
   "metadata": {
    "collapsed": true
   },
   "outputs": [],
   "source": [
    "def generatebatch(X,Y,n_examples, batch_size): \n",
    "    for batch_i in range(n_examples // batch_size): \n",
    "        start = batch_i * batch_size \n",
    "        end = start + batch_size \n",
    "        batch_xs = X[start:end] \n",
    "        batch_ys = Y[start:end] \n",
    "        yield batch_xs, batch_ys "
   ]
  },
  {
   "cell_type": "code",
   "execution_count": 3,
   "metadata": {},
   "outputs": [],
   "source": [
    "import tensorflow as tf\n",
    "\n",
    "def RNN(X,weights,biases):\n",
    "    # hidden layer for input\n",
    "    X = tf.reshape(X, [-1, n_inputs])\n",
    "    X_in = tf.matmul(X, weights['in']) + biases['in']\n",
    "    X_in = tf.reshape(X_in, [-1,n_steps, n_hidden_units])\n",
    "    \n",
    "    # cell\n",
    "    lstm_cell = tf.contrib.rnn.BasicLSTMCell(n_hidden_units, forget_bias=1.0, state_is_tuple=True)\n",
    "    _init_state = lstm_cell.zero_state(batch_size, dtype=tf.float32)\n",
    "    outputs,states = tf.nn.dynamic_rnn(lstm_cell, X_in, initial_state=_init_state, time_major=False)\n",
    "    \n",
    "    #hidden layer for output as the final results\n",
    "    #results = tf.matmul(states[1], weights['out']) + biases['out']\n",
    "    # or\n",
    "    outputs = tf.unstack(tf.transpose(outputs, [1,0,2]))\n",
    "    results = tf.matmul(outputs[-1], weights['out']) + biases['out']\n",
    "\n",
    "    return results\n",
    "\n",
    "# parameters init\n",
    "l_r = 0.001\n",
    "training_iters = 100\n",
    "batch_size = 128\n",
    "\n",
    "n_inputs = 7\n",
    "n_steps = 4\n",
    "n_hidden_units = 128\n",
    "n_classes = 5\n",
    "\n",
    "#define placeholder for input\n",
    "x = tf.placeholder(tf.float32, [None, n_steps, n_inputs])\n",
    "y = tf.placeholder(tf.float32, [None, n_classes])\n",
    "\n",
    "# define w and b\n",
    "weights = {\n",
    "    'in': tf.Variable(tf.random_normal([n_inputs,n_hidden_units])),\n",
    "    'out': tf.Variable(tf.random_normal([n_hidden_units,n_classes]))\n",
    "}\n",
    "biases = {\n",
    "    'in': tf.Variable(tf.constant(0.1,shape=[n_hidden_units,])),\n",
    "    'out': tf.Variable(tf.constant(0.1,shape=[n_classes,]))\n",
    "}\n",
    "\n",
    "pred = RNN(x, weights, biases)\n",
    "cost = tf.reduce_mean(tf.nn.softmax_cross_entropy_with_logits(logits=pred,labels=y))\n",
    "train_op = tf.train.AdamOptimizer(l_r).minimize(cost)\n",
    "\n",
    "correct_pred = tf.equal(tf.argmax(pred,1),tf.argmax(y,1))\n",
    "accuracy = tf.reduce_mean(tf.cast(correct_pred,tf.float32))\n",
    "\n",
    "#init session\n",
    "sess = tf.Session()\n",
    "#init all variables\n",
    "sess.run(tf.global_variables_initializer())\n",
    "#start training"
   ]
  },
  {
   "cell_type": "code",
   "execution_count": 4,
   "metadata": {},
   "outputs": [
    {
     "name": "stdout",
     "output_type": "stream",
     "text": [
      "0.765625\n"
     ]
    }
   ],
   "source": [
    "for i in range(training_iters):\n",
    "    for batch_xs,batch_ys in generatebatch(X1_train, y1_train, y1_train.shape[0], batch_size):\n",
    "        batch_xs = batch_xs.reshape([batch_size, n_steps, n_inputs])\n",
    "        sess.run(train_op,feed_dict={x: batch_xs, y: batch_ys})\n",
    "    if i % 100 == 0:\n",
    "        print(sess.run(accuracy,feed_dict={x: batch_xs, y: batch_ys}))"
   ]
  },
  {
   "cell_type": "code",
   "execution_count": 8,
   "metadata": {},
   "outputs": [],
   "source": [
    "test_data = X1_test.reshape([-1, n_steps, n_inputs])\n",
    "test_label = y1_test_code"
   ]
  },
  {
   "cell_type": "code",
   "execution_count": 11,
   "metadata": {},
   "outputs": [],
   "source": [
    "for batch_xs,batch_ys in generatebatch(X1_test, y1_test, y1_test.shape[0], batch_size):\n",
    "    batch_xs = batch_xs.reshape([batch_size, n_steps, n_inputs])\n",
    "    y_pre = sess.run(pred, feed_dict={x:batch_xs})"
   ]
  },
  {
   "cell_type": "code",
   "execution_count": null,
   "metadata": {
    "collapsed": true
   },
   "outputs": [],
   "source": []
  }
 ],
 "metadata": {
  "kernelspec": {
   "display_name": "Python 3",
   "language": "python",
   "name": "python3"
  },
  "language_info": {
   "codemirror_mode": {
    "name": "ipython",
    "version": 3
   },
   "file_extension": ".py",
   "mimetype": "text/x-python",
   "name": "python",
   "nbconvert_exporter": "python",
   "pygments_lexer": "ipython3",
   "version": "3.5.2"
  }
 },
 "nbformat": 4,
 "nbformat_minor": 2
}
