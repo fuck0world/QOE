{
 "cells": [
  {
   "cell_type": "code",
   "execution_count": 52,
   "metadata": {
    "collapsed": true
   },
   "outputs": [],
   "source": [
    "import pandas as pd\n",
    "import numpy as np"
   ]
  },
  {
   "cell_type": "code",
   "execution_count": 67,
   "metadata": {
    "collapsed": true
   },
   "outputs": [],
   "source": [
    "data = pd.read_csv('E:\\\\备份\\\\训练数据汇总(8W)\\\\2019_4_10_drop_duplicate.csv')\n",
    "data = data.loc[:, ~data.columns.str.contains('^Unnamed')]"
   ]
  },
  {
   "cell_type": "code",
   "execution_count": 68,
   "metadata": {},
   "outputs": [
    {
     "data": {
      "text/html": [
       "<div>\n",
       "<style>\n",
       "    .dataframe thead tr:only-child th {\n",
       "        text-align: right;\n",
       "    }\n",
       "\n",
       "    .dataframe thead th {\n",
       "        text-align: left;\n",
       "    }\n",
       "\n",
       "    .dataframe tbody tr th {\n",
       "        vertical-align: top;\n",
       "    }\n",
       "</style>\n",
       "<table border=\"1\" class=\"dataframe\">\n",
       "  <thead>\n",
       "    <tr style=\"text-align: right;\">\n",
       "      <th></th>\n",
       "      <th>SCREEN_RESOLUTION_LONG</th>\n",
       "      <th>SCREEN_RESOLUTION_WIDTH</th>\n",
       "      <th>VIDEO_CLARITY</th>\n",
       "      <th>VIDEO_BITRATE</th>\n",
       "      <th>INITIAL_DELAY</th>\n",
       "      <th>INITIAL_DELAY_PEAK_RATE</th>\n",
       "      <th>VIDEO_STALLING_NUM</th>\n",
       "      <th>VIDEO_STALLING_TOTAL_TIME</th>\n",
       "      <th>VIDEO_TOTAL_TIME</th>\n",
       "      <th>VIDEO_PLAY_TOTAL_TIME</th>\n",
       "      <th>...</th>\n",
       "      <th>PIXEL_NUMBER</th>\n",
       "      <th>BATTERY_LOSS</th>\n",
       "      <th>MEAN_STALLING_DURATION</th>\n",
       "      <th>ALL_DOWCLOAD_BIT</th>\n",
       "      <th>VIDEO_SIZE</th>\n",
       "      <th>error</th>\n",
       "      <th>USER_SCORE</th>\n",
       "      <th>ELOADING</th>\n",
       "      <th>ESTALLING</th>\n",
       "      <th>EVMOS</th>\n",
       "    </tr>\n",
       "  </thead>\n",
       "  <tbody>\n",
       "    <tr>\n",
       "      <th>0</th>\n",
       "      <td>1334.0</td>\n",
       "      <td>750.0</td>\n",
       "      <td>2</td>\n",
       "      <td>890</td>\n",
       "      <td>0</td>\n",
       "      <td>13066.0</td>\n",
       "      <td>0</td>\n",
       "      <td>0</td>\n",
       "      <td>29722.000122</td>\n",
       "      <td>30047</td>\n",
       "      <td>...</td>\n",
       "      <td>1000500.0</td>\n",
       "      <td>0</td>\n",
       "      <td>0.0</td>\n",
       "      <td>26411313</td>\n",
       "      <td>2.645258e+07</td>\n",
       "      <td>1.0</td>\n",
       "      <td>4.0</td>\n",
       "      <td>4.0</td>\n",
       "      <td>4.0</td>\n",
       "      <td>4.0</td>\n",
       "    </tr>\n",
       "    <tr>\n",
       "      <th>1</th>\n",
       "      <td>1334.0</td>\n",
       "      <td>750.0</td>\n",
       "      <td>1</td>\n",
       "      <td>534</td>\n",
       "      <td>0</td>\n",
       "      <td>15360.0</td>\n",
       "      <td>0</td>\n",
       "      <td>0</td>\n",
       "      <td>29722.000122</td>\n",
       "      <td>29990</td>\n",
       "      <td>...</td>\n",
       "      <td>1000500.0</td>\n",
       "      <td>0</td>\n",
       "      <td>0.0</td>\n",
       "      <td>15834720</td>\n",
       "      <td>1.587155e+07</td>\n",
       "      <td>1.0</td>\n",
       "      <td>4.0</td>\n",
       "      <td>4.0</td>\n",
       "      <td>4.0</td>\n",
       "      <td>4.0</td>\n",
       "    </tr>\n",
       "    <tr>\n",
       "      <th>2</th>\n",
       "      <td>1334.0</td>\n",
       "      <td>750.0</td>\n",
       "      <td>1</td>\n",
       "      <td>400</td>\n",
       "      <td>0</td>\n",
       "      <td>11920.0</td>\n",
       "      <td>0</td>\n",
       "      <td>0</td>\n",
       "      <td>30319.999695</td>\n",
       "      <td>30891</td>\n",
       "      <td>...</td>\n",
       "      <td>1000500.0</td>\n",
       "      <td>0</td>\n",
       "      <td>0.0</td>\n",
       "      <td>12109272</td>\n",
       "      <td>1.212800e+07</td>\n",
       "      <td>1.0</td>\n",
       "      <td>4.0</td>\n",
       "      <td>4.0</td>\n",
       "      <td>4.0</td>\n",
       "      <td>4.0</td>\n",
       "    </tr>\n",
       "    <tr>\n",
       "      <th>3</th>\n",
       "      <td>1334.0</td>\n",
       "      <td>750.0</td>\n",
       "      <td>1</td>\n",
       "      <td>864</td>\n",
       "      <td>0</td>\n",
       "      <td>19577.0</td>\n",
       "      <td>0</td>\n",
       "      <td>0</td>\n",
       "      <td>30959.999084</td>\n",
       "      <td>31411</td>\n",
       "      <td>...</td>\n",
       "      <td>1000500.0</td>\n",
       "      <td>0</td>\n",
       "      <td>0.0</td>\n",
       "      <td>26730761</td>\n",
       "      <td>2.674944e+07</td>\n",
       "      <td>1.0</td>\n",
       "      <td>4.0</td>\n",
       "      <td>4.0</td>\n",
       "      <td>4.0</td>\n",
       "      <td>4.0</td>\n",
       "    </tr>\n",
       "    <tr>\n",
       "      <th>4</th>\n",
       "      <td>1334.0</td>\n",
       "      <td>750.0</td>\n",
       "      <td>1</td>\n",
       "      <td>833</td>\n",
       "      <td>569</td>\n",
       "      <td>16647.0</td>\n",
       "      <td>0</td>\n",
       "      <td>0</td>\n",
       "      <td>29611.000061</td>\n",
       "      <td>30929</td>\n",
       "      <td>...</td>\n",
       "      <td>1000500.0</td>\n",
       "      <td>0</td>\n",
       "      <td>0.0</td>\n",
       "      <td>24650413</td>\n",
       "      <td>2.466596e+07</td>\n",
       "      <td>1.0</td>\n",
       "      <td>4.0</td>\n",
       "      <td>4.0</td>\n",
       "      <td>4.0</td>\n",
       "      <td>4.0</td>\n",
       "    </tr>\n",
       "  </tbody>\n",
       "</table>\n",
       "<p>5 rows × 26 columns</p>\n",
       "</div>"
      ],
      "text/plain": [
       "   SCREEN_RESOLUTION_LONG  SCREEN_RESOLUTION_WIDTH  VIDEO_CLARITY  \\\n",
       "0                  1334.0                    750.0              2   \n",
       "1                  1334.0                    750.0              1   \n",
       "2                  1334.0                    750.0              1   \n",
       "3                  1334.0                    750.0              1   \n",
       "4                  1334.0                    750.0              1   \n",
       "\n",
       "   VIDEO_BITRATE  INITIAL_DELAY  INITIAL_DELAY_PEAK_RATE  VIDEO_STALLING_NUM  \\\n",
       "0            890              0                  13066.0                   0   \n",
       "1            534              0                  15360.0                   0   \n",
       "2            400              0                  11920.0                   0   \n",
       "3            864              0                  19577.0                   0   \n",
       "4            833            569                  16647.0                   0   \n",
       "\n",
       "   VIDEO_STALLING_TOTAL_TIME  VIDEO_TOTAL_TIME  VIDEO_PLAY_TOTAL_TIME  ...    \\\n",
       "0                          0      29722.000122                  30047  ...     \n",
       "1                          0      29722.000122                  29990  ...     \n",
       "2                          0      30319.999695                  30891  ...     \n",
       "3                          0      30959.999084                  31411  ...     \n",
       "4                          0      29611.000061                  30929  ...     \n",
       "\n",
       "   PIXEL_NUMBER  BATTERY_LOSS  MEAN_STALLING_DURATION  ALL_DOWCLOAD_BIT  \\\n",
       "0     1000500.0             0                     0.0          26411313   \n",
       "1     1000500.0             0                     0.0          15834720   \n",
       "2     1000500.0             0                     0.0          12109272   \n",
       "3     1000500.0             0                     0.0          26730761   \n",
       "4     1000500.0             0                     0.0          24650413   \n",
       "\n",
       "     VIDEO_SIZE  error  USER_SCORE  ELOADING  ESTALLING  EVMOS  \n",
       "0  2.645258e+07    1.0         4.0       4.0        4.0    4.0  \n",
       "1  1.587155e+07    1.0         4.0       4.0        4.0    4.0  \n",
       "2  1.212800e+07    1.0         4.0       4.0        4.0    4.0  \n",
       "3  2.674944e+07    1.0         4.0       4.0        4.0    4.0  \n",
       "4  2.466596e+07    1.0         4.0       4.0        4.0    4.0  \n",
       "\n",
       "[5 rows x 26 columns]"
      ]
     },
     "execution_count": 68,
     "metadata": {},
     "output_type": "execute_result"
    }
   ],
   "source": [
    "data.head()"
   ]
  },
  {
   "cell_type": "code",
   "execution_count": 6,
   "metadata": {
    "collapsed": true
   },
   "outputs": [],
   "source": [
    "from sklearn.model_selection import train_test_split\n",
    "from sklearn.preprocessing import StandardScaler\n",
    "\n",
    "data.qos = data[['SCREEN_RESOLUTION_LONG','SCREEN_RESOLUTION_WIDTH','VIDEO_CLARITY','VIDEO_BITRATE',\n",
    "              'INITIAL_DELAY','INITIAL_DELAY_PEAK_RATE','VIDEO_STALLING_NUM','VIDEO_STALLING_TOTAL_TIME',\n",
    "              'VIDEO_TOTAL_TIME','VIDEO_PLAY_TOTAL_TIME','VIDEO_ALL_PEAK_RATE','VIDEO_AVERAGE_RATE',\n",
    "              'PHONE_ELECTRIC_START','PHONE_ELECTRIC_END','PHONE_VERSION', 'PING_AVG_RTT','PIXEL_NUMBER',\n",
    "              'BATTERY_LOSS','MEAN_STALLING_DURATION']]\n",
    "data.target = data[['USER_SCORE','ELOADING','ESTALLING','EVMOS']]\n",
    "X_train, X_test, y_train, y_test = train_test_split(data.qos, data.target, test_size=0.25, \n",
    "                                                    random_state=33)\n",
    "ss = StandardScaler()\n",
    "X_train = ss.fit_transform(X_train)\n",
    "X_test = ss.transform(X_test)"
   ]
  },
  {
   "cell_type": "code",
   "execution_count": 35,
   "metadata": {
    "collapsed": true
   },
   "outputs": [],
   "source": [
    "qos = ['SCREEN_RESOLUTION_LONG','SCREEN_RESOLUTION_WIDTH','VIDEO_CLARITY','VIDEO_BITRATE',\n",
    "        'INITIAL_DELAY','INITIAL_DELAY_PEAK_RATE','VIDEO_STALLING_NUM','VIDEO_STALLING_TOTAL_TIME',\n",
    "        'VIDEO_TOTAL_TIME','VIDEO_PLAY_TOTAL_TIME','VIDEO_ALL_PEAK_RATE','VIDEO_AVERAGE_RATE',\n",
    "        'PHONE_ELECTRIC_START','PHONE_ELECTRIC_END','PHONE_VERSION', 'PING_AVG_RTT','PIXEL_NUMBER',\n",
    "        'BATTERY_LOSS','MEAN_STALLING_DURATION']\n",
    "target = ['USER_SCORE','ELOADING','ESTALLING','EVMOS']"
   ]
  },
  {
   "cell_type": "code",
   "execution_count": 36,
   "metadata": {},
   "outputs": [
    {
     "data": {
      "text/plain": [
       "0.026662508230586125"
      ]
     },
     "execution_count": 36,
     "metadata": {},
     "output_type": "execute_result"
    }
   ],
   "source": [
    "from sklearn import metrics as mr\n",
    "mr.mutual_info_score(data.qos['SCREEN_RESOLUTION_LONG'], data.target['USER_SCORE'])"
   ]
  },
  {
   "cell_type": "code",
   "execution_count": 37,
   "metadata": {},
   "outputs": [],
   "source": [
    "import numpy as np\n",
    "score = np.zeros(19*4).reshape(19,4)"
   ]
  },
  {
   "cell_type": "code",
   "execution_count": 38,
   "metadata": {
    "collapsed": true
   },
   "outputs": [],
   "source": [
    "score[1,1] = 1"
   ]
  },
  {
   "cell_type": "code",
   "execution_count": 40,
   "metadata": {},
   "outputs": [],
   "source": [
    "for i in range(len(qos)):\n",
    "    for j in range(len(target)):\n",
    "        score[i,j] = mr.mutual_info_score(data.qos[qos[i]], data.target[target[j]])"
   ]
  },
  {
   "cell_type": "code",
   "execution_count": 53,
   "metadata": {},
   "outputs": [],
   "source": [
    "score_1 = score[:,0].tolist()\n",
    "rank1 = np.argsort(score_1)\n",
    "\n",
    "score_2 = score[:,1].tolist()\n",
    "rank2 = np.argsort(score_2)\n",
    "\n",
    "score_3 = score[:,2].tolist()\n",
    "rank3 = np.argsort(score_3)\n",
    "\n",
    "score_4 = score[:,3].tolist()\n",
    "rank4 = np.argsort(score_4)"
   ]
  },
  {
   "cell_type": "code",
   "execution_count": 55,
   "metadata": {},
   "outputs": [
    {
     "data": {
      "text/plain": [
       "array([18,  7,  6, 13, 14, 17, 12,  2,  1,  0, 16,  3,  8, 11,  4, 15,  9,\n",
       "        5, 10], dtype=int64)"
      ]
     },
     "execution_count": 55,
     "metadata": {},
     "output_type": "execute_result"
    }
   ],
   "source": [
    "rank1"
   ]
  },
  {
   "cell_type": "code",
   "execution_count": 56,
   "metadata": {},
   "outputs": [
    {
     "data": {
      "text/plain": [
       "array([18,  7,  6,  2, 13, 17, 12, 14,  1,  0, 16,  3,  8, 11, 15,  4,  9,\n",
       "        5, 10], dtype=int64)"
      ]
     },
     "execution_count": 56,
     "metadata": {},
     "output_type": "execute_result"
    }
   ],
   "source": [
    "rank2"
   ]
  },
  {
   "cell_type": "code",
   "execution_count": 57,
   "metadata": {},
   "outputs": [
    {
     "data": {
      "text/plain": [
       "array([18,  7,  6,  2, 13, 17, 14, 12,  1,  0, 16,  3,  8, 11,  4, 15,  9,\n",
       "        5, 10], dtype=int64)"
      ]
     },
     "execution_count": 57,
     "metadata": {},
     "output_type": "execute_result"
    }
   ],
   "source": [
    "rank3"
   ]
  },
  {
   "cell_type": "code",
   "execution_count": 58,
   "metadata": {},
   "outputs": [
    {
     "data": {
      "text/plain": [
       "array([18,  7,  6,  2, 13, 14, 17, 12,  1,  0, 16,  3,  8, 11,  4, 15,  9,\n",
       "        5, 10], dtype=int64)"
      ]
     },
     "execution_count": 58,
     "metadata": {},
     "output_type": "execute_result"
    }
   ],
   "source": [
    "rank4"
   ]
  },
  {
   "cell_type": "code",
   "execution_count": 72,
   "metadata": {
    "collapsed": true
   },
   "outputs": [],
   "source": [
    "column = [13, 14, 17, 12,  2,  1,  0, 16,  3,  8, 11,  4, 15,  9,  5, 10]\n",
    "choosen_feature = [qos[value] for index,value in enumerate(column)]"
   ]
  },
  {
   "cell_type": "code",
   "execution_count": 74,
   "metadata": {},
   "outputs": [],
   "source": [
    "choosen_feature = choosen_feature + target"
   ]
  },
  {
   "cell_type": "code",
   "execution_count": 77,
   "metadata": {},
   "outputs": [],
   "source": [
    "data_choosen = data[choosen_feature]"
   ]
  },
  {
   "cell_type": "code",
   "execution_count": 78,
   "metadata": {
    "collapsed": true
   },
   "outputs": [],
   "source": [
    "data_choosen.to_csv('E:\\\\备份\\\\训练数据汇总(8W)\\\\2019_4_11_after_feature_selection.csv')"
   ]
  },
  {
   "cell_type": "code",
   "execution_count": null,
   "metadata": {
    "collapsed": true
   },
   "outputs": [],
   "source": []
  }
 ],
 "metadata": {
  "kernelspec": {
   "display_name": "Python 3",
   "language": "python",
   "name": "python3"
  },
  "language_info": {
   "codemirror_mode": {
    "name": "ipython",
    "version": 3
   },
   "file_extension": ".py",
   "mimetype": "text/x-python",
   "name": "python",
   "nbconvert_exporter": "python",
   "pygments_lexer": "ipython3",
   "version": "3.5.2"
  }
 },
 "nbformat": 4,
 "nbformat_minor": 2
}
