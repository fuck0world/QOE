{
 "cells": [
  {
   "cell_type": "code",
   "execution_count": 7,
   "metadata": {
    "collapsed": true
   },
   "outputs": [],
   "source": [
    "from tensorflow.examples.tutorials.mnist import input_data\n",
    "import tensorflow as tf\n",
    "\n",
    "def compute_accuracy(v_x, v_y):\n",
    "    global prediction\n",
    "    #input v_x to nn and get the result with y_pre\n",
    "    y_pre = sess.run(prediction, feed_dict={x:v_x})\n",
    "    #find how many right\n",
    "    correct_prediction = tf.equal(tf.argmax(y_pre,1), tf.argmax(v_y,1))\n",
    "    #calculate average\n",
    "    accuracy = tf.reduce_mean(tf.cast(correct_prediction, tf.float32))\n",
    "    #get input content\n",
    "    result = sess.run(accuracy,feed_dict={x: v_x, y: v_y})\n",
    "    return result\n",
    "\n",
    "def add_layer(inputs, in_size, out_size, activation_function=None,):\n",
    "    #init w: a matric in x*y\n",
    "    Weights = tf.Variable(tf.random_normal([in_size, out_size]))\n",
    "    #init b: a matric in 1*y\n",
    "    biases = tf.Variable(tf.zeros([1, out_size]) + 0.1,)\n",
    "    #calculate the result\n",
    "    Wx_plus_b = tf.matmul(inputs, Weights) + biases\n",
    "    #add the active hanshu\n",
    "    if activation_function is None:\n",
    "        outputs = Wx_plus_b\n",
    "    else:\n",
    "        outputs = activation_function(Wx_plus_b,)\n",
    "    return outputs"
   ]
  },
  {
   "cell_type": "code",
   "execution_count": 8,
   "metadata": {},
   "outputs": [
    {
     "name": "stdout",
     "output_type": "stream",
     "text": [
      "Extracting MNIST_data/train-images-idx3-ubyte.gz\n",
      "Extracting MNIST_data/train-labels-idx1-ubyte.gz\n",
      "Extracting MNIST_data/t10k-images-idx3-ubyte.gz\n",
      "Extracting MNIST_data/t10k-labels-idx1-ubyte.gz\n",
      "0.0704\n",
      "0.6447\n",
      "0.7488\n",
      "0.7866\n",
      "0.8135\n",
      "0.824\n",
      "0.8347\n",
      "0.8432\n",
      "0.8419\n",
      "0.8526\n",
      "0.8509\n",
      "0.8585\n",
      "0.8577\n",
      "0.8611\n",
      "0.8656\n",
      "0.8657\n",
      "0.8708\n",
      "0.8729\n",
      "0.8731\n",
      "0.8748\n"
     ]
    }
   ],
   "source": [
    "#load mnist data\n",
    "mnist = input_data.read_data_sets(\"MNIST_data/\", one_hot=True)\n",
    "#define placeholder for input\n",
    "x = tf.placeholder(tf.float32, [None, 784])\n",
    "y = tf.placeholder(tf.float32, [None, 10])\n",
    "#add layer\n",
    "prediction = add_layer(x, 784, 10, activation_function=tf.nn.softmax)\n",
    "#calculate the loss\n",
    "cross_entropy = tf.reduce_mean(-tf.reduce_sum(y*tf.log(prediction), reduction_indices=[1]))\n",
    "#use Gradientdescentoptimizer\n",
    "train_step = tf.train.GradientDescentOptimizer(0.5).minimize(cross_entropy)\n",
    "#init session\n",
    "sess = tf.Session()\n",
    "#init all variables\n",
    "sess.run(tf.global_variables_initializer())\n",
    "#start training\n",
    "for i in range(1000):\n",
    "    #get batch to learn easily\n",
    "    batch_x, batch_y = mnist.train.next_batch(100)\n",
    "    sess.run(train_step,feed_dict={x: batch_x, y: batch_y})\n",
    "    if i % 50 == 0:\n",
    "        print(compute_accuracy(mnist.test.images, mnist.test.labels))"
   ]
  },
  {
   "cell_type": "code",
   "execution_count": null,
   "metadata": {
    "collapsed": true
   },
   "outputs": [],
   "source": []
  }
 ],
 "metadata": {
  "kernelspec": {
   "display_name": "Python 3",
   "language": "python",
   "name": "python3"
  },
  "language_info": {
   "codemirror_mode": {
    "name": "ipython",
    "version": 3
   },
   "file_extension": ".py",
   "mimetype": "text/x-python",
   "name": "python",
   "nbconvert_exporter": "python",
   "pygments_lexer": "ipython3",
   "version": "3.5.2"
  }
 },
 "nbformat": 4,
 "nbformat_minor": 2
}
