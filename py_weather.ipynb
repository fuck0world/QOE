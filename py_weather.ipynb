{
 "cells": [
  {
   "cell_type": "code",
   "execution_count": 1,
   "metadata": {},
   "outputs": [],
   "source": [
    "import json\n",
    "import requests\n",
    "import bs4"
   ]
  },
  {
   "cell_type": "code",
   "execution_count": 2,
   "metadata": {
    "collapsed": true
   },
   "outputs": [],
   "source": [
    "def get_html(url):\n",
    "    headers = {\n",
    "        'User-Agent':\n",
    "        'Mozilla/5.0 (Windows NT 10.0; WOW64) AppleWebKit/537.36 (KHTML, like Gecko) Chrome/51.0.2704.104 Safari/537.36',\n",
    "        'ContentType':\n",
    "        'text/html; charset=utf-8',\n",
    "        'Accept-Language':\n",
    "        'gzip, deflate, sdch',\n",
    "        'Accept-Language':\n",
    "        'zh-CN,zh;q=0.8',\n",
    "        'Connection':\n",
    "        'keep-alive',\n",
    "        }\n",
    " \n",
    "    try:\n",
    "        htmlcontent = requests.get(url, headers=headers, timeout=30)\n",
    "        htmlcontent.raise_for_status()\n",
    "        htmlcontent.encoding = 'utf-8'\n",
    "        return htmlcontent.text\n",
    "    except:\n",
    "        return \"请求失败！\"\n",
    " \n",
    " \n"
   ]
  },
  {
   "cell_type": "code",
   "execution_count": 3,
   "metadata": {
    "collapsed": true
   },
   "outputs": [],
   "source": [
    "def get_content(url):\n",
    "    weather_list = []\n",
    "    html = get_html(url)\n",
    "    soup = bs4.BeautifulSoup(html, 'lxml')\n",
    "    content_ul = soup.find('div', class_='t').find('ul', class_='clearfix').find_all('li')\n",
    "    for content in content_ul:\n",
    "        try:\n",
    "            weather = {}\n",
    "            weather['day'] = content.find('h1').text\n",
    "            weather['temperature'] = content.find('p', class_='tem').span.text + content.find('p', class_='tem').em.text\n",
    "            weather_list.append(weather)\n",
    "        except:\n",
    "            print('查询不到')\n",
    "    print(weather_list)\n",
    " \n",
    " "
   ]
  },
  {
   "cell_type": "code",
   "execution_count": 4,
   "metadata": {},
   "outputs": [
    {
     "name": "stdout",
     "output_type": "stream",
     "text": [
      "查询不到\n",
      "查询不到\n",
      "查询不到\n",
      "查询不到\n",
      "[{'temperature': '8°C', 'day': '21日白天'}, {'temperature': '4°C', 'day': '21日夜间'}]\n"
     ]
    }
   ],
   "source": [
    "if __name__ == '__main__':\n",
    "    url = 'http://www.weather.com.cn/weather1d/101190401.shtml'\n",
    "    get_content(url)"
   ]
  },
  {
   "cell_type": "code",
   "execution_count": null,
   "metadata": {
    "collapsed": true
   },
   "outputs": [],
   "source": []
  }
 ],
 "metadata": {
  "kernelspec": {
   "display_name": "Python 3",
   "language": "python",
   "name": "python3"
  },
  "language_info": {
   "codemirror_mode": {
    "name": "ipython",
    "version": 3
   },
   "file_extension": ".py",
   "mimetype": "text/x-python",
   "name": "python",
   "nbconvert_exporter": "python",
   "pygments_lexer": "ipython3",
   "version": "3.5.2"
  }
 },
 "nbformat": 4,
 "nbformat_minor": 2
}
