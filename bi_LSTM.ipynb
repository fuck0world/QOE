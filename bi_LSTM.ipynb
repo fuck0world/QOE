{
 "cells": [
  {
   "cell_type": "code",
   "execution_count": 1,
   "metadata": {},
   "outputs": [],
   "source": [
    "import sys \n",
    "import tensorflow as tf\n",
    "import numpy as np\n",
    "import pandas as pd\n",
    "from sklearn.metrics import  accuracy_score\n",
    "from sklearn.metrics import mean_squared_error\n",
    "from sklearn.preprocessing import MinMaxScaler\n",
    "from sklearn.preprocessing import OneHotEncoder\n",
    "from sklearn.model_selection import train_test_split\n",
    "from sklearn.preprocessing import StandardScaler\n",
    "\n",
    "data = pd.read_csv('E:\\\\备份\\\\训练数据汇总(8W)\\\\2019_4_15.csv')\n",
    "data = data.loc[:, ~data.columns.str.contains('^Unnamed')]\n",
    "\n",
    "name = ['PHONE_VERSION', 'VIDEO_CLARITY']\n",
    "columns = data.columns.values.tolist()\n",
    "name_1 = [name for index, name in enumerate(columns) if name != name[0] and name != name[1]]\n",
    "\n",
    "scaler = MinMaxScaler()\n",
    "X1 = data[name_1[0:16]]\n",
    "X1_data = scaler.fit_transform(X1)\n",
    "Y = data[name_1[16:21]]\n",
    "X2 = data[name[0]]\n",
    "X3 = data[name[1]]\n",
    "\n",
    "X2_data = OneHotEncoder().fit_transform(X2.values.reshape(-1, 1)).todense().getA()\n",
    "X3_data = OneHotEncoder().fit_transform(X3.values.reshape(-1, 1)).todense().getA()\n",
    "\n",
    "X_data = np.hstack((X1_data, X2_data, X3_data))\n",
    "\n",
    "Y1 = data[[name_1[16]]]\n",
    "Y2 = data[[name_1[17]]]\n",
    "Y3 = data[[name_1[18]]]\n",
    "Y4 = data[[name_1[19]]]\n",
    "\n",
    "X1_train, X1_test, y1_train, y1_test = train_test_split(X_data, Y1, test_size=0.25, random_state = 33)\n",
    "X2_train, X2_test, y2_train, y2_test = train_test_split(X_data, Y2, test_size=0.25, random_state = 33)\n",
    "X3_train, X3_test, y3_train, y3_test = train_test_split(X_data, Y3, test_size=0.25, random_state = 33)\n",
    "X4_train, X4_test, y4_train, y4_test = train_test_split(X_data, Y4, test_size=0.25, random_state = 33)\n",
    "\n",
    "y1_train = OneHotEncoder().fit_transform(y1_train.values.reshape(-1, 1)).todense().getA()\n",
    "y1_test_code = OneHotEncoder().fit_transform(y1_test.values.reshape(-1, 1)).todense().getA()\n",
    "\n",
    "def generatebatch(X,Y,n_examples, batch_size): \n",
    "    for batch_i in range(n_examples // batch_size): \n",
    "        start = batch_i * batch_size \n",
    "        end = start + batch_size \n",
    "        batch_xs = X[start:end] \n",
    "        batch_ys = Y[start:end] \n",
    "        yield batch_xs, batch_ys "
   ]
  },
  {
   "cell_type": "code",
   "execution_count": 2,
   "metadata": {
    "collapsed": true
   },
   "outputs": [],
   "source": [
    "def compute_accuracy(v_x, v_y):\n",
    "    global pred\n",
    "    #input v_x to nn and get the result with y_pre\n",
    "    y_pre = sess.run(pred, feed_dict={x:v_x})\n",
    "    #find how many right\n",
    "    correct_prediction = tf.equal(tf.argmax(y_pre,1), tf.argmax(v_y,1))\n",
    "    #calculate average\n",
    "    accuracy = tf.reduce_mean(tf.cast(correct_prediction, tf.float32))\n",
    "    #get input content\n",
    "    result = sess.run(accuracy,feed_dict={x: v_x, y: v_y})\n",
    "    return result\n",
    "\n",
    "def Bi_lstm(X):\n",
    "    lstm_f_cell = tf.contrib.rnn.BasicLSTMCell(n_hidden_units, forget_bias=1.0, state_is_tuple=True)\n",
    "    lstm_b_cell = tf.contrib.rnn.BasicLSTMCell(n_hidden_units, forget_bias=1.0, state_is_tuple=True)\n",
    "    return tf.contrib.rnn.static_bidirectional_rnn(lstm_f_cell, lstm_b_cell, X, dtype=tf.float32)\n",
    "\n",
    "def RNN(X,weights,biases):\n",
    "    # hidden layer for input\n",
    "    X = tf.reshape(X, [-1, n_inputs])\n",
    "    X_in = tf.matmul(X, weights['in']) + biases['in']\n",
    "\n",
    "    #reshape data put into bi-lstm cell\n",
    "    X_in = tf.reshape(X_in, [-1,n_steps, n_hidden_units])\n",
    "    X_in = tf.transpose(X_in, [1,0,2])\n",
    "    X_in = tf.reshape(X_in, [-1, n_hidden_units])\n",
    "    X_in = tf.split(X_in, n_steps)\n",
    "    outputs, _, _ = Bi_lstm(X_in)\n",
    "    \n",
    "    #hidden layer for output as the final results\n",
    "    results = tf.matmul(outputs[-1], weights['out']) + biases['out']\n",
    "\n",
    "    return results\n",
    "    \n",
    "# parameters init\n",
    "l_r = 0.001\n",
    "training_iters = 1000\n",
    "batch_size = 128\n",
    "\n",
    "n_inputs = 7\n",
    "n_steps = 4\n",
    "n_hidden_units = 128\n",
    "n_classes = 5\n",
    "\n",
    "#define placeholder for input\n",
    "x = tf.placeholder(tf.float32, [None, n_steps, n_inputs])\n",
    "y = tf.placeholder(tf.float32, [None, n_classes])\n",
    "\n",
    "# define w and b\n",
    "weights = {\n",
    "    'in': tf.Variable(tf.random_normal([n_inputs,n_hidden_units])),\n",
    "    'out': tf.Variable(tf.random_normal([2*n_hidden_units,n_classes]))\n",
    "}\n",
    "biases = {\n",
    "    'in': tf.Variable(tf.constant(0.1,shape=[n_hidden_units,])),\n",
    "    'out': tf.Variable(tf.constant(0.1,shape=[n_classes,]))\n",
    "}\n",
    "\n",
    "pred = RNN(x, weights, biases)\n",
    "cost = tf.reduce_mean(tf.nn.softmax_cross_entropy_with_logits(logits=pred,labels=y))\n",
    "train_op = tf.train.AdamOptimizer(l_r).minimize(cost)\n",
    "\n",
    "correct_pred = tf.equal(tf.argmax(pred,1),tf.argmax(y,1))\n",
    "accuracy = tf.reduce_mean(tf.cast(correct_pred, tf.float32))\n"
   ]
  },
  {
   "cell_type": "code",
   "execution_count": 3,
   "metadata": {},
   "outputs": [
    {
     "name": "stdout",
     "output_type": "stream",
     "text": [
      "0.765625\n",
      "0.765625\n",
      "0.804688\n",
      "0.78125\n",
      "0.789063\n",
      "0.8125\n",
      "0.820313\n",
      "0.84375\n",
      "0.835938\n",
      "0.820313\n",
      "0.804688\n",
      "0.867188\n",
      "0.882813\n",
      "0.867188\n",
      "0.90625\n",
      "0.898438\n",
      "0.859375\n",
      "0.882813\n",
      "0.835938\n",
      "0.875\n",
      "Testing Accuracy:  0.712261\n"
     ]
    }
   ],
   "source": [
    "#init session\n",
    "sess = tf.Session()\n",
    "#init all variables\n",
    "sess.run(tf.global_variables_initializer())\n",
    "#start training\n",
    "\n",
    "# x_image,x_label = mnist.test.next_batch(500)\n",
    "# x_image = x_image.reshape([500, n_steps, n_inputs])\n",
    "\n",
    "for i in range(1000):\n",
    "    for batch_xs,batch_ys in generatebatch(X1_train, y1_train, y1_train.shape[0], batch_size):\n",
    "        batch_xs = batch_xs.reshape([batch_size, n_steps, n_inputs])\n",
    "        sess.run(train_op,feed_dict={x: batch_xs, y: batch_ys})\n",
    "    if i % 50 == 0:\n",
    "        print(sess.run(accuracy,feed_dict={x: batch_xs, y: batch_ys,}))\n",
    "        \n",
    "test_data = X1_test.reshape([-1, n_steps, n_inputs])\n",
    "test_label = y1_test_code\n",
    "#print(\"Testing Accuracy:\", sess.run(accuracy, feed_dict={x: test_data, y: test_label}))\n",
    "print(\"Testing Accuracy: \", compute_accuracy(test_data, test_label))"
   ]
  },
  {
   "cell_type": "code",
   "execution_count": 12,
   "metadata": {
    "collapsed": true
   },
   "outputs": [],
   "source": [
    "y_pre = sess.run(pred, feed_dict={x:test_data})"
   ]
  },
  {
   "cell_type": "code",
   "execution_count": 34,
   "metadata": {},
   "outputs": [],
   "source": [
    "a = y_pre.argmax(axis = 1)"
   ]
  },
  {
   "cell_type": "code",
   "execution_count": 35,
   "metadata": {},
   "outputs": [],
   "source": [
    "b = a+1"
   ]
  },
  {
   "cell_type": "code",
   "execution_count": 36,
   "metadata": {},
   "outputs": [
    {
     "data": {
      "text/plain": [
       "Counter({1: 8, 2: 33, 3: 622, 4: 1265, 5: 10420})"
      ]
     },
     "execution_count": 36,
     "metadata": {},
     "output_type": "execute_result"
    }
   ],
   "source": [
    "from collections import Counter\n",
    "Counter(b.tolist())"
   ]
  },
  {
   "cell_type": "code",
   "execution_count": 43,
   "metadata": {},
   "outputs": [],
   "source": [
    "test = np.array(y1_test).tolist()"
   ]
  },
  {
   "cell_type": "code",
   "execution_count": 44,
   "metadata": {
    "collapsed": true
   },
   "outputs": [],
   "source": [
    "sum = 0\n",
    "for i in range(len(test)):\n",
    "    if test[i] == b[i]:\n",
    "        sum = sum + 1"
   ]
  },
  {
   "cell_type": "code",
   "execution_count": 46,
   "metadata": {},
   "outputs": [
    {
     "data": {
      "text/plain": [
       "0.7122610949141561"
      ]
     },
     "execution_count": 46,
     "metadata": {},
     "output_type": "execute_result"
    }
   ],
   "source": [
    "sum/len(test)"
   ]
  },
  {
   "cell_type": "code",
   "execution_count": null,
   "metadata": {
    "collapsed": true
   },
   "outputs": [],
   "source": []
  }
 ],
 "metadata": {
  "kernelspec": {
   "display_name": "Python 3",
   "language": "python",
   "name": "python3"
  },
  "language_info": {
   "codemirror_mode": {
    "name": "ipython",
    "version": 3
   },
   "file_extension": ".py",
   "mimetype": "text/x-python",
   "name": "python",
   "nbconvert_exporter": "python",
   "pygments_lexer": "ipython3",
   "version": "3.5.2"
  }
 },
 "nbformat": 4,
 "nbformat_minor": 2
}
