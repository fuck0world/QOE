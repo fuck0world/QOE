{
 "cells": [
  {
   "cell_type": "code",
   "execution_count": null,
   "metadata": {
    "collapsed": true
   },
   "outputs": [],
   "source": [
    "phone_brand = ['HUAWEI', 'IPHONE', 'XIAOMI', 'OPPO', 'SAMSUNG', 'VIVO', 'MEIZU', 'SMARTISAN']\n",
    "name = ['SCREEN_RESOLUTION_LONG','SCREEN_RESOLUTION_WIDTH','VIDEO_CLARITY','VIDEO_BITRATE',\n",
    "              'INITIAL_DELAY','INITIAL_DELAY_PEAK_RATE','VIDEO_STALLING_NUM','VIDEO_STALLING_TOTAL_TIME',\n",
    "              'VIDEO_TOTAL_TIME','VIDEO_PLAY_TOTAL_TIME','VIDEO_ALL_PEAK_RATE','VIDEO_AVERAGE_RATE',\n",
    "              'PHONE_ELECTRIC_START','PHONE_ELECTRIC_END','PHONE_VERSION','PING_AVG_RTT','PIXEL_NUMBER',\n",
    "              'BATTERY_LOSS','MEAN_STALLING_DURATION','ALL_DOWCLOAD_BIT','VIDEO_SIZE','error',\n",
    "              'USER_SCORE','ELOADING','ESTALLING','EVMOS']\n",
    "data['PHONE_VERSION'].loc[data['PHONE_VERSION'] == 'HUAWEI'] = 1\n",
    "data['PHONE_VERSION'].loc[data['PHONE_VERSION'] == 'IPHONE'] = 2\n",
    "data['PHONE_VERSION'].loc[data['PHONE_VERSION'] == 'XIAOMI'] = 3\n",
    "data['PHONE_VERSION'].loc[data['PHONE_VERSION'] == 'OPPO'] = 4\n",
    "data['PHONE_VERSION'].loc[data['PHONE_VERSION'] == 'SAMSUNG'] = 5\n",
    "data['PHONE_VERSION'].loc[data['PHONE_VERSION'] == 'VIVO'] = 6\n",
    "data['PHONE_VERSION'].loc[data['PHONE_VERSION'] == 'MEIZU'] = 7\n",
    "data['PHONE_VERSION'].loc[data['PHONE_VERSION'] == 'SMARTISAN'] = 8\n",
    "\n",
    "colormap = plt.cm.RdBu\n",
    "plt.figure(figsize=(20, 20))\n",
    "sns.heatmap(data.corr(), linewidth=0.1, vmax=1.0, square=True, cmap=colormap, linecolor='white', \n",
    "            annot=True)\n",
    "plt.show()"
   ]
  },
  {
   "cell_type": "code",
   "execution_count": 1,
   "metadata": {
    "collapsed": true
   },
   "outputs": [],
   "source": [
    "import pandas as pd\n",
    "import seaborn as sns\n",
    "import matplotlib.pyplot as plt\n",
    "data = pd.read_csv('E:\\\\备份\\\\训练数据汇总(8W)\\\\2019_4_10.csv')\n",
    "data = data.loc[:, ~data.columns.str.contains('^Unnamed')]\n"
   ]
  },
  {
   "cell_type": "code",
   "execution_count": 3,
   "metadata": {
    "collapsed": true
   },
   "outputs": [],
   "source": [
    "from sklearn.model_selection import train_test_split\n",
    "from sklearn.preprocessing import StandardScaler\n",
    "\n",
    "data.qos = data[['SCREEN_RESOLUTION_LONG','SCREEN_RESOLUTION_WIDTH','VIDEO_CLARITY','VIDEO_BITRATE',\n",
    "              'INITIAL_DELAY','INITIAL_DELAY_PEAK_RATE','VIDEO_STALLING_NUM','VIDEO_STALLING_TOTAL_TIME',\n",
    "              'VIDEO_TOTAL_TIME','VIDEO_PLAY_TOTAL_TIME','VIDEO_ALL_PEAK_RATE','VIDEO_AVERAGE_RATE',\n",
    "              'PHONE_ELECTRIC_START','PHONE_ELECTRIC_END','PHONE_VERSION', 'PING_AVG_RTT','PIXEL_NUMBER',\n",
    "              'BATTERY_LOSS','MEAN_STALLING_DURATION']]\n",
    "data.target = data[['USER_SCORE','ELOADING','ESTALLING','EVMOS']]\n",
    "X_train, X_test, y_train, y_test = train_test_split(data.qos, data.target, test_size=0.25, \n",
    "                                                    random_state=33)\n",
    "ss = StandardScaler()\n",
    "X_train = ss.fit_transform(X_train)\n",
    "X_test = ss.transform(X_test)"
   ]
  },
  {
   "cell_type": "code",
   "execution_count": 4,
   "metadata": {
    "collapsed": true
   },
   "outputs": [],
   "source": []
  },
  {
   "cell_type": "code",
   "execution_count": 12,
   "metadata": {
    "collapsed": true
   },
   "outputs": [],
   "source": [
    "from sklearn.neighbors import LocalOutlierFactor\n",
    "clf = LocalOutlierFactor(n_neighbors=20, algorithm='auto', contamination=0.1, n_jobs=-1)"
   ]
  },
  {
   "cell_type": "code",
   "execution_count": 13,
   "metadata": {},
   "outputs": [
    {
     "data": {
      "text/plain": [
       "LocalOutlierFactor(algorithm='auto', contamination=0.1, leaf_size=30,\n",
       "          metric='minkowski', metric_params=None, n_jobs=-1,\n",
       "          n_neighbors=20, p=2)"
      ]
     },
     "execution_count": 13,
     "metadata": {},
     "output_type": "execute_result"
    }
   ],
   "source": [
    "clf.fit(X_train)"
   ]
  },
  {
   "cell_type": "code",
   "execution_count": null,
   "metadata": {
    "collapsed": true
   },
   "outputs": [],
   "source": []
  }
 ],
 "metadata": {
  "kernelspec": {
   "display_name": "Python 3",
   "language": "python",
   "name": "python3"
  },
  "language_info": {
   "codemirror_mode": {
    "name": "ipython",
    "version": 3
   },
   "file_extension": ".py",
   "mimetype": "text/x-python",
   "name": "python",
   "nbconvert_exporter": "python",
   "pygments_lexer": "ipython3",
   "version": "3.5.2"
  }
 },
 "nbformat": 4,
 "nbformat_minor": 2
}
