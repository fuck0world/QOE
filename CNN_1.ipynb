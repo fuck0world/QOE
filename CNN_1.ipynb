{
 "cells": [
  {
   "cell_type": "code",
   "execution_count": 2,
   "metadata": {
    "collapsed": true
   },
   "outputs": [],
   "source": [
    "import tensorflow as tf\n",
    "from sklearn.datasets import load_digits\n",
    "import numpy as np\n",
    "import pandas as pd\n",
    "\n",
    "raw_datapath = 'E:\\\\code\\\\python\\\\qoe_model\\\\raw_data\\\\3w_data.csv'\n",
    "data = pd.read_csv(raw_datapath)\n",
    "\n",
    "\n",
    "column_names = ['InitialBufferTime', 'VideoPlayDuration','StallingRatio', 'VIDEO_BITRATE', 'VIDEO_CLARITY', 'VIDEO_ALL_PEAK_RATE', \n",
    "                'VIDEO_AVERAGE_RATE', 'USERBUFFERTIME', 'VIDEOSIZE', 'SCREEN_RESOLUTION_LONG', 'VIDEO_BUFFERING_PEAK_RATE', \n",
    "                'EVMOS', 'ELOADING', 'ESTALLING', 'USER_SCORE']\n",
    "\n",
    "#########################################################\n",
    "############ 将 name 列的离散数据进行编号 ###############\n",
    "#########################################################\n",
    "def class_normalization(name, X):\n",
    "    \n",
    "    # name不是list,是str\n",
    "    \n",
    "    a = X[name]\n",
    "    b = a.value_counts()\n",
    "    c = b.index\n",
    "\n",
    "    list1 = []\n",
    "    list2 = []\n",
    "    for i in range(len(c)):\n",
    "        list1.append(i)\n",
    "        list2.append(c[i])\n",
    "        \n",
    "    b = a.replace(list2, list1)\n",
    "    \n",
    "    data1 = X.drop([name], axis=1)\n",
    "    data1.insert(2, name, b)\n",
    "    \n",
    "    return data1\n",
    "\n",
    "##########################################################\n",
    "#################### 移除 name 列 ########################\n",
    "##########################################################\n",
    "def remove_col(name, all_name):\n",
    "    \n",
    "    list = []\n",
    "    for i in range(len(column_names)):\n",
    "        if column_names[i] != name:\n",
    "            list.append(column_names[i])\n",
    "    return list\n",
    "\n",
    "# 生成每一个batch\n",
    "def generatebatch(X,Y,n_examples, batch_size): \n",
    "    for batch_i in range(n_examples // batch_size): \n",
    "        start = batch_i * batch_size \n",
    "        end = start + batch_size \n",
    "        batch_xs = X[start:end] \n",
    "        batch_ys = Y[start:end] \n",
    "        yield batch_xs, batch_ys \n",
    "\n",
    "from sklearn.utils import shuffle\n",
    "\n",
    "name = 'VIDEO_CLARITY'\n",
    "data1 = class_normalization(name, data)\n",
    "data1 = shuffle(data1)\n",
    "data1 = data1.reset_index(drop = True)\n",
    "\n",
    "#X = data1[column_names[0:11]]\n",
    "X1 = data1[remove_col(name, column_names)]\n",
    "X2 = data1[[name]]\n",
    "\n",
    "Y = data1[column_names[11:15]]\n",
    "Y1 = data1[column_names[11]]\n",
    "\n",
    "from sklearn.preprocessing import MinMaxScaler\n",
    "from sklearn.preprocessing import OneHotEncoder\n",
    "\n",
    "scaler = MinMaxScaler()\n",
    "\n",
    "X1_data = scaler.fit_transform(X1)\n",
    "X2_data = OneHotEncoder().fit_transform(X2.values.reshape(-1, 1)).todense()\n",
    "X_data = np.hstack((X1_data, X2_data))\n",
    "\n",
    "[raw, col] = X_data.shape\n",
    "shape = 8*8\n",
    "X_zero = np.zeros([raw, shape - col])\n",
    "\n",
    "X_data = np.hstack((X1_data, X2_data, X_zero)).getA()\n",
    "\n",
    "#one-hot编码\n",
    "Y_data = OneHotEncoder().fit_transform(Y).todense().getA()\n",
    "Y1_data = OneHotEncoder().fit_transform(Y1.values.reshape(-1, 1)).todense().getA()\n",
    "\n",
    "from sklearn.model_selection import train_test_split\n",
    "# 随机采样25%的数据用于测试，剩下的75%用于构建训练集合。\n",
    "X_train, X_test, y_train, y_test = train_test_split(X_data, Y1_data, test_size=0.25, random_state=33)\n",
    "\n",
    "X_train = X_train.reshape(-1,8,8,1)\n",
    "X_test = X_test.reshape(-1,8,8,1)\n",
    "\n",
    "# 使用MBGD算法，设定batch_size为8\n",
    "batch_size = 8\n",
    " \n",
    "tf.reset_default_graph()"
   ]
  },
  {
   "cell_type": "code",
   "execution_count": 3,
   "metadata": {},
   "outputs": [],
   "source": [
    "# 输入层\n",
    "tf_X = tf.placeholder(tf.float32,[None,8,8,1])\n",
    "tf_Y = tf.placeholder(tf.float32,[None,5])\n",
    "\n",
    "# 卷积层+激活层 \n",
    "conv_filter_w1 = tf.Variable(tf.random_normal([3, 3, 1, 5])) \n",
    "conv_filter_b1 = tf.Variable(tf.random_normal([5])) \n",
    "relu_feature_maps1 = tf.nn.relu(tf.nn.conv2d(tf_X, conv_filter_w1,strides=[1, 1, 1, 1], padding='SAME') + conv_filter_b1)\n",
    "\n",
    "# 池化层\n",
    "max_pool1 = tf.nn.max_pool(relu_feature_maps1,ksize=[1,3,3,1],strides=[1,2,2,1],padding='SAME')\n",
    "\n",
    "# 卷积层 \n",
    "conv_filter_w2 = tf.Variable(tf.random_normal([3, 3, 5, 5])) \n",
    "conv_filter_b2 = tf.Variable(tf.random_normal([5])) \n",
    "conv_out2 = tf.nn.conv2d(relu_feature_maps1, conv_filter_w2,strides=[1, 2, 2, 1], padding='SAME') + conv_filter_b2 \n",
    "\n",
    "# BN归一化层+激活层 \n",
    "batch_mean, batch_var = tf.nn.moments(conv_out2, [0, 1, 2], keep_dims=True) \n",
    "shift = tf.Variable(tf.zeros([5])) \n",
    "scale = tf.Variable(tf.ones([5])) \n",
    "epsilon = 1e-3 \n",
    "BN_out = tf.nn.batch_normalization(conv_out2, batch_mean, batch_var, shift, scale, epsilon) \n",
    "relu_BN_maps2 = tf.nn.relu(BN_out)\n",
    "\n",
    "# 池化层\n",
    "max_pool2 = tf.nn.max_pool(relu_BN_maps2,ksize=[1,3,3,1],strides=[1,2,2,1],padding='SAME')\n",
    "\n",
    "# 将特征图进行展开\n",
    "max_pool2_flat = tf.reshape(max_pool2, [-1, 2*2*5])\n",
    "\n",
    "# 全连接层 \n",
    "fc_w1 = tf.Variable(tf.random_normal([2*2*5,50])) \n",
    "fc_b1 = tf.Variable(tf.random_normal([50])) \n",
    "fc_out1 = tf.nn.relu(tf.matmul(max_pool2_flat, fc_w1) + fc_b1)\n",
    "\n",
    "# 输出层 \n",
    "out_w1 = tf.Variable(tf.random_normal([50,5])) \n",
    "out_b1 = tf.Variable(tf.random_normal([5])) \n",
    "pred = tf.nn.softmax(tf.matmul(fc_out1, out_w1)+out_b1)"
   ]
  },
  {
   "cell_type": "code",
   "execution_count": 4,
   "metadata": {
    "collapsed": true
   },
   "outputs": [],
   "source": [
    "loss = -tf.reduce_mean(tf_Y*tf.log(tf.clip_by_value(pred,1e-11,1.0)))\n",
    "\n",
    "train_step = tf.train.AdamOptimizer(1e-3).minimize(loss)\n",
    "\n",
    "y_pred = tf.argmax(pred,1)\n",
    "bool_pred = tf.equal(tf.argmax(tf_Y,1),y_pred)\n",
    "# 准确率\n",
    "accuracy = tf.reduce_mean(tf.cast(bool_pred,tf.float32))"
   ]
  },
  {
   "cell_type": "code",
   "execution_count": null,
   "metadata": {},
   "outputs": [
    {
     "name": "stdout",
     "output_type": "stream",
     "text": [
      "(0, 0.86118013)\n"
     ]
    }
   ],
   "source": [
    "with tf.Session() as sess: \n",
    "    sess.run(tf.global_variables_initializer()) \n",
    "    for epoch in range(200): \n",
    "        # 迭代1000个周期 \n",
    "        for batch_xs,batch_ys in generatebatch(X_train,y_train,y_train.shape[0],batch_size): \n",
    "            # 每个周期进行MBGD算法 \n",
    "            sess.run(train_step, feed_dict={tf_X:batch_xs,tf_Y:batch_ys}) \n",
    "        if(epoch%100==0): \n",
    "            res = sess.run(accuracy,feed_dict={tf_X:X_train,tf_Y:y_train}) \n",
    "            print((epoch,res))\n",
    "    res_ypred = y_pred.eval(feed_dict={tf_X:X_test,tf_Y:y_test}).flatten() \n",
    "    # 只能预测一批样本，不能预测一个样本 \n",
    "    print(res_ypred)\n",
    "\n",
    "from sklearn.metrics import  accuracy_score\n",
    "print(accuracy_score(y_test, res_ypred.reshape(-1,1)))"
   ]
  },
  {
   "cell_type": "code",
   "execution_count": 5,
   "metadata": {},
   "outputs": [
    {
     "data": {
      "text/plain": [
       "array([[ 0.,  0.,  1.,  0.,  0.],\n",
       "       [ 0.,  0.,  0.,  0.,  1.],\n",
       "       [ 0.,  0.,  0.,  1.,  0.],\n",
       "       ..., \n",
       "       [ 0.,  0.,  0.,  0.,  1.],\n",
       "       [ 0.,  0.,  0.,  0.,  1.],\n",
       "       [ 0.,  0.,  0.,  0.,  1.]])"
      ]
     },
     "execution_count": 5,
     "metadata": {},
     "output_type": "execute_result"
    }
   ],
   "source": [
    "y_test"
   ]
  },
  {
   "cell_type": "code",
   "execution_count": 10,
   "metadata": {},
   "outputs": [
    {
     "data": {
      "text/plain": [
       "(7785, 1)"
      ]
     },
     "execution_count": 10,
     "metadata": {},
     "output_type": "execute_result"
    }
   ],
   "source": [
    "res_ypred.reshape(-1,1).shape"
   ]
  },
  {
   "cell_type": "code",
   "execution_count": null,
   "metadata": {
    "collapsed": true
   },
   "outputs": [],
   "source": []
  }
 ],
 "metadata": {
  "kernelspec": {
   "display_name": "Python 3",
   "language": "python",
   "name": "python3"
  },
  "language_info": {
   "codemirror_mode": {
    "name": "ipython",
    "version": 3
   },
   "file_extension": ".py",
   "mimetype": "text/x-python",
   "name": "python",
   "nbconvert_exporter": "python",
   "pygments_lexer": "ipython3",
   "version": "3.5.2"
  }
 },
 "nbformat": 4,
 "nbformat_minor": 2
}
